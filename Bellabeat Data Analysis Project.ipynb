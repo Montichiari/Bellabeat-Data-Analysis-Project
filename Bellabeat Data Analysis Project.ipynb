{
 "cells": [
  {
   "cell_type": "markdown",
   "id": "dce2d204",
   "metadata": {
    "papermill": {
     "duration": 0.013346,
     "end_time": "2023-04-16T18:21:45.937013",
     "exception": false,
     "start_time": "2023-04-16T18:21:45.923667",
     "status": "completed"
    },
    "tags": []
   },
   "source": [
    "# Bellabeat Capstone Project"
   ]
  },
  {
   "cell_type": "markdown",
   "id": "01329264",
   "metadata": {
    "papermill": {
     "duration": 0.013793,
     "end_time": "2023-04-16T18:21:45.963363",
     "exception": false,
     "start_time": "2023-04-16T18:21:45.949570",
     "status": "completed"
    },
    "tags": []
   },
   "source": [
    "# <h2>1. Summary</h2>\n",
    "\n",
    "Bellabeat is a small company that manufactures high-tech, health-focused products for women, and though successful, they have the potential to become a larger player in the global smart device market. In this case study, data from Fitbit users is **analysed using R** to provide insights into usage behaviour, and user and health profiles for wearable technology. These data-driven insights are then used to derive potential implementations for the consideration of the Bellabeat marketing team and executive committee that can guide their marketing strategy. Through data analysis, these recommendations will have basis grounded in the numbers and statistics of potential customers to be converted. \n"
   ]
  },
  {
   "cell_type": "markdown",
   "id": "9cffe16d",
   "metadata": {
    "papermill": {
     "duration": 0.012343,
     "end_time": "2023-04-16T18:21:45.988166",
     "exception": false,
     "start_time": "2023-04-16T18:21:45.975823",
     "status": "completed"
    },
    "tags": []
   },
   "source": [
    "## 2. Business Objective (Ask)\n",
    "\n",
    "### 2.1 Business Objective:\n",
    "Present high-level recommendations that will guide Bellabeat marketing strategy, with the aim of company growth, and capturing greater market share. These recommendations will be based on prescriptive analysis on user data to find current trends for usage of wearable technology.\n",
    "\n",
    "### 2.2 Key Stakeholders:\n",
    "1. Urška Sršen: Bellabeat’s cofounder and Chief Creative Officer\n",
    "2. Sando Mur: Mathematician and Bellabeat’s cofounder; key member of the Bellabeat executive team\n",
    "3. Bellabeat marketing analytics team"
   ]
  },
  {
   "cell_type": "markdown",
   "id": "458f13a3",
   "metadata": {
    "papermill": {
     "duration": 0.01227,
     "end_time": "2023-04-16T18:21:46.012634",
     "exception": false,
     "start_time": "2023-04-16T18:21:46.000364",
     "status": "completed"
    },
    "tags": []
   },
   "source": [
    "## 3. Prepare\n",
    "\n",
    "### 3.1 Dataset information:\n",
    "Dataset used: **FitBit Fitness Tracker Data**\n",
    "<br>\n",
    "Summary of dataset: \n",
    "* Sample size: 33 Fitbit users\n",
    "* Date recorded: 12 April 2016 - 12 May 2016 (1 month)\n",
    "* Date available: Published in 2021\n",
    "* Data content: Health metrics recorded by users' Fitbit devices, including activity, steps, calories, sleep, weight, etc.\n",
    "\n",
    "\n",
    "### 3.2 ROCCC:\n",
    "\n",
    "* Reliability: If the data were able to be verified, it would be reasonably reliable, as it contains factual data that FitBit devices recorded directly from their users. However, there is no way to verify the data. Additionally, there is no way to ascertain how the dataset was sampled, and thus, whether it is representative or not. **This is particularly pertinent as Bellabeat products target women almost exclusively.**\n",
    "\n",
    "* Originality: Not an original dataset as it is third-party data collected via Amazon Mechanical Turk, and by an unknown entity, and so it is impossible to validate the data with the original source.\n",
    "\n",
    "* Comprehensiveness: Though the data is comprehensive, with various health metric data like steps, calories burned, activity minutes, sleep, and weight, at daily, hourly, and down to minute level, it lacks crucial demographic data, such as age and gender of each user.\n",
    "\n",
    "* Current: This data was collected in 2016, making it outdated, and user trends and behaviours may have shifted away. Additionally Fitbit itself have updated the way they track active minutes, and other features to their devices.\n",
    "\n",
    "* Cited: No information on who was the original collector of the data, or for what purpose.\n",
    "\n",
    "### 3.3 Conclusion on dataset: \n",
    "\n",
    "As such, the relevance and credibility of the data is questionable, and in actual practice, analysis of this data should only be used to skim overarching trends, or to guide analysts towards which types of data/relationships might be best to focus on, once better datasets are available.  \n",
    "\n",
    "These datasets might include Bellabeat's first-party data on their own users, creating first-party surveys, or more current second or third-party data from market leaders such as Apple or Samsung.\n",
    "\n",
    "While these limitations are noted, for the purposes of this case study, the dataset will analysed for trends to find actionable insights, continued in the sections below."
   ]
  },
  {
   "cell_type": "markdown",
   "id": "c1394666",
   "metadata": {
    "papermill": {
     "duration": 0.012784,
     "end_time": "2023-04-16T18:21:46.037625",
     "exception": false,
     "start_time": "2023-04-16T18:21:46.024841",
     "status": "completed"
    },
    "tags": []
   },
   "source": [
    "## 4. Process\n",
    "\n",
    "First, relevant CSVs are loaded as dataframes, and the initial process of checking the data, cleaning datatype formats, and removing duplicates is done before further data transformation and analysis."
   ]
  },
  {
   "cell_type": "markdown",
   "id": "710b11ab",
   "metadata": {
    "papermill": {
     "duration": 0.012378,
     "end_time": "2023-04-16T18:21:46.062543",
     "exception": false,
     "start_time": "2023-04-16T18:21:46.050165",
     "status": "completed"
    },
    "tags": []
   },
   "source": [
    "### 4.1 Installing R Packages"
   ]
  },
  {
   "cell_type": "code",
   "execution_count": 1,
   "id": "04fb1313",
   "metadata": {
    "_kg_hide-output": true,
    "execution": {
     "iopub.execute_input": "2023-04-16T18:21:46.090348Z",
     "iopub.status.busy": "2023-04-16T18:21:46.088638Z",
     "iopub.status.idle": "2023-04-16T18:21:47.442640Z",
     "shell.execute_reply": "2023-04-16T18:21:47.441021Z"
    },
    "papermill": {
     "duration": 1.369594,
     "end_time": "2023-04-16T18:21:47.444347",
     "exception": false,
     "start_time": "2023-04-16T18:21:46.074753",
     "status": "completed"
    },
    "tags": []
   },
   "outputs": [
    {
     "name": "stderr",
     "output_type": "stream",
     "text": [
      "── \u001b[1mAttaching packages\u001b[22m ─────────────────────────────────────── tidyverse 1.3.2 ──\n",
      "\u001b[32m✔\u001b[39m \u001b[34mggplot2\u001b[39m 3.4.0      \u001b[32m✔\u001b[39m \u001b[34mpurrr  \u001b[39m 1.0.1 \n",
      "\u001b[32m✔\u001b[39m \u001b[34mtibble \u001b[39m 3.1.8      \u001b[32m✔\u001b[39m \u001b[34mdplyr  \u001b[39m 1.0.10\n",
      "\u001b[32m✔\u001b[39m \u001b[34mtidyr  \u001b[39m 1.2.1      \u001b[32m✔\u001b[39m \u001b[34mstringr\u001b[39m 1.5.0 \n",
      "\u001b[32m✔\u001b[39m \u001b[34mreadr  \u001b[39m 2.1.3      \u001b[32m✔\u001b[39m \u001b[34mforcats\u001b[39m 0.5.2 \n",
      "── \u001b[1mConflicts\u001b[22m ────────────────────────────────────────── tidyverse_conflicts() ──\n",
      "\u001b[31m✖\u001b[39m \u001b[34mdplyr\u001b[39m::\u001b[32mfilter()\u001b[39m masks \u001b[34mstats\u001b[39m::filter()\n",
      "\u001b[31m✖\u001b[39m \u001b[34mdplyr\u001b[39m::\u001b[32mlag()\u001b[39m    masks \u001b[34mstats\u001b[39m::lag()\n",
      "Loading required package: timechange\n",
      "\n",
      "\n",
      "Attaching package: ‘lubridate’\n",
      "\n",
      "\n",
      "The following objects are masked from ‘package:base’:\n",
      "\n",
      "    date, intersect, setdiff, union\n",
      "\n",
      "\n",
      "\n",
      "Attaching package: ‘janitor’\n",
      "\n",
      "\n",
      "The following objects are masked from ‘package:stats’:\n",
      "\n",
      "    chisq.test, fisher.test\n",
      "\n",
      "\n",
      "\n",
      "Attaching package: ‘scales’\n",
      "\n",
      "\n",
      "The following object is masked from ‘package:purrr’:\n",
      "\n",
      "    discard\n",
      "\n",
      "\n",
      "The following object is masked from ‘package:readr’:\n",
      "\n",
      "    col_factor\n",
      "\n",
      "\n"
     ]
    },
    {
     "data": {
      "text/html": [
       "'fitbit'"
      ],
      "text/latex": [
       "'fitbit'"
      ],
      "text/markdown": [
       "'fitbit'"
      ],
      "text/plain": [
       "[1] \"fitbit\""
      ]
     },
     "metadata": {},
     "output_type": "display_data"
    }
   ],
   "source": [
    "library(tidyverse)\n",
    "library(lubridate)\n",
    "library(skimr)\n",
    "library(janitor)\n",
    "library(dplyr)\n",
    "library(ggsci)\n",
    "library(stats)\n",
    "library(forcats)\n",
    "library(scales)\n",
    "list.files(path = \"../input\")"
   ]
  },
  {
   "cell_type": "markdown",
   "id": "9e7b7e78",
   "metadata": {
    "papermill": {
     "duration": 0.01335,
     "end_time": "2023-04-16T18:21:47.470965",
     "exception": false,
     "start_time": "2023-04-16T18:21:47.457615",
     "status": "completed"
    },
    "tags": []
   },
   "source": [
    "### 4.2 Loading CSVs\n",
    "Having had a cursory look at the data and metrics recorded in each CSV in the dataset using Excel, the following 3 CSVs were loaded for further analysis.\n",
    "<br>\n",
    "The 3 CSVs are:\n",
    "* daiAct <- Contains all activity data in daily date format. Includes total steps, distance travelled, intensity minutes broken down into 4 categories, and calories.\n",
    "\n",
    "* sleepDay <- Includes date of log, total minutes asleep, and total time in bed. \n",
    "\n",
    "* weight <- Weight logs, including datetime of log, weight, fat percent, BMI, manual report boolean, and log id.\n",
    "\n",
    "The other CSVs were either not relevant, or contained the same data, broken down into different time frames (hourly, minute, etc.)."
   ]
  },
  {
   "cell_type": "code",
   "execution_count": 2,
   "id": "fc699646",
   "metadata": {
    "execution": {
     "iopub.execute_input": "2023-04-16T18:21:47.531720Z",
     "iopub.status.busy": "2023-04-16T18:21:47.499310Z",
     "iopub.status.idle": "2023-04-16T18:21:47.872549Z",
     "shell.execute_reply": "2023-04-16T18:21:47.871165Z"
    },
    "papermill": {
     "duration": 0.39002,
     "end_time": "2023-04-16T18:21:47.874322",
     "exception": false,
     "start_time": "2023-04-16T18:21:47.484302",
     "status": "completed"
    },
    "tags": []
   },
   "outputs": [
    {
     "name": "stderr",
     "output_type": "stream",
     "text": [
      "\u001b[1mRows: \u001b[22m\u001b[34m940\u001b[39m \u001b[1mColumns: \u001b[22m\u001b[34m15\u001b[39m\n",
      "\u001b[36m──\u001b[39m \u001b[1mColumn specification\u001b[22m \u001b[36m────────────────────────────────────────────────────────\u001b[39m\n",
      "\u001b[1mDelimiter:\u001b[22m \",\"\n",
      "\u001b[31mchr\u001b[39m  (1): ActivityDate\n",
      "\u001b[32mdbl\u001b[39m (14): Id, TotalSteps, TotalDistance, TrackerDistance, LoggedActivitiesDi...\n",
      "\n",
      "\u001b[36mℹ\u001b[39m Use `spec()` to retrieve the full column specification for this data.\n",
      "\u001b[36mℹ\u001b[39m Specify the column types or set `show_col_types = FALSE` to quiet this message.\n",
      "\u001b[1mRows: \u001b[22m\u001b[34m413\u001b[39m \u001b[1mColumns: \u001b[22m\u001b[34m5\u001b[39m\n",
      "\u001b[36m──\u001b[39m \u001b[1mColumn specification\u001b[22m \u001b[36m────────────────────────────────────────────────────────\u001b[39m\n",
      "\u001b[1mDelimiter:\u001b[22m \",\"\n",
      "\u001b[31mchr\u001b[39m (1): SleepDay\n",
      "\u001b[32mdbl\u001b[39m (4): Id, TotalSleepRecords, TotalMinutesAsleep, TotalTimeInBed\n",
      "\n",
      "\u001b[36mℹ\u001b[39m Use `spec()` to retrieve the full column specification for this data.\n",
      "\u001b[36mℹ\u001b[39m Specify the column types or set `show_col_types = FALSE` to quiet this message.\n"
     ]
    }
   ],
   "source": [
    "#Having separately glanced through each table on Excel, I filter down to the following tables for analysis\n",
    "daiAct <- read_csv(\"/kaggle/input/fitbit/Fitabase Data 4.12.16-5.12.16/dailyActivity_merged.csv\")\n",
    "sleepDay <- read_csv(\"/kaggle/input/fitbit/Fitabase Data 4.12.16-5.12.16/sleepDay_merged.csv\")\n",
    "weight <- read.csv(\"/kaggle/input/fitbit/Fitabase Data 4.12.16-5.12.16/weightLogInfo_merged.csv\")"
   ]
  },
  {
   "cell_type": "code",
   "execution_count": 3,
   "id": "dfffd462",
   "metadata": {
    "execution": {
     "iopub.execute_input": "2023-04-16T18:21:47.904963Z",
     "iopub.status.busy": "2023-04-16T18:21:47.903664Z",
     "iopub.status.idle": "2023-04-16T18:21:47.955062Z",
     "shell.execute_reply": "2023-04-16T18:21:47.953739Z"
    },
    "papermill": {
     "duration": 0.069222,
     "end_time": "2023-04-16T18:21:47.957275",
     "exception": false,
     "start_time": "2023-04-16T18:21:47.888053",
     "status": "completed"
    },
    "tags": []
   },
   "outputs": [
    {
     "data": {
      "text/html": [
       "<table class=\"dataframe\">\n",
       "<caption>A tibble: 6 × 15</caption>\n",
       "<thead>\n",
       "\t<tr><th scope=col>Id</th><th scope=col>ActivityDate</th><th scope=col>TotalSteps</th><th scope=col>TotalDistance</th><th scope=col>TrackerDistance</th><th scope=col>LoggedActivitiesDistance</th><th scope=col>VeryActiveDistance</th><th scope=col>ModeratelyActiveDistance</th><th scope=col>LightActiveDistance</th><th scope=col>SedentaryActiveDistance</th><th scope=col>VeryActiveMinutes</th><th scope=col>FairlyActiveMinutes</th><th scope=col>LightlyActiveMinutes</th><th scope=col>SedentaryMinutes</th><th scope=col>Calories</th></tr>\n",
       "\t<tr><th scope=col>&lt;dbl&gt;</th><th scope=col>&lt;chr&gt;</th><th scope=col>&lt;dbl&gt;</th><th scope=col>&lt;dbl&gt;</th><th scope=col>&lt;dbl&gt;</th><th scope=col>&lt;dbl&gt;</th><th scope=col>&lt;dbl&gt;</th><th scope=col>&lt;dbl&gt;</th><th scope=col>&lt;dbl&gt;</th><th scope=col>&lt;dbl&gt;</th><th scope=col>&lt;dbl&gt;</th><th scope=col>&lt;dbl&gt;</th><th scope=col>&lt;dbl&gt;</th><th scope=col>&lt;dbl&gt;</th><th scope=col>&lt;dbl&gt;</th></tr>\n",
       "</thead>\n",
       "<tbody>\n",
       "\t<tr><td>1503960366</td><td>4/12/2016</td><td>13162</td><td>8.50</td><td>8.50</td><td>0</td><td>1.88</td><td>0.55</td><td>6.06</td><td>0</td><td>25</td><td>13</td><td>328</td><td> 728</td><td>1985</td></tr>\n",
       "\t<tr><td>1503960366</td><td>4/13/2016</td><td>10735</td><td>6.97</td><td>6.97</td><td>0</td><td>1.57</td><td>0.69</td><td>4.71</td><td>0</td><td>21</td><td>19</td><td>217</td><td> 776</td><td>1797</td></tr>\n",
       "\t<tr><td>1503960366</td><td>4/14/2016</td><td>10460</td><td>6.74</td><td>6.74</td><td>0</td><td>2.44</td><td>0.40</td><td>3.91</td><td>0</td><td>30</td><td>11</td><td>181</td><td>1218</td><td>1776</td></tr>\n",
       "\t<tr><td>1503960366</td><td>4/15/2016</td><td> 9762</td><td>6.28</td><td>6.28</td><td>0</td><td>2.14</td><td>1.26</td><td>2.83</td><td>0</td><td>29</td><td>34</td><td>209</td><td> 726</td><td>1745</td></tr>\n",
       "\t<tr><td>1503960366</td><td>4/16/2016</td><td>12669</td><td>8.16</td><td>8.16</td><td>0</td><td>2.71</td><td>0.41</td><td>5.04</td><td>0</td><td>36</td><td>10</td><td>221</td><td> 773</td><td>1863</td></tr>\n",
       "\t<tr><td>1503960366</td><td>4/17/2016</td><td> 9705</td><td>6.48</td><td>6.48</td><td>0</td><td>3.19</td><td>0.78</td><td>2.51</td><td>0</td><td>38</td><td>20</td><td>164</td><td> 539</td><td>1728</td></tr>\n",
       "</tbody>\n",
       "</table>\n"
      ],
      "text/latex": [
       "A tibble: 6 × 15\n",
       "\\begin{tabular}{lllllllllllllll}\n",
       " Id & ActivityDate & TotalSteps & TotalDistance & TrackerDistance & LoggedActivitiesDistance & VeryActiveDistance & ModeratelyActiveDistance & LightActiveDistance & SedentaryActiveDistance & VeryActiveMinutes & FairlyActiveMinutes & LightlyActiveMinutes & SedentaryMinutes & Calories\\\\\n",
       " <dbl> & <chr> & <dbl> & <dbl> & <dbl> & <dbl> & <dbl> & <dbl> & <dbl> & <dbl> & <dbl> & <dbl> & <dbl> & <dbl> & <dbl>\\\\\n",
       "\\hline\n",
       "\t 1503960366 & 4/12/2016 & 13162 & 8.50 & 8.50 & 0 & 1.88 & 0.55 & 6.06 & 0 & 25 & 13 & 328 &  728 & 1985\\\\\n",
       "\t 1503960366 & 4/13/2016 & 10735 & 6.97 & 6.97 & 0 & 1.57 & 0.69 & 4.71 & 0 & 21 & 19 & 217 &  776 & 1797\\\\\n",
       "\t 1503960366 & 4/14/2016 & 10460 & 6.74 & 6.74 & 0 & 2.44 & 0.40 & 3.91 & 0 & 30 & 11 & 181 & 1218 & 1776\\\\\n",
       "\t 1503960366 & 4/15/2016 &  9762 & 6.28 & 6.28 & 0 & 2.14 & 1.26 & 2.83 & 0 & 29 & 34 & 209 &  726 & 1745\\\\\n",
       "\t 1503960366 & 4/16/2016 & 12669 & 8.16 & 8.16 & 0 & 2.71 & 0.41 & 5.04 & 0 & 36 & 10 & 221 &  773 & 1863\\\\\n",
       "\t 1503960366 & 4/17/2016 &  9705 & 6.48 & 6.48 & 0 & 3.19 & 0.78 & 2.51 & 0 & 38 & 20 & 164 &  539 & 1728\\\\\n",
       "\\end{tabular}\n"
      ],
      "text/markdown": [
       "\n",
       "A tibble: 6 × 15\n",
       "\n",
       "| Id &lt;dbl&gt; | ActivityDate &lt;chr&gt; | TotalSteps &lt;dbl&gt; | TotalDistance &lt;dbl&gt; | TrackerDistance &lt;dbl&gt; | LoggedActivitiesDistance &lt;dbl&gt; | VeryActiveDistance &lt;dbl&gt; | ModeratelyActiveDistance &lt;dbl&gt; | LightActiveDistance &lt;dbl&gt; | SedentaryActiveDistance &lt;dbl&gt; | VeryActiveMinutes &lt;dbl&gt; | FairlyActiveMinutes &lt;dbl&gt; | LightlyActiveMinutes &lt;dbl&gt; | SedentaryMinutes &lt;dbl&gt; | Calories &lt;dbl&gt; |\n",
       "|---|---|---|---|---|---|---|---|---|---|---|---|---|---|---|\n",
       "| 1503960366 | 4/12/2016 | 13162 | 8.50 | 8.50 | 0 | 1.88 | 0.55 | 6.06 | 0 | 25 | 13 | 328 |  728 | 1985 |\n",
       "| 1503960366 | 4/13/2016 | 10735 | 6.97 | 6.97 | 0 | 1.57 | 0.69 | 4.71 | 0 | 21 | 19 | 217 |  776 | 1797 |\n",
       "| 1503960366 | 4/14/2016 | 10460 | 6.74 | 6.74 | 0 | 2.44 | 0.40 | 3.91 | 0 | 30 | 11 | 181 | 1218 | 1776 |\n",
       "| 1503960366 | 4/15/2016 |  9762 | 6.28 | 6.28 | 0 | 2.14 | 1.26 | 2.83 | 0 | 29 | 34 | 209 |  726 | 1745 |\n",
       "| 1503960366 | 4/16/2016 | 12669 | 8.16 | 8.16 | 0 | 2.71 | 0.41 | 5.04 | 0 | 36 | 10 | 221 |  773 | 1863 |\n",
       "| 1503960366 | 4/17/2016 |  9705 | 6.48 | 6.48 | 0 | 3.19 | 0.78 | 2.51 | 0 | 38 | 20 | 164 |  539 | 1728 |\n",
       "\n"
      ],
      "text/plain": [
       "  Id         ActivityDate TotalSteps TotalDistance TrackerDistance\n",
       "1 1503960366 4/12/2016    13162      8.50          8.50           \n",
       "2 1503960366 4/13/2016    10735      6.97          6.97           \n",
       "3 1503960366 4/14/2016    10460      6.74          6.74           \n",
       "4 1503960366 4/15/2016     9762      6.28          6.28           \n",
       "5 1503960366 4/16/2016    12669      8.16          8.16           \n",
       "6 1503960366 4/17/2016     9705      6.48          6.48           \n",
       "  LoggedActivitiesDistance VeryActiveDistance ModeratelyActiveDistance\n",
       "1 0                        1.88               0.55                    \n",
       "2 0                        1.57               0.69                    \n",
       "3 0                        2.44               0.40                    \n",
       "4 0                        2.14               1.26                    \n",
       "5 0                        2.71               0.41                    \n",
       "6 0                        3.19               0.78                    \n",
       "  LightActiveDistance SedentaryActiveDistance VeryActiveMinutes\n",
       "1 6.06                0                       25               \n",
       "2 4.71                0                       21               \n",
       "3 3.91                0                       30               \n",
       "4 2.83                0                       29               \n",
       "5 5.04                0                       36               \n",
       "6 2.51                0                       38               \n",
       "  FairlyActiveMinutes LightlyActiveMinutes SedentaryMinutes Calories\n",
       "1 13                  328                   728             1985    \n",
       "2 19                  217                   776             1797    \n",
       "3 11                  181                  1218             1776    \n",
       "4 34                  209                   726             1745    \n",
       "5 10                  221                   773             1863    \n",
       "6 20                  164                   539             1728    "
      ]
     },
     "metadata": {},
     "output_type": "display_data"
    },
    {
     "data": {
      "text/html": [
       "<table class=\"dataframe\">\n",
       "<caption>A tibble: 6 × 5</caption>\n",
       "<thead>\n",
       "\t<tr><th scope=col>Id</th><th scope=col>SleepDay</th><th scope=col>TotalSleepRecords</th><th scope=col>TotalMinutesAsleep</th><th scope=col>TotalTimeInBed</th></tr>\n",
       "\t<tr><th scope=col>&lt;dbl&gt;</th><th scope=col>&lt;chr&gt;</th><th scope=col>&lt;dbl&gt;</th><th scope=col>&lt;dbl&gt;</th><th scope=col>&lt;dbl&gt;</th></tr>\n",
       "</thead>\n",
       "<tbody>\n",
       "\t<tr><td>1503960366</td><td>4/12/2016 12:00:00 AM</td><td>1</td><td>327</td><td>346</td></tr>\n",
       "\t<tr><td>1503960366</td><td>4/13/2016 12:00:00 AM</td><td>2</td><td>384</td><td>407</td></tr>\n",
       "\t<tr><td>1503960366</td><td>4/15/2016 12:00:00 AM</td><td>1</td><td>412</td><td>442</td></tr>\n",
       "\t<tr><td>1503960366</td><td>4/16/2016 12:00:00 AM</td><td>2</td><td>340</td><td>367</td></tr>\n",
       "\t<tr><td>1503960366</td><td>4/17/2016 12:00:00 AM</td><td>1</td><td>700</td><td>712</td></tr>\n",
       "\t<tr><td>1503960366</td><td>4/19/2016 12:00:00 AM</td><td>1</td><td>304</td><td>320</td></tr>\n",
       "</tbody>\n",
       "</table>\n"
      ],
      "text/latex": [
       "A tibble: 6 × 5\n",
       "\\begin{tabular}{lllll}\n",
       " Id & SleepDay & TotalSleepRecords & TotalMinutesAsleep & TotalTimeInBed\\\\\n",
       " <dbl> & <chr> & <dbl> & <dbl> & <dbl>\\\\\n",
       "\\hline\n",
       "\t 1503960366 & 4/12/2016 12:00:00 AM & 1 & 327 & 346\\\\\n",
       "\t 1503960366 & 4/13/2016 12:00:00 AM & 2 & 384 & 407\\\\\n",
       "\t 1503960366 & 4/15/2016 12:00:00 AM & 1 & 412 & 442\\\\\n",
       "\t 1503960366 & 4/16/2016 12:00:00 AM & 2 & 340 & 367\\\\\n",
       "\t 1503960366 & 4/17/2016 12:00:00 AM & 1 & 700 & 712\\\\\n",
       "\t 1503960366 & 4/19/2016 12:00:00 AM & 1 & 304 & 320\\\\\n",
       "\\end{tabular}\n"
      ],
      "text/markdown": [
       "\n",
       "A tibble: 6 × 5\n",
       "\n",
       "| Id &lt;dbl&gt; | SleepDay &lt;chr&gt; | TotalSleepRecords &lt;dbl&gt; | TotalMinutesAsleep &lt;dbl&gt; | TotalTimeInBed &lt;dbl&gt; |\n",
       "|---|---|---|---|---|\n",
       "| 1503960366 | 4/12/2016 12:00:00 AM | 1 | 327 | 346 |\n",
       "| 1503960366 | 4/13/2016 12:00:00 AM | 2 | 384 | 407 |\n",
       "| 1503960366 | 4/15/2016 12:00:00 AM | 1 | 412 | 442 |\n",
       "| 1503960366 | 4/16/2016 12:00:00 AM | 2 | 340 | 367 |\n",
       "| 1503960366 | 4/17/2016 12:00:00 AM | 1 | 700 | 712 |\n",
       "| 1503960366 | 4/19/2016 12:00:00 AM | 1 | 304 | 320 |\n",
       "\n"
      ],
      "text/plain": [
       "  Id         SleepDay              TotalSleepRecords TotalMinutesAsleep\n",
       "1 1503960366 4/12/2016 12:00:00 AM 1                 327               \n",
       "2 1503960366 4/13/2016 12:00:00 AM 2                 384               \n",
       "3 1503960366 4/15/2016 12:00:00 AM 1                 412               \n",
       "4 1503960366 4/16/2016 12:00:00 AM 2                 340               \n",
       "5 1503960366 4/17/2016 12:00:00 AM 1                 700               \n",
       "6 1503960366 4/19/2016 12:00:00 AM 1                 304               \n",
       "  TotalTimeInBed\n",
       "1 346           \n",
       "2 407           \n",
       "3 442           \n",
       "4 367           \n",
       "5 712           \n",
       "6 320           "
      ]
     },
     "metadata": {},
     "output_type": "display_data"
    },
    {
     "data": {
      "text/html": [
       "<table class=\"dataframe\">\n",
       "<caption>A data.frame: 6 × 8</caption>\n",
       "<thead>\n",
       "\t<tr><th></th><th scope=col>Id</th><th scope=col>Date</th><th scope=col>WeightKg</th><th scope=col>WeightPounds</th><th scope=col>Fat</th><th scope=col>BMI</th><th scope=col>IsManualReport</th><th scope=col>LogId</th></tr>\n",
       "\t<tr><th></th><th scope=col>&lt;dbl&gt;</th><th scope=col>&lt;chr&gt;</th><th scope=col>&lt;dbl&gt;</th><th scope=col>&lt;dbl&gt;</th><th scope=col>&lt;int&gt;</th><th scope=col>&lt;dbl&gt;</th><th scope=col>&lt;chr&gt;</th><th scope=col>&lt;dbl&gt;</th></tr>\n",
       "</thead>\n",
       "<tbody>\n",
       "\t<tr><th scope=row>1</th><td>1503960366</td><td>5/2/2016 11:59:59 PM </td><td> 52.6</td><td>115.9631</td><td>22</td><td>22.65</td><td>True </td><td>1.462234e+12</td></tr>\n",
       "\t<tr><th scope=row>2</th><td>1503960366</td><td>5/3/2016 11:59:59 PM </td><td> 52.6</td><td>115.9631</td><td>NA</td><td>22.65</td><td>True </td><td>1.462320e+12</td></tr>\n",
       "\t<tr><th scope=row>3</th><td>1927972279</td><td>4/13/2016 1:08:52 AM </td><td>133.5</td><td>294.3171</td><td>NA</td><td>47.54</td><td>False</td><td>1.460510e+12</td></tr>\n",
       "\t<tr><th scope=row>4</th><td>2873212765</td><td>4/21/2016 11:59:59 PM</td><td> 56.7</td><td>125.0021</td><td>NA</td><td>21.45</td><td>True </td><td>1.461283e+12</td></tr>\n",
       "\t<tr><th scope=row>5</th><td>2873212765</td><td>5/12/2016 11:59:59 PM</td><td> 57.3</td><td>126.3249</td><td>NA</td><td>21.69</td><td>True </td><td>1.463098e+12</td></tr>\n",
       "\t<tr><th scope=row>6</th><td>4319703577</td><td>4/17/2016 11:59:59 PM</td><td> 72.4</td><td>159.6147</td><td>25</td><td>27.45</td><td>True </td><td>1.460938e+12</td></tr>\n",
       "</tbody>\n",
       "</table>\n"
      ],
      "text/latex": [
       "A data.frame: 6 × 8\n",
       "\\begin{tabular}{r|llllllll}\n",
       "  & Id & Date & WeightKg & WeightPounds & Fat & BMI & IsManualReport & LogId\\\\\n",
       "  & <dbl> & <chr> & <dbl> & <dbl> & <int> & <dbl> & <chr> & <dbl>\\\\\n",
       "\\hline\n",
       "\t1 & 1503960366 & 5/2/2016 11:59:59 PM  &  52.6 & 115.9631 & 22 & 22.65 & True  & 1.462234e+12\\\\\n",
       "\t2 & 1503960366 & 5/3/2016 11:59:59 PM  &  52.6 & 115.9631 & NA & 22.65 & True  & 1.462320e+12\\\\\n",
       "\t3 & 1927972279 & 4/13/2016 1:08:52 AM  & 133.5 & 294.3171 & NA & 47.54 & False & 1.460510e+12\\\\\n",
       "\t4 & 2873212765 & 4/21/2016 11:59:59 PM &  56.7 & 125.0021 & NA & 21.45 & True  & 1.461283e+12\\\\\n",
       "\t5 & 2873212765 & 5/12/2016 11:59:59 PM &  57.3 & 126.3249 & NA & 21.69 & True  & 1.463098e+12\\\\\n",
       "\t6 & 4319703577 & 4/17/2016 11:59:59 PM &  72.4 & 159.6147 & 25 & 27.45 & True  & 1.460938e+12\\\\\n",
       "\\end{tabular}\n"
      ],
      "text/markdown": [
       "\n",
       "A data.frame: 6 × 8\n",
       "\n",
       "| <!--/--> | Id &lt;dbl&gt; | Date &lt;chr&gt; | WeightKg &lt;dbl&gt; | WeightPounds &lt;dbl&gt; | Fat &lt;int&gt; | BMI &lt;dbl&gt; | IsManualReport &lt;chr&gt; | LogId &lt;dbl&gt; |\n",
       "|---|---|---|---|---|---|---|---|---|\n",
       "| 1 | 1503960366 | 5/2/2016 11:59:59 PM  |  52.6 | 115.9631 | 22 | 22.65 | True  | 1.462234e+12 |\n",
       "| 2 | 1503960366 | 5/3/2016 11:59:59 PM  |  52.6 | 115.9631 | NA | 22.65 | True  | 1.462320e+12 |\n",
       "| 3 | 1927972279 | 4/13/2016 1:08:52 AM  | 133.5 | 294.3171 | NA | 47.54 | False | 1.460510e+12 |\n",
       "| 4 | 2873212765 | 4/21/2016 11:59:59 PM |  56.7 | 125.0021 | NA | 21.45 | True  | 1.461283e+12 |\n",
       "| 5 | 2873212765 | 5/12/2016 11:59:59 PM |  57.3 | 126.3249 | NA | 21.69 | True  | 1.463098e+12 |\n",
       "| 6 | 4319703577 | 4/17/2016 11:59:59 PM |  72.4 | 159.6147 | 25 | 27.45 | True  | 1.460938e+12 |\n",
       "\n"
      ],
      "text/plain": [
       "  Id         Date                  WeightKg WeightPounds Fat BMI  \n",
       "1 1503960366 5/2/2016 11:59:59 PM   52.6    115.9631     22  22.65\n",
       "2 1503960366 5/3/2016 11:59:59 PM   52.6    115.9631     NA  22.65\n",
       "3 1927972279 4/13/2016 1:08:52 AM  133.5    294.3171     NA  47.54\n",
       "4 2873212765 4/21/2016 11:59:59 PM  56.7    125.0021     NA  21.45\n",
       "5 2873212765 5/12/2016 11:59:59 PM  57.3    126.3249     NA  21.69\n",
       "6 4319703577 4/17/2016 11:59:59 PM  72.4    159.6147     25  27.45\n",
       "  IsManualReport LogId       \n",
       "1 True           1.462234e+12\n",
       "2 True           1.462320e+12\n",
       "3 False          1.460510e+12\n",
       "4 True           1.461283e+12\n",
       "5 True           1.463098e+12\n",
       "6 True           1.460938e+12"
      ]
     },
     "metadata": {},
     "output_type": "display_data"
    }
   ],
   "source": [
    "#Quick glance at each table again, to identify which data/columns might potentially need cleaning\n",
    "head(daiAct)\n",
    "head(sleepDay)\n",
    "head(weight)"
   ]
  },
  {
   "cell_type": "markdown",
   "id": "129e0aba",
   "metadata": {
    "papermill": {
     "duration": 0.013421,
     "end_time": "2023-04-16T18:21:47.984656",
     "exception": false,
     "start_time": "2023-04-16T18:21:47.971235",
     "status": "completed"
    },
    "tags": []
   },
   "source": [
    "### 4.3 Cleaning up date, time, and Id formats"
   ]
  },
  {
   "cell_type": "code",
   "execution_count": 4,
   "id": "02ad7542",
   "metadata": {
    "execution": {
     "iopub.execute_input": "2023-04-16T18:21:48.015695Z",
     "iopub.status.busy": "2023-04-16T18:21:48.014537Z",
     "iopub.status.idle": "2023-04-16T18:21:48.032006Z",
     "shell.execute_reply": "2023-04-16T18:21:48.030704Z"
    },
    "papermill": {
     "duration": 0.035271,
     "end_time": "2023-04-16T18:21:48.034305",
     "exception": false,
     "start_time": "2023-04-16T18:21:47.999034",
     "status": "completed"
    },
    "tags": []
   },
   "outputs": [],
   "source": [
    "#Cleaning up date and time formats, and creating additional columns for the hourly data to split date and time\n",
    "daiAct$ActivityDate = as.Date(daiAct$ActivityDate, format = \"%m/%d/%Y\")\n",
    "\n",
    "sleepDay$SleepDay = as.Date(sleepDay$SleepDay, format = \"%m/%d/%Y\")\n",
    "\n",
    "weight$Date = as.POSIXct(weight$Date, format=\"%m/%d/%Y %I:%M:%S %p\", tz=Sys.timezone())\n",
    "weight$date = as.Date(weight$Date, format = \"%m/%d/%y\")"
   ]
  },
  {
   "cell_type": "code",
   "execution_count": 5,
   "id": "7f969c42",
   "metadata": {
    "execution": {
     "iopub.execute_input": "2023-04-16T18:21:48.064785Z",
     "iopub.status.busy": "2023-04-16T18:21:48.063402Z",
     "iopub.status.idle": "2023-04-16T18:21:48.100574Z",
     "shell.execute_reply": "2023-04-16T18:21:48.099109Z"
    },
    "papermill": {
     "duration": 0.054973,
     "end_time": "2023-04-16T18:21:48.103077",
     "exception": false,
     "start_time": "2023-04-16T18:21:48.048104",
     "status": "completed"
    },
    "tags": []
   },
   "outputs": [],
   "source": [
    "#Changing \"Id\" format into characters\n",
    "daiAct <- daiAct %>% \n",
    "  mutate(Id = as.character(Id))\n",
    "\n",
    "sleepDay <- sleepDay %>% \n",
    "  mutate(Id = as.character(Id))\n",
    "\n",
    "weight <- weight %>% \n",
    "  mutate(Id = as.character(Id))"
   ]
  },
  {
   "cell_type": "code",
   "execution_count": 6,
   "id": "44abb019",
   "metadata": {
    "execution": {
     "iopub.execute_input": "2023-04-16T18:21:48.133110Z",
     "iopub.status.busy": "2023-04-16T18:21:48.131807Z",
     "iopub.status.idle": "2023-04-16T18:21:48.184853Z",
     "shell.execute_reply": "2023-04-16T18:21:48.183446Z"
    },
    "papermill": {
     "duration": 0.069699,
     "end_time": "2023-04-16T18:21:48.186558",
     "exception": false,
     "start_time": "2023-04-16T18:21:48.116859",
     "status": "completed"
    },
    "tags": []
   },
   "outputs": [
    {
     "data": {
      "text/html": [
       "<table class=\"dataframe\">\n",
       "<caption>A tibble: 6 × 15</caption>\n",
       "<thead>\n",
       "\t<tr><th scope=col>Id</th><th scope=col>ActivityDate</th><th scope=col>TotalSteps</th><th scope=col>TotalDistance</th><th scope=col>TrackerDistance</th><th scope=col>LoggedActivitiesDistance</th><th scope=col>VeryActiveDistance</th><th scope=col>ModeratelyActiveDistance</th><th scope=col>LightActiveDistance</th><th scope=col>SedentaryActiveDistance</th><th scope=col>VeryActiveMinutes</th><th scope=col>FairlyActiveMinutes</th><th scope=col>LightlyActiveMinutes</th><th scope=col>SedentaryMinutes</th><th scope=col>Calories</th></tr>\n",
       "\t<tr><th scope=col>&lt;chr&gt;</th><th scope=col>&lt;date&gt;</th><th scope=col>&lt;dbl&gt;</th><th scope=col>&lt;dbl&gt;</th><th scope=col>&lt;dbl&gt;</th><th scope=col>&lt;dbl&gt;</th><th scope=col>&lt;dbl&gt;</th><th scope=col>&lt;dbl&gt;</th><th scope=col>&lt;dbl&gt;</th><th scope=col>&lt;dbl&gt;</th><th scope=col>&lt;dbl&gt;</th><th scope=col>&lt;dbl&gt;</th><th scope=col>&lt;dbl&gt;</th><th scope=col>&lt;dbl&gt;</th><th scope=col>&lt;dbl&gt;</th></tr>\n",
       "</thead>\n",
       "<tbody>\n",
       "\t<tr><td>1503960366</td><td>2016-04-12</td><td>13162</td><td>8.50</td><td>8.50</td><td>0</td><td>1.88</td><td>0.55</td><td>6.06</td><td>0</td><td>25</td><td>13</td><td>328</td><td> 728</td><td>1985</td></tr>\n",
       "\t<tr><td>1503960366</td><td>2016-04-13</td><td>10735</td><td>6.97</td><td>6.97</td><td>0</td><td>1.57</td><td>0.69</td><td>4.71</td><td>0</td><td>21</td><td>19</td><td>217</td><td> 776</td><td>1797</td></tr>\n",
       "\t<tr><td>1503960366</td><td>2016-04-14</td><td>10460</td><td>6.74</td><td>6.74</td><td>0</td><td>2.44</td><td>0.40</td><td>3.91</td><td>0</td><td>30</td><td>11</td><td>181</td><td>1218</td><td>1776</td></tr>\n",
       "\t<tr><td>1503960366</td><td>2016-04-15</td><td> 9762</td><td>6.28</td><td>6.28</td><td>0</td><td>2.14</td><td>1.26</td><td>2.83</td><td>0</td><td>29</td><td>34</td><td>209</td><td> 726</td><td>1745</td></tr>\n",
       "\t<tr><td>1503960366</td><td>2016-04-16</td><td>12669</td><td>8.16</td><td>8.16</td><td>0</td><td>2.71</td><td>0.41</td><td>5.04</td><td>0</td><td>36</td><td>10</td><td>221</td><td> 773</td><td>1863</td></tr>\n",
       "\t<tr><td>1503960366</td><td>2016-04-17</td><td> 9705</td><td>6.48</td><td>6.48</td><td>0</td><td>3.19</td><td>0.78</td><td>2.51</td><td>0</td><td>38</td><td>20</td><td>164</td><td> 539</td><td>1728</td></tr>\n",
       "</tbody>\n",
       "</table>\n"
      ],
      "text/latex": [
       "A tibble: 6 × 15\n",
       "\\begin{tabular}{lllllllllllllll}\n",
       " Id & ActivityDate & TotalSteps & TotalDistance & TrackerDistance & LoggedActivitiesDistance & VeryActiveDistance & ModeratelyActiveDistance & LightActiveDistance & SedentaryActiveDistance & VeryActiveMinutes & FairlyActiveMinutes & LightlyActiveMinutes & SedentaryMinutes & Calories\\\\\n",
       " <chr> & <date> & <dbl> & <dbl> & <dbl> & <dbl> & <dbl> & <dbl> & <dbl> & <dbl> & <dbl> & <dbl> & <dbl> & <dbl> & <dbl>\\\\\n",
       "\\hline\n",
       "\t 1503960366 & 2016-04-12 & 13162 & 8.50 & 8.50 & 0 & 1.88 & 0.55 & 6.06 & 0 & 25 & 13 & 328 &  728 & 1985\\\\\n",
       "\t 1503960366 & 2016-04-13 & 10735 & 6.97 & 6.97 & 0 & 1.57 & 0.69 & 4.71 & 0 & 21 & 19 & 217 &  776 & 1797\\\\\n",
       "\t 1503960366 & 2016-04-14 & 10460 & 6.74 & 6.74 & 0 & 2.44 & 0.40 & 3.91 & 0 & 30 & 11 & 181 & 1218 & 1776\\\\\n",
       "\t 1503960366 & 2016-04-15 &  9762 & 6.28 & 6.28 & 0 & 2.14 & 1.26 & 2.83 & 0 & 29 & 34 & 209 &  726 & 1745\\\\\n",
       "\t 1503960366 & 2016-04-16 & 12669 & 8.16 & 8.16 & 0 & 2.71 & 0.41 & 5.04 & 0 & 36 & 10 & 221 &  773 & 1863\\\\\n",
       "\t 1503960366 & 2016-04-17 &  9705 & 6.48 & 6.48 & 0 & 3.19 & 0.78 & 2.51 & 0 & 38 & 20 & 164 &  539 & 1728\\\\\n",
       "\\end{tabular}\n"
      ],
      "text/markdown": [
       "\n",
       "A tibble: 6 × 15\n",
       "\n",
       "| Id &lt;chr&gt; | ActivityDate &lt;date&gt; | TotalSteps &lt;dbl&gt; | TotalDistance &lt;dbl&gt; | TrackerDistance &lt;dbl&gt; | LoggedActivitiesDistance &lt;dbl&gt; | VeryActiveDistance &lt;dbl&gt; | ModeratelyActiveDistance &lt;dbl&gt; | LightActiveDistance &lt;dbl&gt; | SedentaryActiveDistance &lt;dbl&gt; | VeryActiveMinutes &lt;dbl&gt; | FairlyActiveMinutes &lt;dbl&gt; | LightlyActiveMinutes &lt;dbl&gt; | SedentaryMinutes &lt;dbl&gt; | Calories &lt;dbl&gt; |\n",
       "|---|---|---|---|---|---|---|---|---|---|---|---|---|---|---|\n",
       "| 1503960366 | 2016-04-12 | 13162 | 8.50 | 8.50 | 0 | 1.88 | 0.55 | 6.06 | 0 | 25 | 13 | 328 |  728 | 1985 |\n",
       "| 1503960366 | 2016-04-13 | 10735 | 6.97 | 6.97 | 0 | 1.57 | 0.69 | 4.71 | 0 | 21 | 19 | 217 |  776 | 1797 |\n",
       "| 1503960366 | 2016-04-14 | 10460 | 6.74 | 6.74 | 0 | 2.44 | 0.40 | 3.91 | 0 | 30 | 11 | 181 | 1218 | 1776 |\n",
       "| 1503960366 | 2016-04-15 |  9762 | 6.28 | 6.28 | 0 | 2.14 | 1.26 | 2.83 | 0 | 29 | 34 | 209 |  726 | 1745 |\n",
       "| 1503960366 | 2016-04-16 | 12669 | 8.16 | 8.16 | 0 | 2.71 | 0.41 | 5.04 | 0 | 36 | 10 | 221 |  773 | 1863 |\n",
       "| 1503960366 | 2016-04-17 |  9705 | 6.48 | 6.48 | 0 | 3.19 | 0.78 | 2.51 | 0 | 38 | 20 | 164 |  539 | 1728 |\n",
       "\n"
      ],
      "text/plain": [
       "  Id         ActivityDate TotalSteps TotalDistance TrackerDistance\n",
       "1 1503960366 2016-04-12   13162      8.50          8.50           \n",
       "2 1503960366 2016-04-13   10735      6.97          6.97           \n",
       "3 1503960366 2016-04-14   10460      6.74          6.74           \n",
       "4 1503960366 2016-04-15    9762      6.28          6.28           \n",
       "5 1503960366 2016-04-16   12669      8.16          8.16           \n",
       "6 1503960366 2016-04-17    9705      6.48          6.48           \n",
       "  LoggedActivitiesDistance VeryActiveDistance ModeratelyActiveDistance\n",
       "1 0                        1.88               0.55                    \n",
       "2 0                        1.57               0.69                    \n",
       "3 0                        2.44               0.40                    \n",
       "4 0                        2.14               1.26                    \n",
       "5 0                        2.71               0.41                    \n",
       "6 0                        3.19               0.78                    \n",
       "  LightActiveDistance SedentaryActiveDistance VeryActiveMinutes\n",
       "1 6.06                0                       25               \n",
       "2 4.71                0                       21               \n",
       "3 3.91                0                       30               \n",
       "4 2.83                0                       29               \n",
       "5 5.04                0                       36               \n",
       "6 2.51                0                       38               \n",
       "  FairlyActiveMinutes LightlyActiveMinutes SedentaryMinutes Calories\n",
       "1 13                  328                   728             1985    \n",
       "2 19                  217                   776             1797    \n",
       "3 11                  181                  1218             1776    \n",
       "4 34                  209                   726             1745    \n",
       "5 10                  221                   773             1863    \n",
       "6 20                  164                   539             1728    "
      ]
     },
     "metadata": {},
     "output_type": "display_data"
    },
    {
     "data": {
      "text/html": [
       "<table class=\"dataframe\">\n",
       "<caption>A tibble: 6 × 5</caption>\n",
       "<thead>\n",
       "\t<tr><th scope=col>Id</th><th scope=col>SleepDay</th><th scope=col>TotalSleepRecords</th><th scope=col>TotalMinutesAsleep</th><th scope=col>TotalTimeInBed</th></tr>\n",
       "\t<tr><th scope=col>&lt;chr&gt;</th><th scope=col>&lt;date&gt;</th><th scope=col>&lt;dbl&gt;</th><th scope=col>&lt;dbl&gt;</th><th scope=col>&lt;dbl&gt;</th></tr>\n",
       "</thead>\n",
       "<tbody>\n",
       "\t<tr><td>1503960366</td><td>2016-04-12</td><td>1</td><td>327</td><td>346</td></tr>\n",
       "\t<tr><td>1503960366</td><td>2016-04-13</td><td>2</td><td>384</td><td>407</td></tr>\n",
       "\t<tr><td>1503960366</td><td>2016-04-15</td><td>1</td><td>412</td><td>442</td></tr>\n",
       "\t<tr><td>1503960366</td><td>2016-04-16</td><td>2</td><td>340</td><td>367</td></tr>\n",
       "\t<tr><td>1503960366</td><td>2016-04-17</td><td>1</td><td>700</td><td>712</td></tr>\n",
       "\t<tr><td>1503960366</td><td>2016-04-19</td><td>1</td><td>304</td><td>320</td></tr>\n",
       "</tbody>\n",
       "</table>\n"
      ],
      "text/latex": [
       "A tibble: 6 × 5\n",
       "\\begin{tabular}{lllll}\n",
       " Id & SleepDay & TotalSleepRecords & TotalMinutesAsleep & TotalTimeInBed\\\\\n",
       " <chr> & <date> & <dbl> & <dbl> & <dbl>\\\\\n",
       "\\hline\n",
       "\t 1503960366 & 2016-04-12 & 1 & 327 & 346\\\\\n",
       "\t 1503960366 & 2016-04-13 & 2 & 384 & 407\\\\\n",
       "\t 1503960366 & 2016-04-15 & 1 & 412 & 442\\\\\n",
       "\t 1503960366 & 2016-04-16 & 2 & 340 & 367\\\\\n",
       "\t 1503960366 & 2016-04-17 & 1 & 700 & 712\\\\\n",
       "\t 1503960366 & 2016-04-19 & 1 & 304 & 320\\\\\n",
       "\\end{tabular}\n"
      ],
      "text/markdown": [
       "\n",
       "A tibble: 6 × 5\n",
       "\n",
       "| Id &lt;chr&gt; | SleepDay &lt;date&gt; | TotalSleepRecords &lt;dbl&gt; | TotalMinutesAsleep &lt;dbl&gt; | TotalTimeInBed &lt;dbl&gt; |\n",
       "|---|---|---|---|---|\n",
       "| 1503960366 | 2016-04-12 | 1 | 327 | 346 |\n",
       "| 1503960366 | 2016-04-13 | 2 | 384 | 407 |\n",
       "| 1503960366 | 2016-04-15 | 1 | 412 | 442 |\n",
       "| 1503960366 | 2016-04-16 | 2 | 340 | 367 |\n",
       "| 1503960366 | 2016-04-17 | 1 | 700 | 712 |\n",
       "| 1503960366 | 2016-04-19 | 1 | 304 | 320 |\n",
       "\n"
      ],
      "text/plain": [
       "  Id         SleepDay   TotalSleepRecords TotalMinutesAsleep TotalTimeInBed\n",
       "1 1503960366 2016-04-12 1                 327                346           \n",
       "2 1503960366 2016-04-13 2                 384                407           \n",
       "3 1503960366 2016-04-15 1                 412                442           \n",
       "4 1503960366 2016-04-16 2                 340                367           \n",
       "5 1503960366 2016-04-17 1                 700                712           \n",
       "6 1503960366 2016-04-19 1                 304                320           "
      ]
     },
     "metadata": {},
     "output_type": "display_data"
    },
    {
     "data": {
      "text/html": [
       "<table class=\"dataframe\">\n",
       "<caption>A data.frame: 6 × 9</caption>\n",
       "<thead>\n",
       "\t<tr><th></th><th scope=col>Id</th><th scope=col>Date</th><th scope=col>WeightKg</th><th scope=col>WeightPounds</th><th scope=col>Fat</th><th scope=col>BMI</th><th scope=col>IsManualReport</th><th scope=col>LogId</th><th scope=col>date</th></tr>\n",
       "\t<tr><th></th><th scope=col>&lt;chr&gt;</th><th scope=col>&lt;dttm&gt;</th><th scope=col>&lt;dbl&gt;</th><th scope=col>&lt;dbl&gt;</th><th scope=col>&lt;int&gt;</th><th scope=col>&lt;dbl&gt;</th><th scope=col>&lt;chr&gt;</th><th scope=col>&lt;dbl&gt;</th><th scope=col>&lt;date&gt;</th></tr>\n",
       "</thead>\n",
       "<tbody>\n",
       "\t<tr><th scope=row>1</th><td>1503960366</td><td>2016-05-02 23:59:59</td><td> 52.6</td><td>115.9631</td><td>22</td><td>22.65</td><td>True </td><td>1.462234e+12</td><td>2016-05-02</td></tr>\n",
       "\t<tr><th scope=row>2</th><td>1503960366</td><td>2016-05-03 23:59:59</td><td> 52.6</td><td>115.9631</td><td>NA</td><td>22.65</td><td>True </td><td>1.462320e+12</td><td>2016-05-03</td></tr>\n",
       "\t<tr><th scope=row>3</th><td>1927972279</td><td>2016-04-13 01:08:52</td><td>133.5</td><td>294.3171</td><td>NA</td><td>47.54</td><td>False</td><td>1.460510e+12</td><td>2016-04-13</td></tr>\n",
       "\t<tr><th scope=row>4</th><td>2873212765</td><td>2016-04-21 23:59:59</td><td> 56.7</td><td>125.0021</td><td>NA</td><td>21.45</td><td>True </td><td>1.461283e+12</td><td>2016-04-21</td></tr>\n",
       "\t<tr><th scope=row>5</th><td>2873212765</td><td>2016-05-12 23:59:59</td><td> 57.3</td><td>126.3249</td><td>NA</td><td>21.69</td><td>True </td><td>1.463098e+12</td><td>2016-05-12</td></tr>\n",
       "\t<tr><th scope=row>6</th><td>4319703577</td><td>2016-04-17 23:59:59</td><td> 72.4</td><td>159.6147</td><td>25</td><td>27.45</td><td>True </td><td>1.460938e+12</td><td>2016-04-17</td></tr>\n",
       "</tbody>\n",
       "</table>\n"
      ],
      "text/latex": [
       "A data.frame: 6 × 9\n",
       "\\begin{tabular}{r|lllllllll}\n",
       "  & Id & Date & WeightKg & WeightPounds & Fat & BMI & IsManualReport & LogId & date\\\\\n",
       "  & <chr> & <dttm> & <dbl> & <dbl> & <int> & <dbl> & <chr> & <dbl> & <date>\\\\\n",
       "\\hline\n",
       "\t1 & 1503960366 & 2016-05-02 23:59:59 &  52.6 & 115.9631 & 22 & 22.65 & True  & 1.462234e+12 & 2016-05-02\\\\\n",
       "\t2 & 1503960366 & 2016-05-03 23:59:59 &  52.6 & 115.9631 & NA & 22.65 & True  & 1.462320e+12 & 2016-05-03\\\\\n",
       "\t3 & 1927972279 & 2016-04-13 01:08:52 & 133.5 & 294.3171 & NA & 47.54 & False & 1.460510e+12 & 2016-04-13\\\\\n",
       "\t4 & 2873212765 & 2016-04-21 23:59:59 &  56.7 & 125.0021 & NA & 21.45 & True  & 1.461283e+12 & 2016-04-21\\\\\n",
       "\t5 & 2873212765 & 2016-05-12 23:59:59 &  57.3 & 126.3249 & NA & 21.69 & True  & 1.463098e+12 & 2016-05-12\\\\\n",
       "\t6 & 4319703577 & 2016-04-17 23:59:59 &  72.4 & 159.6147 & 25 & 27.45 & True  & 1.460938e+12 & 2016-04-17\\\\\n",
       "\\end{tabular}\n"
      ],
      "text/markdown": [
       "\n",
       "A data.frame: 6 × 9\n",
       "\n",
       "| <!--/--> | Id &lt;chr&gt; | Date &lt;dttm&gt; | WeightKg &lt;dbl&gt; | WeightPounds &lt;dbl&gt; | Fat &lt;int&gt; | BMI &lt;dbl&gt; | IsManualReport &lt;chr&gt; | LogId &lt;dbl&gt; | date &lt;date&gt; |\n",
       "|---|---|---|---|---|---|---|---|---|---|\n",
       "| 1 | 1503960366 | 2016-05-02 23:59:59 |  52.6 | 115.9631 | 22 | 22.65 | True  | 1.462234e+12 | 2016-05-02 |\n",
       "| 2 | 1503960366 | 2016-05-03 23:59:59 |  52.6 | 115.9631 | NA | 22.65 | True  | 1.462320e+12 | 2016-05-03 |\n",
       "| 3 | 1927972279 | 2016-04-13 01:08:52 | 133.5 | 294.3171 | NA | 47.54 | False | 1.460510e+12 | 2016-04-13 |\n",
       "| 4 | 2873212765 | 2016-04-21 23:59:59 |  56.7 | 125.0021 | NA | 21.45 | True  | 1.461283e+12 | 2016-04-21 |\n",
       "| 5 | 2873212765 | 2016-05-12 23:59:59 |  57.3 | 126.3249 | NA | 21.69 | True  | 1.463098e+12 | 2016-05-12 |\n",
       "| 6 | 4319703577 | 2016-04-17 23:59:59 |  72.4 | 159.6147 | 25 | 27.45 | True  | 1.460938e+12 | 2016-04-17 |\n",
       "\n"
      ],
      "text/plain": [
       "  Id         Date                WeightKg WeightPounds Fat BMI   IsManualReport\n",
       "1 1503960366 2016-05-02 23:59:59  52.6    115.9631     22  22.65 True          \n",
       "2 1503960366 2016-05-03 23:59:59  52.6    115.9631     NA  22.65 True          \n",
       "3 1927972279 2016-04-13 01:08:52 133.5    294.3171     NA  47.54 False         \n",
       "4 2873212765 2016-04-21 23:59:59  56.7    125.0021     NA  21.45 True          \n",
       "5 2873212765 2016-05-12 23:59:59  57.3    126.3249     NA  21.69 True          \n",
       "6 4319703577 2016-04-17 23:59:59  72.4    159.6147     25  27.45 True          \n",
       "  LogId        date      \n",
       "1 1.462234e+12 2016-05-02\n",
       "2 1.462320e+12 2016-05-03\n",
       "3 1.460510e+12 2016-04-13\n",
       "4 1.461283e+12 2016-04-21\n",
       "5 1.463098e+12 2016-05-12\n",
       "6 1.460938e+12 2016-04-17"
      ]
     },
     "metadata": {},
     "output_type": "display_data"
    }
   ],
   "source": [
    "#Checking again to see if all have been formatted properly now\n",
    "head(daiAct)\n",
    "head(sleepDay)\n",
    "head(weight)"
   ]
  },
  {
   "cell_type": "markdown",
   "id": "599547b2",
   "metadata": {
    "papermill": {
     "duration": 0.014059,
     "end_time": "2023-04-16T18:21:48.214929",
     "exception": false,
     "start_time": "2023-04-16T18:21:48.200870",
     "status": "completed"
    },
    "tags": []
   },
   "source": [
    "### 4.4 Removing duplicates"
   ]
  },
  {
   "cell_type": "code",
   "execution_count": 7,
   "id": "77b1e92d",
   "metadata": {
    "execution": {
     "iopub.execute_input": "2023-04-16T18:21:48.245883Z",
     "iopub.status.busy": "2023-04-16T18:21:48.244675Z",
     "iopub.status.idle": "2023-04-16T18:21:48.266105Z",
     "shell.execute_reply": "2023-04-16T18:21:48.264819Z"
    },
    "papermill": {
     "duration": 0.038807,
     "end_time": "2023-04-16T18:21:48.267809",
     "exception": false,
     "start_time": "2023-04-16T18:21:48.229002",
     "status": "completed"
    },
    "tags": []
   },
   "outputs": [
    {
     "data": {
      "text/html": [
       "33"
      ],
      "text/latex": [
       "33"
      ],
      "text/markdown": [
       "33"
      ],
      "text/plain": [
       "[1] 33"
      ]
     },
     "metadata": {},
     "output_type": "display_data"
    },
    {
     "data": {
      "text/html": [
       "24"
      ],
      "text/latex": [
       "24"
      ],
      "text/markdown": [
       "24"
      ],
      "text/plain": [
       "[1] 24"
      ]
     },
     "metadata": {},
     "output_type": "display_data"
    },
    {
     "data": {
      "text/html": [
       "8"
      ],
      "text/latex": [
       "8"
      ],
      "text/markdown": [
       "8"
      ],
      "text/plain": [
       "[1] 8"
      ]
     },
     "metadata": {},
     "output_type": "display_data"
    }
   ],
   "source": [
    "#Checking each set for the number of users who made a log - At first glance, we can see that fewer users logged sleep and weight\n",
    "n_unique(daiAct$Id)\n",
    "n_unique(sleepDay$Id)\n",
    "n_unique(weight$Id)"
   ]
  },
  {
   "cell_type": "code",
   "execution_count": 8,
   "id": "4c3b2bf0",
   "metadata": {
    "execution": {
     "iopub.execute_input": "2023-04-16T18:21:48.300036Z",
     "iopub.status.busy": "2023-04-16T18:21:48.298715Z",
     "iopub.status.idle": "2023-04-16T18:21:48.338801Z",
     "shell.execute_reply": "2023-04-16T18:21:48.337479Z"
    },
    "papermill": {
     "duration": 0.058399,
     "end_time": "2023-04-16T18:21:48.341032",
     "exception": false,
     "start_time": "2023-04-16T18:21:48.282633",
     "status": "completed"
    },
    "tags": []
   },
   "outputs": [
    {
     "data": {
      "text/html": [
       "0"
      ],
      "text/latex": [
       "0"
      ],
      "text/markdown": [
       "0"
      ],
      "text/plain": [
       "[1] 0"
      ]
     },
     "metadata": {},
     "output_type": "display_data"
    },
    {
     "data": {
      "text/html": [
       "3"
      ],
      "text/latex": [
       "3"
      ],
      "text/markdown": [
       "3"
      ],
      "text/plain": [
       "[1] 3"
      ]
     },
     "metadata": {},
     "output_type": "display_data"
    },
    {
     "data": {
      "text/html": [
       "0"
      ],
      "text/latex": [
       "0"
      ],
      "text/markdown": [
       "0"
      ],
      "text/plain": [
       "[1] 0"
      ]
     },
     "metadata": {},
     "output_type": "display_data"
    }
   ],
   "source": [
    "#Checking for duplicates\n",
    "sum(duplicated(daiAct))\n",
    "sum(duplicated(sleepDay))\n",
    "sum(duplicated(weight))"
   ]
  },
  {
   "cell_type": "code",
   "execution_count": 9,
   "id": "d45c7f36",
   "metadata": {
    "execution": {
     "iopub.execute_input": "2023-04-16T18:21:48.373968Z",
     "iopub.status.busy": "2023-04-16T18:21:48.372693Z",
     "iopub.status.idle": "2023-04-16T18:21:48.392658Z",
     "shell.execute_reply": "2023-04-16T18:21:48.390891Z"
    },
    "papermill": {
     "duration": 0.038874,
     "end_time": "2023-04-16T18:21:48.394972",
     "exception": false,
     "start_time": "2023-04-16T18:21:48.356098",
     "status": "completed"
    },
    "tags": []
   },
   "outputs": [
    {
     "data": {
      "text/html": [
       "0"
      ],
      "text/latex": [
       "0"
      ],
      "text/markdown": [
       "0"
      ],
      "text/plain": [
       "[1] 0"
      ]
     },
     "metadata": {},
     "output_type": "display_data"
    }
   ],
   "source": [
    "#Selecting only distinct records to remove duplicates\n",
    "sleepDay <- sleepDay %>%\n",
    "  distinct()\n",
    "\n",
    "sum(duplicated(sleepDay))"
   ]
  },
  {
   "cell_type": "markdown",
   "id": "b65fe439",
   "metadata": {
    "papermill": {
     "duration": 0.014914,
     "end_time": "2023-04-16T18:21:48.425020",
     "exception": false,
     "start_time": "2023-04-16T18:21:48.410106",
     "status": "completed"
    },
    "tags": []
   },
   "source": [
    "The data has now had column data types altered, and duplicates removed, for further cleaning / transformation."
   ]
  },
  {
   "cell_type": "markdown",
   "id": "f002a05a",
   "metadata": {
    "papermill": {
     "duration": 0.014815,
     "end_time": "2023-04-16T18:21:48.454700",
     "exception": false,
     "start_time": "2023-04-16T18:21:48.439885",
     "status": "completed"
    },
    "tags": []
   },
   "source": [
    "### 4.5 Identifying inapplicable rows\n",
    "Closer inspection of the daiAct dataframe reveals that there are rows where users record no steps, or activities, and it is likely that the users did not wear their device on that day, but the data was only logged due to a preset of calories burnt per day.\n",
    "<br>\n",
    "\n",
    "In order to identify these rows, we filter out rows where there are fewer than 20 steps recorded in the day, in order to account for scenarios where the user may have shifted the unworn device, causing a few steps to be registered."
   ]
  },
  {
   "cell_type": "code",
   "execution_count": 10,
   "id": "3a017170",
   "metadata": {
    "execution": {
     "iopub.execute_input": "2023-04-16T18:21:48.488368Z",
     "iopub.status.busy": "2023-04-16T18:21:48.487116Z",
     "iopub.status.idle": "2023-04-16T18:21:48.541207Z",
     "shell.execute_reply": "2023-04-16T18:21:48.539973Z"
    },
    "papermill": {
     "duration": 0.073001,
     "end_time": "2023-04-16T18:21:48.543008",
     "exception": false,
     "start_time": "2023-04-16T18:21:48.470007",
     "status": "completed"
    },
    "tags": []
   },
   "outputs": [
    {
     "data": {
      "text/html": [
       "82"
      ],
      "text/latex": [
       "82"
      ],
      "text/markdown": [
       "82"
      ],
      "text/plain": [
       "[1] 82"
      ]
     },
     "metadata": {},
     "output_type": "display_data"
    },
    {
     "data": {
      "text/html": [
       "77"
      ],
      "text/latex": [
       "77"
      ],
      "text/markdown": [
       "77"
      ],
      "text/plain": [
       "[1] 77"
      ]
     },
     "metadata": {},
     "output_type": "display_data"
    },
    {
     "data": {
      "text/html": [
       "4"
      ],
      "text/latex": [
       "4"
      ],
      "text/markdown": [
       "4"
      ],
      "text/plain": [
       "[1] 4"
      ]
     },
     "metadata": {},
     "output_type": "display_data"
    },
    {
     "data": {
      "text/html": [
       "<table class=\"dataframe\">\n",
       "<caption>A tibble: 6 × 15</caption>\n",
       "<thead>\n",
       "\t<tr><th scope=col>Id</th><th scope=col>ActivityDate</th><th scope=col>TotalSteps</th><th scope=col>TotalDistance</th><th scope=col>TrackerDistance</th><th scope=col>LoggedActivitiesDistance</th><th scope=col>VeryActiveDistance</th><th scope=col>ModeratelyActiveDistance</th><th scope=col>LightActiveDistance</th><th scope=col>SedentaryActiveDistance</th><th scope=col>VeryActiveMinutes</th><th scope=col>FairlyActiveMinutes</th><th scope=col>LightlyActiveMinutes</th><th scope=col>SedentaryMinutes</th><th scope=col>Calories</th></tr>\n",
       "\t<tr><th scope=col>&lt;chr&gt;</th><th scope=col>&lt;date&gt;</th><th scope=col>&lt;dbl&gt;</th><th scope=col>&lt;dbl&gt;</th><th scope=col>&lt;dbl&gt;</th><th scope=col>&lt;dbl&gt;</th><th scope=col>&lt;dbl&gt;</th><th scope=col>&lt;dbl&gt;</th><th scope=col>&lt;dbl&gt;</th><th scope=col>&lt;dbl&gt;</th><th scope=col>&lt;dbl&gt;</th><th scope=col>&lt;dbl&gt;</th><th scope=col>&lt;dbl&gt;</th><th scope=col>&lt;dbl&gt;</th><th scope=col>&lt;dbl&gt;</th></tr>\n",
       "</thead>\n",
       "<tbody>\n",
       "\t<tr><td>1503960366</td><td>2016-05-12</td><td>0</td><td>0</td><td>0</td><td>0</td><td>0</td><td>0</td><td>0</td><td>0</td><td>0</td><td>0</td><td>0</td><td>1440</td><td>   0</td></tr>\n",
       "\t<tr><td>1844505072</td><td>2016-04-24</td><td>0</td><td>0</td><td>0</td><td>0</td><td>0</td><td>0</td><td>0</td><td>0</td><td>0</td><td>0</td><td>0</td><td>1440</td><td>1347</td></tr>\n",
       "\t<tr><td>1844505072</td><td>2016-04-25</td><td>0</td><td>0</td><td>0</td><td>0</td><td>0</td><td>0</td><td>0</td><td>0</td><td>0</td><td>0</td><td>0</td><td>1440</td><td>1347</td></tr>\n",
       "\t<tr><td>1844505072</td><td>2016-04-26</td><td>0</td><td>0</td><td>0</td><td>0</td><td>0</td><td>0</td><td>0</td><td>0</td><td>0</td><td>0</td><td>0</td><td>1440</td><td>1347</td></tr>\n",
       "\t<tr><td>1844505072</td><td>2016-05-02</td><td>0</td><td>0</td><td>0</td><td>0</td><td>0</td><td>0</td><td>0</td><td>0</td><td>0</td><td>0</td><td>0</td><td>1440</td><td>1348</td></tr>\n",
       "\t<tr><td>1844505072</td><td>2016-05-07</td><td>0</td><td>0</td><td>0</td><td>0</td><td>0</td><td>0</td><td>0</td><td>0</td><td>0</td><td>0</td><td>0</td><td>1440</td><td>1347</td></tr>\n",
       "</tbody>\n",
       "</table>\n"
      ],
      "text/latex": [
       "A tibble: 6 × 15\n",
       "\\begin{tabular}{lllllllllllllll}\n",
       " Id & ActivityDate & TotalSteps & TotalDistance & TrackerDistance & LoggedActivitiesDistance & VeryActiveDistance & ModeratelyActiveDistance & LightActiveDistance & SedentaryActiveDistance & VeryActiveMinutes & FairlyActiveMinutes & LightlyActiveMinutes & SedentaryMinutes & Calories\\\\\n",
       " <chr> & <date> & <dbl> & <dbl> & <dbl> & <dbl> & <dbl> & <dbl> & <dbl> & <dbl> & <dbl> & <dbl> & <dbl> & <dbl> & <dbl>\\\\\n",
       "\\hline\n",
       "\t 1503960366 & 2016-05-12 & 0 & 0 & 0 & 0 & 0 & 0 & 0 & 0 & 0 & 0 & 0 & 1440 &    0\\\\\n",
       "\t 1844505072 & 2016-04-24 & 0 & 0 & 0 & 0 & 0 & 0 & 0 & 0 & 0 & 0 & 0 & 1440 & 1347\\\\\n",
       "\t 1844505072 & 2016-04-25 & 0 & 0 & 0 & 0 & 0 & 0 & 0 & 0 & 0 & 0 & 0 & 1440 & 1347\\\\\n",
       "\t 1844505072 & 2016-04-26 & 0 & 0 & 0 & 0 & 0 & 0 & 0 & 0 & 0 & 0 & 0 & 1440 & 1347\\\\\n",
       "\t 1844505072 & 2016-05-02 & 0 & 0 & 0 & 0 & 0 & 0 & 0 & 0 & 0 & 0 & 0 & 1440 & 1348\\\\\n",
       "\t 1844505072 & 2016-05-07 & 0 & 0 & 0 & 0 & 0 & 0 & 0 & 0 & 0 & 0 & 0 & 1440 & 1347\\\\\n",
       "\\end{tabular}\n"
      ],
      "text/markdown": [
       "\n",
       "A tibble: 6 × 15\n",
       "\n",
       "| Id &lt;chr&gt; | ActivityDate &lt;date&gt; | TotalSteps &lt;dbl&gt; | TotalDistance &lt;dbl&gt; | TrackerDistance &lt;dbl&gt; | LoggedActivitiesDistance &lt;dbl&gt; | VeryActiveDistance &lt;dbl&gt; | ModeratelyActiveDistance &lt;dbl&gt; | LightActiveDistance &lt;dbl&gt; | SedentaryActiveDistance &lt;dbl&gt; | VeryActiveMinutes &lt;dbl&gt; | FairlyActiveMinutes &lt;dbl&gt; | LightlyActiveMinutes &lt;dbl&gt; | SedentaryMinutes &lt;dbl&gt; | Calories &lt;dbl&gt; |\n",
       "|---|---|---|---|---|---|---|---|---|---|---|---|---|---|---|\n",
       "| 1503960366 | 2016-05-12 | 0 | 0 | 0 | 0 | 0 | 0 | 0 | 0 | 0 | 0 | 0 | 1440 |    0 |\n",
       "| 1844505072 | 2016-04-24 | 0 | 0 | 0 | 0 | 0 | 0 | 0 | 0 | 0 | 0 | 0 | 1440 | 1347 |\n",
       "| 1844505072 | 2016-04-25 | 0 | 0 | 0 | 0 | 0 | 0 | 0 | 0 | 0 | 0 | 0 | 1440 | 1347 |\n",
       "| 1844505072 | 2016-04-26 | 0 | 0 | 0 | 0 | 0 | 0 | 0 | 0 | 0 | 0 | 0 | 1440 | 1347 |\n",
       "| 1844505072 | 2016-05-02 | 0 | 0 | 0 | 0 | 0 | 0 | 0 | 0 | 0 | 0 | 0 | 1440 | 1348 |\n",
       "| 1844505072 | 2016-05-07 | 0 | 0 | 0 | 0 | 0 | 0 | 0 | 0 | 0 | 0 | 0 | 1440 | 1347 |\n",
       "\n"
      ],
      "text/plain": [
       "  Id         ActivityDate TotalSteps TotalDistance TrackerDistance\n",
       "1 1503960366 2016-05-12   0          0             0              \n",
       "2 1844505072 2016-04-24   0          0             0              \n",
       "3 1844505072 2016-04-25   0          0             0              \n",
       "4 1844505072 2016-04-26   0          0             0              \n",
       "5 1844505072 2016-05-02   0          0             0              \n",
       "6 1844505072 2016-05-07   0          0             0              \n",
       "  LoggedActivitiesDistance VeryActiveDistance ModeratelyActiveDistance\n",
       "1 0                        0                  0                       \n",
       "2 0                        0                  0                       \n",
       "3 0                        0                  0                       \n",
       "4 0                        0                  0                       \n",
       "5 0                        0                  0                       \n",
       "6 0                        0                  0                       \n",
       "  LightActiveDistance SedentaryActiveDistance VeryActiveMinutes\n",
       "1 0                   0                       0                \n",
       "2 0                   0                       0                \n",
       "3 0                   0                       0                \n",
       "4 0                   0                       0                \n",
       "5 0                   0                       0                \n",
       "6 0                   0                       0                \n",
       "  FairlyActiveMinutes LightlyActiveMinutes SedentaryMinutes Calories\n",
       "1 0                   0                    1440                0    \n",
       "2 0                   0                    1440             1347    \n",
       "3 0                   0                    1440             1347    \n",
       "4 0                   0                    1440             1347    \n",
       "5 0                   0                    1440             1348    \n",
       "6 0                   0                    1440             1347    "
      ]
     },
     "metadata": {},
     "output_type": "display_data"
    },
    {
     "data": {
      "text/html": [
       "<table class=\"dataframe\">\n",
       "<caption>A tibble: 5 × 15</caption>\n",
       "<thead>\n",
       "\t<tr><th scope=col>Id</th><th scope=col>ActivityDate</th><th scope=col>TotalSteps</th><th scope=col>TotalDistance</th><th scope=col>TrackerDistance</th><th scope=col>LoggedActivitiesDistance</th><th scope=col>VeryActiveDistance</th><th scope=col>ModeratelyActiveDistance</th><th scope=col>LightActiveDistance</th><th scope=col>SedentaryActiveDistance</th><th scope=col>VeryActiveMinutes</th><th scope=col>FairlyActiveMinutes</th><th scope=col>LightlyActiveMinutes</th><th scope=col>SedentaryMinutes</th><th scope=col>Calories</th></tr>\n",
       "\t<tr><th scope=col>&lt;chr&gt;</th><th scope=col>&lt;date&gt;</th><th scope=col>&lt;dbl&gt;</th><th scope=col>&lt;dbl&gt;</th><th scope=col>&lt;dbl&gt;</th><th scope=col>&lt;dbl&gt;</th><th scope=col>&lt;dbl&gt;</th><th scope=col>&lt;dbl&gt;</th><th scope=col>&lt;dbl&gt;</th><th scope=col>&lt;dbl&gt;</th><th scope=col>&lt;dbl&gt;</th><th scope=col>&lt;dbl&gt;</th><th scope=col>&lt;dbl&gt;</th><th scope=col>&lt;dbl&gt;</th><th scope=col>&lt;dbl&gt;</th></tr>\n",
       "</thead>\n",
       "<tbody>\n",
       "\t<tr><td>1844505072</td><td>2016-04-20</td><td> 8</td><td>0.01</td><td>0.01</td><td>0</td><td>0</td><td>0</td><td>0.01</td><td>0</td><td>0</td><td>0</td><td>1</td><td>1439</td><td>1349</td></tr>\n",
       "\t<tr><td>1844505072</td><td>2016-04-27</td><td> 4</td><td>0.00</td><td>0.00</td><td>0</td><td>0</td><td>0</td><td>0.00</td><td>0</td><td>0</td><td>0</td><td>1</td><td>1439</td><td>1348</td></tr>\n",
       "\t<tr><td>4020332650</td><td>2016-04-17</td><td>16</td><td>0.01</td><td>0.01</td><td>0</td><td>0</td><td>0</td><td>0.01</td><td>0</td><td>0</td><td>0</td><td>2</td><td>1438</td><td>1990</td></tr>\n",
       "\t<tr><td>4319703577</td><td>2016-05-12</td><td>17</td><td>0.01</td><td>0.01</td><td>0</td><td>0</td><td>0</td><td>0.01</td><td>0</td><td>0</td><td>0</td><td>2</td><td>   0</td><td> 257</td></tr>\n",
       "\t<tr><td>6775888955</td><td>2016-05-03</td><td> 9</td><td>0.01</td><td>0.01</td><td>0</td><td>0</td><td>0</td><td>0.01</td><td>0</td><td>0</td><td>0</td><td>1</td><td>1439</td><td>1843</td></tr>\n",
       "</tbody>\n",
       "</table>\n"
      ],
      "text/latex": [
       "A tibble: 5 × 15\n",
       "\\begin{tabular}{lllllllllllllll}\n",
       " Id & ActivityDate & TotalSteps & TotalDistance & TrackerDistance & LoggedActivitiesDistance & VeryActiveDistance & ModeratelyActiveDistance & LightActiveDistance & SedentaryActiveDistance & VeryActiveMinutes & FairlyActiveMinutes & LightlyActiveMinutes & SedentaryMinutes & Calories\\\\\n",
       " <chr> & <date> & <dbl> & <dbl> & <dbl> & <dbl> & <dbl> & <dbl> & <dbl> & <dbl> & <dbl> & <dbl> & <dbl> & <dbl> & <dbl>\\\\\n",
       "\\hline\n",
       "\t 1844505072 & 2016-04-20 &  8 & 0.01 & 0.01 & 0 & 0 & 0 & 0.01 & 0 & 0 & 0 & 1 & 1439 & 1349\\\\\n",
       "\t 1844505072 & 2016-04-27 &  4 & 0.00 & 0.00 & 0 & 0 & 0 & 0.00 & 0 & 0 & 0 & 1 & 1439 & 1348\\\\\n",
       "\t 4020332650 & 2016-04-17 & 16 & 0.01 & 0.01 & 0 & 0 & 0 & 0.01 & 0 & 0 & 0 & 2 & 1438 & 1990\\\\\n",
       "\t 4319703577 & 2016-05-12 & 17 & 0.01 & 0.01 & 0 & 0 & 0 & 0.01 & 0 & 0 & 0 & 2 &    0 &  257\\\\\n",
       "\t 6775888955 & 2016-05-03 &  9 & 0.01 & 0.01 & 0 & 0 & 0 & 0.01 & 0 & 0 & 0 & 1 & 1439 & 1843\\\\\n",
       "\\end{tabular}\n"
      ],
      "text/markdown": [
       "\n",
       "A tibble: 5 × 15\n",
       "\n",
       "| Id &lt;chr&gt; | ActivityDate &lt;date&gt; | TotalSteps &lt;dbl&gt; | TotalDistance &lt;dbl&gt; | TrackerDistance &lt;dbl&gt; | LoggedActivitiesDistance &lt;dbl&gt; | VeryActiveDistance &lt;dbl&gt; | ModeratelyActiveDistance &lt;dbl&gt; | LightActiveDistance &lt;dbl&gt; | SedentaryActiveDistance &lt;dbl&gt; | VeryActiveMinutes &lt;dbl&gt; | FairlyActiveMinutes &lt;dbl&gt; | LightlyActiveMinutes &lt;dbl&gt; | SedentaryMinutes &lt;dbl&gt; | Calories &lt;dbl&gt; |\n",
       "|---|---|---|---|---|---|---|---|---|---|---|---|---|---|---|\n",
       "| 1844505072 | 2016-04-20 |  8 | 0.01 | 0.01 | 0 | 0 | 0 | 0.01 | 0 | 0 | 0 | 1 | 1439 | 1349 |\n",
       "| 1844505072 | 2016-04-27 |  4 | 0.00 | 0.00 | 0 | 0 | 0 | 0.00 | 0 | 0 | 0 | 1 | 1439 | 1348 |\n",
       "| 4020332650 | 2016-04-17 | 16 | 0.01 | 0.01 | 0 | 0 | 0 | 0.01 | 0 | 0 | 0 | 2 | 1438 | 1990 |\n",
       "| 4319703577 | 2016-05-12 | 17 | 0.01 | 0.01 | 0 | 0 | 0 | 0.01 | 0 | 0 | 0 | 2 |    0 |  257 |\n",
       "| 6775888955 | 2016-05-03 |  9 | 0.01 | 0.01 | 0 | 0 | 0 | 0.01 | 0 | 0 | 0 | 1 | 1439 | 1843 |\n",
       "\n"
      ],
      "text/plain": [
       "  Id         ActivityDate TotalSteps TotalDistance TrackerDistance\n",
       "1 1844505072 2016-04-20    8         0.01          0.01           \n",
       "2 1844505072 2016-04-27    4         0.00          0.00           \n",
       "3 4020332650 2016-04-17   16         0.01          0.01           \n",
       "4 4319703577 2016-05-12   17         0.01          0.01           \n",
       "5 6775888955 2016-05-03    9         0.01          0.01           \n",
       "  LoggedActivitiesDistance VeryActiveDistance ModeratelyActiveDistance\n",
       "1 0                        0                  0                       \n",
       "2 0                        0                  0                       \n",
       "3 0                        0                  0                       \n",
       "4 0                        0                  0                       \n",
       "5 0                        0                  0                       \n",
       "  LightActiveDistance SedentaryActiveDistance VeryActiveMinutes\n",
       "1 0.01                0                       0                \n",
       "2 0.00                0                       0                \n",
       "3 0.01                0                       0                \n",
       "4 0.01                0                       0                \n",
       "5 0.01                0                       0                \n",
       "  FairlyActiveMinutes LightlyActiveMinutes SedentaryMinutes Calories\n",
       "1 0                   1                    1439             1349    \n",
       "2 0                   1                    1439             1348    \n",
       "3 0                   2                    1438             1990    \n",
       "4 0                   2                       0              257    \n",
       "5 0                   1                    1439             1843    "
      ]
     },
     "metadata": {},
     "output_type": "display_data"
    }
   ],
   "source": [
    "nrow(daiAct[daiAct$TotalSteps < 20, ])\n",
    "nrow(daiAct[daiAct$TotalSteps == 0, ]) \n",
    "nrow(daiAct[daiAct$Calories == 0, ])\n",
    "\n",
    "head((subset(daiAct, daiAct$TotalSteps == 0)))\n",
    "head((subset(daiAct, daiAct$TotalSteps > 1 & daiAct$TotalSteps < 20)))\n",
    "\n",
    "#Interesting to note that, although there are 77 logs where 0 steps were taken, only 4 rows logged 0 calories burnt. This is likely due to users\n",
    "#setting basal metabolic calories burnt for each day, which automatically logs calories"
   ]
  },
  {
   "cell_type": "markdown",
   "id": "6a7f38d7",
   "metadata": {
    "papermill": {
     "duration": 0.016213,
     "end_time": "2023-04-16T18:21:48.575186",
     "exception": false,
     "start_time": "2023-04-16T18:21:48.558973",
     "status": "completed"
    },
    "tags": []
   },
   "source": [
    "## 5. Analyse\n",
    "In order to analyse the dataset for trends and patterns that would help drive actionable recommendations for a marketing strategy, the focus will **primarily** be on **usage behaviour**, **usage correlations**, and secondarily be on user **health metrics**. "
   ]
  },
  {
   "cell_type": "markdown",
   "id": "3b017010",
   "metadata": {
    "papermill": {
     "duration": 0.016204,
     "end_time": "2023-04-16T18:21:48.607909",
     "exception": false,
     "start_time": "2023-04-16T18:21:48.591705",
     "status": "completed"
    },
    "tags": []
   },
   "source": [
    "### 5.1 Usage behaviour\n",
    "Primary focus is on usage behaviour and usage correlations trends, as this can inform which features users value more and which ones users value less in their Fitbit devices. This can inform product/R&D strategy, and marketing strategy.\n"
   ]
  },
  {
   "cell_type": "markdown",
   "id": "ab123391",
   "metadata": {
    "papermill": {
     "duration": 0.01671,
     "end_time": "2023-04-16T18:21:48.671825",
     "exception": false,
     "start_time": "2023-04-16T18:21:48.655115",
     "status": "completed"
    },
    "tags": []
   },
   "source": [
    "#### 5.1.1 How often did users wear their device\n",
    "\n",
    "In section 4.6, it was identified that 87 rows were essentially null data, and to see how often users actually wore their device, these rows must be filtered out.\n",
    "\n",
    "We first assign \"unworn\" to rows where there are not at least 20 steps recorded, and \"worn\" for rows where there are at least 20 steps."
   ]
  },
  {
   "cell_type": "code",
   "execution_count": 11,
   "id": "436beb56",
   "metadata": {
    "execution": {
     "iopub.execute_input": "2023-04-16T18:21:48.706790Z",
     "iopub.status.busy": "2023-04-16T18:21:48.705427Z",
     "iopub.status.idle": "2023-04-16T18:21:48.738745Z",
     "shell.execute_reply": "2023-04-16T18:21:48.737063Z"
    },
    "papermill": {
     "duration": 0.052858,
     "end_time": "2023-04-16T18:21:48.740681",
     "exception": false,
     "start_time": "2023-04-16T18:21:48.687823",
     "status": "completed"
    },
    "tags": []
   },
   "outputs": [
    {
     "data": {
      "text/html": [
       "<table class=\"dataframe\">\n",
       "<caption>A tibble: 6 × 16</caption>\n",
       "<thead>\n",
       "\t<tr><th scope=col>Id</th><th scope=col>ActivityDate</th><th scope=col>TotalSteps</th><th scope=col>TotalDistance</th><th scope=col>TrackerDistance</th><th scope=col>LoggedActivitiesDistance</th><th scope=col>VeryActiveDistance</th><th scope=col>ModeratelyActiveDistance</th><th scope=col>LightActiveDistance</th><th scope=col>SedentaryActiveDistance</th><th scope=col>VeryActiveMinutes</th><th scope=col>FairlyActiveMinutes</th><th scope=col>LightlyActiveMinutes</th><th scope=col>SedentaryMinutes</th><th scope=col>Calories</th><th scope=col>usageLevel</th></tr>\n",
       "\t<tr><th scope=col>&lt;chr&gt;</th><th scope=col>&lt;date&gt;</th><th scope=col>&lt;dbl&gt;</th><th scope=col>&lt;dbl&gt;</th><th scope=col>&lt;dbl&gt;</th><th scope=col>&lt;dbl&gt;</th><th scope=col>&lt;dbl&gt;</th><th scope=col>&lt;dbl&gt;</th><th scope=col>&lt;dbl&gt;</th><th scope=col>&lt;dbl&gt;</th><th scope=col>&lt;dbl&gt;</th><th scope=col>&lt;dbl&gt;</th><th scope=col>&lt;dbl&gt;</th><th scope=col>&lt;dbl&gt;</th><th scope=col>&lt;dbl&gt;</th><th scope=col>&lt;chr&gt;</th></tr>\n",
       "</thead>\n",
       "<tbody>\n",
       "\t<tr><td>1503960366</td><td>2016-04-12</td><td>13162</td><td>8.50</td><td>8.50</td><td>0</td><td>1.88</td><td>0.55</td><td>6.06</td><td>0</td><td>25</td><td>13</td><td>328</td><td> 728</td><td>1985</td><td>worn</td></tr>\n",
       "\t<tr><td>1503960366</td><td>2016-04-13</td><td>10735</td><td>6.97</td><td>6.97</td><td>0</td><td>1.57</td><td>0.69</td><td>4.71</td><td>0</td><td>21</td><td>19</td><td>217</td><td> 776</td><td>1797</td><td>worn</td></tr>\n",
       "\t<tr><td>1503960366</td><td>2016-04-14</td><td>10460</td><td>6.74</td><td>6.74</td><td>0</td><td>2.44</td><td>0.40</td><td>3.91</td><td>0</td><td>30</td><td>11</td><td>181</td><td>1218</td><td>1776</td><td>worn</td></tr>\n",
       "\t<tr><td>1503960366</td><td>2016-04-15</td><td> 9762</td><td>6.28</td><td>6.28</td><td>0</td><td>2.14</td><td>1.26</td><td>2.83</td><td>0</td><td>29</td><td>34</td><td>209</td><td> 726</td><td>1745</td><td>worn</td></tr>\n",
       "\t<tr><td>1503960366</td><td>2016-04-16</td><td>12669</td><td>8.16</td><td>8.16</td><td>0</td><td>2.71</td><td>0.41</td><td>5.04</td><td>0</td><td>36</td><td>10</td><td>221</td><td> 773</td><td>1863</td><td>worn</td></tr>\n",
       "\t<tr><td>1503960366</td><td>2016-04-17</td><td> 9705</td><td>6.48</td><td>6.48</td><td>0</td><td>3.19</td><td>0.78</td><td>2.51</td><td>0</td><td>38</td><td>20</td><td>164</td><td> 539</td><td>1728</td><td>worn</td></tr>\n",
       "</tbody>\n",
       "</table>\n"
      ],
      "text/latex": [
       "A tibble: 6 × 16\n",
       "\\begin{tabular}{llllllllllllllll}\n",
       " Id & ActivityDate & TotalSteps & TotalDistance & TrackerDistance & LoggedActivitiesDistance & VeryActiveDistance & ModeratelyActiveDistance & LightActiveDistance & SedentaryActiveDistance & VeryActiveMinutes & FairlyActiveMinutes & LightlyActiveMinutes & SedentaryMinutes & Calories & usageLevel\\\\\n",
       " <chr> & <date> & <dbl> & <dbl> & <dbl> & <dbl> & <dbl> & <dbl> & <dbl> & <dbl> & <dbl> & <dbl> & <dbl> & <dbl> & <dbl> & <chr>\\\\\n",
       "\\hline\n",
       "\t 1503960366 & 2016-04-12 & 13162 & 8.50 & 8.50 & 0 & 1.88 & 0.55 & 6.06 & 0 & 25 & 13 & 328 &  728 & 1985 & worn\\\\\n",
       "\t 1503960366 & 2016-04-13 & 10735 & 6.97 & 6.97 & 0 & 1.57 & 0.69 & 4.71 & 0 & 21 & 19 & 217 &  776 & 1797 & worn\\\\\n",
       "\t 1503960366 & 2016-04-14 & 10460 & 6.74 & 6.74 & 0 & 2.44 & 0.40 & 3.91 & 0 & 30 & 11 & 181 & 1218 & 1776 & worn\\\\\n",
       "\t 1503960366 & 2016-04-15 &  9762 & 6.28 & 6.28 & 0 & 2.14 & 1.26 & 2.83 & 0 & 29 & 34 & 209 &  726 & 1745 & worn\\\\\n",
       "\t 1503960366 & 2016-04-16 & 12669 & 8.16 & 8.16 & 0 & 2.71 & 0.41 & 5.04 & 0 & 36 & 10 & 221 &  773 & 1863 & worn\\\\\n",
       "\t 1503960366 & 2016-04-17 &  9705 & 6.48 & 6.48 & 0 & 3.19 & 0.78 & 2.51 & 0 & 38 & 20 & 164 &  539 & 1728 & worn\\\\\n",
       "\\end{tabular}\n"
      ],
      "text/markdown": [
       "\n",
       "A tibble: 6 × 16\n",
       "\n",
       "| Id &lt;chr&gt; | ActivityDate &lt;date&gt; | TotalSteps &lt;dbl&gt; | TotalDistance &lt;dbl&gt; | TrackerDistance &lt;dbl&gt; | LoggedActivitiesDistance &lt;dbl&gt; | VeryActiveDistance &lt;dbl&gt; | ModeratelyActiveDistance &lt;dbl&gt; | LightActiveDistance &lt;dbl&gt; | SedentaryActiveDistance &lt;dbl&gt; | VeryActiveMinutes &lt;dbl&gt; | FairlyActiveMinutes &lt;dbl&gt; | LightlyActiveMinutes &lt;dbl&gt; | SedentaryMinutes &lt;dbl&gt; | Calories &lt;dbl&gt; | usageLevel &lt;chr&gt; |\n",
       "|---|---|---|---|---|---|---|---|---|---|---|---|---|---|---|---|\n",
       "| 1503960366 | 2016-04-12 | 13162 | 8.50 | 8.50 | 0 | 1.88 | 0.55 | 6.06 | 0 | 25 | 13 | 328 |  728 | 1985 | worn |\n",
       "| 1503960366 | 2016-04-13 | 10735 | 6.97 | 6.97 | 0 | 1.57 | 0.69 | 4.71 | 0 | 21 | 19 | 217 |  776 | 1797 | worn |\n",
       "| 1503960366 | 2016-04-14 | 10460 | 6.74 | 6.74 | 0 | 2.44 | 0.40 | 3.91 | 0 | 30 | 11 | 181 | 1218 | 1776 | worn |\n",
       "| 1503960366 | 2016-04-15 |  9762 | 6.28 | 6.28 | 0 | 2.14 | 1.26 | 2.83 | 0 | 29 | 34 | 209 |  726 | 1745 | worn |\n",
       "| 1503960366 | 2016-04-16 | 12669 | 8.16 | 8.16 | 0 | 2.71 | 0.41 | 5.04 | 0 | 36 | 10 | 221 |  773 | 1863 | worn |\n",
       "| 1503960366 | 2016-04-17 |  9705 | 6.48 | 6.48 | 0 | 3.19 | 0.78 | 2.51 | 0 | 38 | 20 | 164 |  539 | 1728 | worn |\n",
       "\n"
      ],
      "text/plain": [
       "  Id         ActivityDate TotalSteps TotalDistance TrackerDistance\n",
       "1 1503960366 2016-04-12   13162      8.50          8.50           \n",
       "2 1503960366 2016-04-13   10735      6.97          6.97           \n",
       "3 1503960366 2016-04-14   10460      6.74          6.74           \n",
       "4 1503960366 2016-04-15    9762      6.28          6.28           \n",
       "5 1503960366 2016-04-16   12669      8.16          8.16           \n",
       "6 1503960366 2016-04-17    9705      6.48          6.48           \n",
       "  LoggedActivitiesDistance VeryActiveDistance ModeratelyActiveDistance\n",
       "1 0                        1.88               0.55                    \n",
       "2 0                        1.57               0.69                    \n",
       "3 0                        2.44               0.40                    \n",
       "4 0                        2.14               1.26                    \n",
       "5 0                        2.71               0.41                    \n",
       "6 0                        3.19               0.78                    \n",
       "  LightActiveDistance SedentaryActiveDistance VeryActiveMinutes\n",
       "1 6.06                0                       25               \n",
       "2 4.71                0                       21               \n",
       "3 3.91                0                       30               \n",
       "4 2.83                0                       29               \n",
       "5 5.04                0                       36               \n",
       "6 2.51                0                       38               \n",
       "  FairlyActiveMinutes LightlyActiveMinutes SedentaryMinutes Calories usageLevel\n",
       "1 13                  328                   728             1985     worn      \n",
       "2 19                  217                   776             1797     worn      \n",
       "3 11                  181                  1218             1776     worn      \n",
       "4 34                  209                   726             1745     worn      \n",
       "5 10                  221                   773             1863     worn      \n",
       "6 20                  164                   539             1728     worn      "
      ]
     },
     "metadata": {},
     "output_type": "display_data"
    }
   ],
   "source": [
    "#First, in a new column, we assign \"unworn\" for rows where fewer than 20 steps were recorded, and \"worn\"\n",
    "#Processing dailyActivity logs based on TotalStep to filter out records where the tracker was not worn (essentially null records)\n",
    "#and also to filter based on activity level as prescribed by pubmed article\n",
    "daiAct <- daiAct %>%\n",
    "  mutate(usageLevel = case_when(\n",
    "    daiAct$TotalSteps < 20 ~ \"unworn\",\n",
    "    daiAct$TotalSteps >= 20 ~ \"worn\",\n",
    "  ))\n",
    "head(daiAct)"
   ]
  },
  {
   "cell_type": "code",
   "execution_count": 12,
   "id": "b634be17",
   "metadata": {
    "execution": {
     "iopub.execute_input": "2023-04-16T18:21:48.775902Z",
     "iopub.status.busy": "2023-04-16T18:21:48.774619Z",
     "iopub.status.idle": "2023-04-16T18:21:48.809454Z",
     "shell.execute_reply": "2023-04-16T18:21:48.808144Z"
    },
    "papermill": {
     "duration": 0.054253,
     "end_time": "2023-04-16T18:21:48.811205",
     "exception": false,
     "start_time": "2023-04-16T18:21:48.756952",
     "status": "completed"
    },
    "tags": []
   },
   "outputs": [
    {
     "data": {
      "text/html": [
       "<table class=\"dataframe\">\n",
       "<caption>A tibble: 6 × 2</caption>\n",
       "<thead>\n",
       "\t<tr><th scope=col>Id</th><th scope=col>daysCount</th></tr>\n",
       "\t<tr><th scope=col>&lt;chr&gt;</th><th scope=col>&lt;int&gt;</th></tr>\n",
       "</thead>\n",
       "<tbody>\n",
       "\t<tr><td>1503960366</td><td>30</td></tr>\n",
       "\t<tr><td>1624580081</td><td>31</td></tr>\n",
       "\t<tr><td>1644430081</td><td>30</td></tr>\n",
       "\t<tr><td>1844505072</td><td>19</td></tr>\n",
       "\t<tr><td>1927972279</td><td>17</td></tr>\n",
       "\t<tr><td>2022484408</td><td>31</td></tr>\n",
       "</tbody>\n",
       "</table>\n"
      ],
      "text/latex": [
       "A tibble: 6 × 2\n",
       "\\begin{tabular}{ll}\n",
       " Id & daysCount\\\\\n",
       " <chr> & <int>\\\\\n",
       "\\hline\n",
       "\t 1503960366 & 30\\\\\n",
       "\t 1624580081 & 31\\\\\n",
       "\t 1644430081 & 30\\\\\n",
       "\t 1844505072 & 19\\\\\n",
       "\t 1927972279 & 17\\\\\n",
       "\t 2022484408 & 31\\\\\n",
       "\\end{tabular}\n"
      ],
      "text/markdown": [
       "\n",
       "A tibble: 6 × 2\n",
       "\n",
       "| Id &lt;chr&gt; | daysCount &lt;int&gt; |\n",
       "|---|---|\n",
       "| 1503960366 | 30 |\n",
       "| 1624580081 | 31 |\n",
       "| 1644430081 | 30 |\n",
       "| 1844505072 | 19 |\n",
       "| 1927972279 | 17 |\n",
       "| 2022484408 | 31 |\n",
       "\n"
      ],
      "text/plain": [
       "  Id         daysCount\n",
       "1 1503960366 30       \n",
       "2 1624580081 31       \n",
       "3 1644430081 30       \n",
       "4 1844505072 19       \n",
       "5 1927972279 17       \n",
       "6 2022484408 31       "
      ]
     },
     "metadata": {},
     "output_type": "display_data"
    }
   ],
   "source": [
    "#Then we can count how many rows where users registered at least 20 steps, as a proxy for how many times/days they actually wore their device.\n",
    "\n",
    "daysWorn <- daiAct %>%\n",
    "group_by(Id) %>%\n",
    "summarize(count = sum(usageLevel == \"worn\"))\n",
    "\n",
    "colnames(daysWorn)[2] =\"daysCount\"\n",
    "\n",
    "head(daysWorn)"
   ]
  },
  {
   "cell_type": "code",
   "execution_count": 13,
   "id": "42d067ea",
   "metadata": {
    "execution": {
     "iopub.execute_input": "2023-04-16T18:21:48.847426Z",
     "iopub.status.busy": "2023-04-16T18:21:48.846081Z",
     "iopub.status.idle": "2023-04-16T18:21:49.370400Z",
     "shell.execute_reply": "2023-04-16T18:21:49.368985Z"
    },
    "papermill": {
     "duration": 0.544368,
     "end_time": "2023-04-16T18:21:49.372416",
     "exception": false,
     "start_time": "2023-04-16T18:21:48.828048",
     "status": "completed"
    },
    "tags": []
   },
   "outputs": [
    {
     "data": {
      "image/png": "[encoded data removed]"
     },
     "metadata": {
      "image/png": {
       "height": 420,
       "width": 420
      }
     },
     "output_type": "display_data"
    }
   ],
   "source": [
    "#We can then visualise this through a bar chart.\n",
    "\n",
    "daysWorn$Id <- factor(daysWorn$Id, levels = daysWorn$Id[order(daysWorn$daysCount)])\n",
    "\n",
    "ggplot(daysWorn, aes(x=Id, y=daysCount)) +\n",
    "  scale_y_continuous(breaks= pretty_breaks())+\n",
    "  geom_bar(fill = \"orange\", stat=\"identity\", alpha = 0.75) +\n",
    "  theme_bw()+\n",
    "  theme(panel.grid.major = element_blank(),\n",
    "    panel.grid.minor = element_blank(),\n",
    "       axis.text.x = element_blank())+\n",
    "  geom_text(aes(label = daysCount), position = position_stack(vjust = 0.5)) +\n",
    "  labs(title = \"Days device was worn per user\", x = \"Users\", y = \" Days worn\")"
   ]
  },
  {
   "cell_type": "markdown",
   "id": "4a74c505",
   "metadata": {
    "papermill": {
     "duration": 0.01699,
     "end_time": "2023-04-16T18:21:49.406423",
     "exception": false,
     "start_time": "2023-04-16T18:21:49.389433",
     "status": "completed"
    },
    "tags": []
   },
   "source": [
    "At a glance, we can see that most users used their devices consistently."
   ]
  },
  {
   "cell_type": "markdown",
   "id": "a0145a96",
   "metadata": {
    "papermill": {
     "duration": 0.016865,
     "end_time": "2023-04-16T18:21:49.440485",
     "exception": false,
     "start_time": "2023-04-16T18:21:49.423620",
     "status": "completed"
    },
    "tags": []
   },
   "source": [
    "##### 5.1.1.1 Breakdown of users by usage frequency\n",
    "We can assign each user a frequency rating based on number of days worn. If they did not wear it for at least 50% of the time, they are low frequency, moderate frequency between 50% and 80% of the time, and high frequency if they wear their device at least 80% of the time.\n"
   ]
  },
  {
   "cell_type": "code",
   "execution_count": 14,
   "id": "42c9403b",
   "metadata": {
    "execution": {
     "iopub.execute_input": "2023-04-16T18:21:49.477236Z",
     "iopub.status.busy": "2023-04-16T18:21:49.475879Z",
     "iopub.status.idle": "2023-04-16T18:21:49.499716Z",
     "shell.execute_reply": "2023-04-16T18:21:49.498366Z"
    },
    "papermill": {
     "duration": 0.044311,
     "end_time": "2023-04-16T18:21:49.501552",
     "exception": false,
     "start_time": "2023-04-16T18:21:49.457241",
     "status": "completed"
    },
    "tags": []
   },
   "outputs": [
    {
     "data": {
      "text/html": [
       "<table class=\"dataframe\">\n",
       "<caption>A tibble: 6 × 3</caption>\n",
       "<thead>\n",
       "\t<tr><th scope=col>Id</th><th scope=col>daysCount</th><th scope=col>wearFreq</th></tr>\n",
       "\t<tr><th scope=col>&lt;fct&gt;</th><th scope=col>&lt;int&gt;</th><th scope=col>&lt;chr&gt;</th></tr>\n",
       "</thead>\n",
       "<tbody>\n",
       "\t<tr><td>1503960366</td><td>30</td><td>high frequency    </td></tr>\n",
       "\t<tr><td>1624580081</td><td>31</td><td>high frequency    </td></tr>\n",
       "\t<tr><td>1644430081</td><td>30</td><td>high frequency    </td></tr>\n",
       "\t<tr><td>1844505072</td><td>19</td><td>moderate frequency</td></tr>\n",
       "\t<tr><td>1927972279</td><td>17</td><td>moderate frequency</td></tr>\n",
       "\t<tr><td>2022484408</td><td>31</td><td>high frequency    </td></tr>\n",
       "</tbody>\n",
       "</table>\n"
      ],
      "text/latex": [
       "A tibble: 6 × 3\n",
       "\\begin{tabular}{lll}\n",
       " Id & daysCount & wearFreq\\\\\n",
       " <fct> & <int> & <chr>\\\\\n",
       "\\hline\n",
       "\t 1503960366 & 30 & high frequency    \\\\\n",
       "\t 1624580081 & 31 & high frequency    \\\\\n",
       "\t 1644430081 & 30 & high frequency    \\\\\n",
       "\t 1844505072 & 19 & moderate frequency\\\\\n",
       "\t 1927972279 & 17 & moderate frequency\\\\\n",
       "\t 2022484408 & 31 & high frequency    \\\\\n",
       "\\end{tabular}\n"
      ],
      "text/markdown": [
       "\n",
       "A tibble: 6 × 3\n",
       "\n",
       "| Id &lt;fct&gt; | daysCount &lt;int&gt; | wearFreq &lt;chr&gt; |\n",
       "|---|---|---|\n",
       "| 1503960366 | 30 | high frequency     |\n",
       "| 1624580081 | 31 | high frequency     |\n",
       "| 1644430081 | 30 | high frequency     |\n",
       "| 1844505072 | 19 | moderate frequency |\n",
       "| 1927972279 | 17 | moderate frequency |\n",
       "| 2022484408 | 31 | high frequency     |\n",
       "\n"
      ],
      "text/plain": [
       "  Id         daysCount wearFreq          \n",
       "1 1503960366 30        high frequency    \n",
       "2 1624580081 31        high frequency    \n",
       "3 1644430081 30        high frequency    \n",
       "4 1844505072 19        moderate frequency\n",
       "5 1927972279 17        moderate frequency\n",
       "6 2022484408 31        high frequency    "
      ]
     },
     "metadata": {},
     "output_type": "display_data"
    }
   ],
   "source": [
    "daysWornFreq <- daysWorn %>%\n",
    "  mutate(wearFreq = case_when(\n",
    "    daysCount < 15 ~ \"low frequency\",\n",
    "    daysCount >= 15 & daysCount < 24 ~ \"moderate frequency\",\n",
    "    daysCount >= 24 ~ \"high frequency\", \n",
    "  ))\n",
    "\n",
    "head(daysWornFreq)"
   ]
  },
  {
   "cell_type": "code",
   "execution_count": 15,
   "id": "a76dedcc",
   "metadata": {
    "execution": {
     "iopub.execute_input": "2023-04-16T18:21:49.538400Z",
     "iopub.status.busy": "2023-04-16T18:21:49.537052Z",
     "iopub.status.idle": "2023-04-16T18:21:49.561836Z",
     "shell.execute_reply": "2023-04-16T18:21:49.560522Z"
    },
    "papermill": {
     "duration": 0.04542,
     "end_time": "2023-04-16T18:21:49.564017",
     "exception": false,
     "start_time": "2023-04-16T18:21:49.518597",
     "status": "completed"
    },
    "tags": []
   },
   "outputs": [
    {
     "data": {
      "text/html": [
       "<table class=\"dataframe\">\n",
       "<caption>A tibble: 3 × 2</caption>\n",
       "<thead>\n",
       "\t<tr><th scope=col>wearFreq</th><th scope=col>total_count</th></tr>\n",
       "\t<tr><th scope=col>&lt;chr&gt;</th><th scope=col>&lt;int&gt;</th></tr>\n",
       "</thead>\n",
       "<tbody>\n",
       "\t<tr><td>high frequency    </td><td>23</td></tr>\n",
       "\t<tr><td>low frequency     </td><td> 1</td></tr>\n",
       "\t<tr><td>moderate frequency</td><td> 9</td></tr>\n",
       "</tbody>\n",
       "</table>\n"
      ],
      "text/latex": [
       "A tibble: 3 × 2\n",
       "\\begin{tabular}{ll}\n",
       " wearFreq & total\\_count\\\\\n",
       " <chr> & <int>\\\\\n",
       "\\hline\n",
       "\t high frequency     & 23\\\\\n",
       "\t low frequency      &  1\\\\\n",
       "\t moderate frequency &  9\\\\\n",
       "\\end{tabular}\n"
      ],
      "text/markdown": [
       "\n",
       "A tibble: 3 × 2\n",
       "\n",
       "| wearFreq &lt;chr&gt; | total_count &lt;int&gt; |\n",
       "|---|---|\n",
       "| high frequency     | 23 |\n",
       "| low frequency      |  1 |\n",
       "| moderate frequency |  9 |\n",
       "\n"
      ],
      "text/plain": [
       "  wearFreq           total_count\n",
       "1 high frequency     23         \n",
       "2 low frequency       1         \n",
       "3 moderate frequency  9         "
      ]
     },
     "metadata": {},
     "output_type": "display_data"
    }
   ],
   "source": [
    "#Aggregating the users based on usage frequency\n",
    "aggWornFreq <- daysWornFreq %>% group_by(wearFreq) %>% \n",
    "  summarise(total_count=n(),\n",
    "            .groups = 'drop')\n",
    "\n",
    "aggWornFreq"
   ]
  },
  {
   "cell_type": "code",
   "execution_count": 16,
   "id": "4c635dc3",
   "metadata": {
    "execution": {
     "iopub.execute_input": "2023-04-16T18:21:49.601203Z",
     "iopub.status.busy": "2023-04-16T18:21:49.599914Z",
     "iopub.status.idle": "2023-04-16T18:21:49.922543Z",
     "shell.execute_reply": "2023-04-16T18:21:49.921166Z"
    },
    "papermill": {
     "duration": 0.343177,
     "end_time": "2023-04-16T18:21:49.924399",
     "exception": false,
     "start_time": "2023-04-16T18:21:49.581222",
     "status": "completed"
    },
    "tags": []
   },
   "outputs": [
    {
     "data": {
      "image/png": "[encoded data removed]"
     },
     "metadata": {
      "image/png": {
       "height": 420,
       "width": 420
      }
     },
     "output_type": "display_data"
    }
   ],
   "source": [
    "aggWornFreq$wearFreq <- factor(aggWornFreq$wearFreq, levels = c(\"high frequency\", \"moderate frequency\", \"low frequency\"))\n",
    "\n",
    "ggplot(aggWornFreq, aes(x=\"\", y=total_count, fill=wearFreq)) +\n",
    "  geom_bar(stat=\"identity\", width=1, alpha = 0.75) +\n",
    "  coord_polar(theta = \"y\") +\n",
    "  theme_void() +\n",
    " scale_fill_nejm(name = \"Usage Frequency\") +\n",
    "  geom_text(aes(label = total_count), position = position_stack(vjust = 0.5)) +\n",
    "  labs(title = \"Breakdown of users by wear frequency\")"
   ]
  },
  {
   "cell_type": "markdown",
   "id": "8a46500f",
   "metadata": {
    "papermill": {
     "duration": 0.01809,
     "end_time": "2023-04-16T18:21:49.960761",
     "exception": false,
     "start_time": "2023-04-16T18:21:49.942671",
     "status": "completed"
    },
    "tags": []
   },
   "source": [
    "Here we can see that 23 users are high frequency users, 9 are moderate frequency users, and 1 user is a low frequency user.\n",
    "If it were verifiable that the sample and sampling techniques were representative, this statistic could be a **predictor of the breakdown of the usage frequency of the whole population** of fitness device wearers.\n",
    "\n",
    "**Recommendation**: Based on this breakdown of usage frequency, as well as other findings in this case study, a follow up survey should be conducted to ask people who use fitness devices how often they use their device, and reasons for doing so (e.g. high frequency because they like to track every step; moderate frequency because they only wear it when they exercise; low frequency because it's like a watch to them, they only wear it on weekends)."
   ]
  },
  {
   "cell_type": "markdown",
   "id": "7991ef01",
   "metadata": {
    "papermill": {
     "duration": 0.017864,
     "end_time": "2023-04-16T18:21:49.996547",
     "exception": false,
     "start_time": "2023-04-16T18:21:49.978683",
     "status": "completed"
    },
    "tags": []
   },
   "source": [
    "##### 5.1.1.2 Days the device is not worn by day of week\n",
    "We can also explore if there is a trend for when users do not wear their device on certain days. For example, if users don't wear their device on weekends because they are relaxing or going out, or perhaps they don't wear it on weekdays, because they go to work and do not do much physical activity.\n"
   ]
  },
  {
   "cell_type": "code",
   "execution_count": 17,
   "id": "7c6defba",
   "metadata": {
    "execution": {
     "iopub.execute_input": "2023-04-16T18:21:50.035983Z",
     "iopub.status.busy": "2023-04-16T18:21:50.034729Z",
     "iopub.status.idle": "2023-04-16T18:21:50.061793Z",
     "shell.execute_reply": "2023-04-16T18:21:50.060528Z"
    },
    "papermill": {
     "duration": 0.048828,
     "end_time": "2023-04-16T18:21:50.063967",
     "exception": false,
     "start_time": "2023-04-16T18:21:50.015139",
     "status": "completed"
    },
    "tags": []
   },
   "outputs": [
    {
     "data": {
      "text/html": [
       "<time datetime=\"2016-05-12\">2016-05-12</time>"
      ],
      "text/latex": [
       "2016-05-12"
      ],
      "text/markdown": [
       "2016-05-12"
      ],
      "text/plain": [
       "[1] \"2016-05-12\""
      ]
     },
     "metadata": {},
     "output_type": "display_data"
    },
    {
     "data": {
      "text/html": [
       "<time datetime=\"2016-04-12\">2016-04-12</time>"
      ],
      "text/latex": [
       "2016-04-12"
      ],
      "text/markdown": [
       "2016-04-12"
      ],
      "text/plain": [
       "[1] \"2016-04-12\""
      ]
     },
     "metadata": {},
     "output_type": "display_data"
    }
   ],
   "source": [
    "#We must first insert rows for each user, for each date where a record does not exist, which count as a non-wear day\n",
    "max(daiAct$ActivityDate)\n",
    "min(daiAct$ActivityDate)\n",
    "start_date <- as.Date(\"2016-04-12\")\n",
    "end_date <- as.Date(\"2016-05-12\")\n",
    "id_numbers <- unique(daiAct$Id)"
   ]
  },
  {
   "cell_type": "code",
   "execution_count": 18,
   "id": "f90a4162",
   "metadata": {
    "execution": {
     "iopub.execute_input": "2023-04-16T18:21:50.103967Z",
     "iopub.status.busy": "2023-04-16T18:21:50.102707Z",
     "iopub.status.idle": "2023-04-16T18:21:50.138955Z",
     "shell.execute_reply": "2023-04-16T18:21:50.137575Z"
    },
    "papermill": {
     "duration": 0.058078,
     "end_time": "2023-04-16T18:21:50.140751",
     "exception": false,
     "start_time": "2023-04-16T18:21:50.082673",
     "status": "completed"
    },
    "tags": []
   },
   "outputs": [
    {
     "data": {
      "text/html": [
       "1023"
      ],
      "text/latex": [
       "1023"
      ],
      "text/markdown": [
       "1023"
      ],
      "text/plain": [
       "[1] 1023"
      ]
     },
     "metadata": {},
     "output_type": "display_data"
    }
   ],
   "source": [
    "proxyDates <- expand.grid(Id = id_numbers, ActivityDate = seq(from = start_date, to = end_date, by = \"day\"))\n",
    "\n",
    "proxyExisting <- merge(daiAct, proxyDates, by = c(\"Id\", \"ActivityDate\"), all = FALSE)\n",
    "\n",
    "new_rows <- anti_join(proxyDates, proxyExisting, by = c(\"Id\", \"ActivityDate\"))\n",
    "\n",
    "new_rows$TotalSteps <- rep(0, nrow(new_rows))\n",
    "\n",
    "daiActProxy <- daiAct[, -c(4:16)]\n",
    "\n",
    "daiActPlus <- rbind(daiActProxy, new_rows)\n",
    "\n",
    "nrow(daiActPlus) #This should be 33 users x 31 days giving 1023 to be accurate"
   ]
  },
  {
   "cell_type": "code",
   "execution_count": 19,
   "id": "1d6ba385",
   "metadata": {
    "execution": {
     "iopub.execute_input": "2023-04-16T18:21:50.180264Z",
     "iopub.status.busy": "2023-04-16T18:21:50.179030Z",
     "iopub.status.idle": "2023-04-16T18:21:50.192669Z",
     "shell.execute_reply": "2023-04-16T18:21:50.191149Z"
    },
    "papermill": {
     "duration": 0.035595,
     "end_time": "2023-04-16T18:21:50.194664",
     "exception": false,
     "start_time": "2023-04-16T18:21:50.159069",
     "status": "completed"
    },
    "tags": []
   },
   "outputs": [],
   "source": [
    "daiActPlus$DayOfWeek <- weekdays(daiActPlus$ActivityDate)\n",
    "daysNotWorn <- subset(daiActPlus, TotalSteps <= 20)\n"
   ]
  },
  {
   "cell_type": "code",
   "execution_count": 20,
   "id": "2713580f",
   "metadata": {
    "execution": {
     "iopub.execute_input": "2023-04-16T18:21:50.234627Z",
     "iopub.status.busy": "2023-04-16T18:21:50.233294Z",
     "iopub.status.idle": "2023-04-16T18:21:50.625853Z",
     "shell.execute_reply": "2023-04-16T18:21:50.624504Z"
    },
    "papermill": {
     "duration": 0.414554,
     "end_time": "2023-04-16T18:21:50.627989",
     "exception": false,
     "start_time": "2023-04-16T18:21:50.213435",
     "status": "completed"
    },
    "tags": []
   },
   "outputs": [
    {
     "data": {
      "image/png": "[encoded data removed]"
     },
     "metadata": {
      "image/png": {
       "height": 420,
       "width": 420
      }
     },
     "output_type": "display_data"
    }
   ],
   "source": [
    "daysNotWornCount <- daysNotWorn %>%\n",
    "group_by(DayOfWeek) %>%\n",
    "summarize(DayCount = n())\n",
    "\n",
    "daysNotWornCount$DayOfWeek <- factor(daysNotWornCount$DayOfWeek, levels = c(\"Monday\", \"Tuesday\", \"Wednesday\", \"Thursday\", \"Friday\",\"Saturday\", \"Sunday\"))\n",
    "\n",
    "ggplot(daysNotWornCount, aes(x=DayOfWeek, y=DayCount, fill = DayOfWeek)) +\n",
    "  scale_y_continuous(breaks= pretty_breaks())+\n",
    "  geom_bar(stat=\"identity\", alpha = 0.75) +\n",
    "  scale_fill_nejm()+\n",
    "  theme_bw()+\n",
    "  theme(panel.grid.major = element_blank(),\n",
    "    panel.grid.minor = element_blank())+\n",
    "  geom_text(aes(label = DayCount), position = position_stack(vjust = 0.5)) +\n",
    "  labs(title = \"Count of days unworn by day of week\", x = \"Day of week\", y = \"Number of days\")\n",
    "\n",
    "#Interesting to note that Friday is the day with the fewest counts not worn - look at if activity matches this"
   ]
  },
  {
   "cell_type": "markdown",
   "id": "e57aa4be",
   "metadata": {
    "papermill": {
     "duration": 0.019159,
     "end_time": "2023-04-16T18:21:50.667020",
     "exception": false,
     "start_time": "2023-04-16T18:21:50.647861",
     "status": "completed"
    },
    "tags": []
   },
   "source": [
    "We see that with the exception of Monday, **users tend to wear their devices less on weekdays, and more on weekends, particularly Friday**, which has the lowest count of non-wear, by quite a margin.\n",
    "<br>\n",
    "\n",
    "This could be for various reasons; perhaps users prefer to use their device purely to track exercise activities, which they are more likely to do on weekends, or perhaps users do not wear their device in more formal settings in the office, or perhaps users just don't care to track health data while busy. **The findings for this would be of importance for Bellabeat to know, as one of the selling points of their Leaf device is that it blends in to more formal or stylish settings, mimicking jewellery, rather than a sports device.**\n",
    "<br>\n",
    "\n",
    "In order to ascertain the true reasons for this, it would have been good to send the users in the dataset a follow-up survey, but since this is not possible, a similar survey can be sent to a well-sample, representative group, to ask about when they are most likely to wear or not wear their device, and the reasons for that."
   ]
  },
  {
   "cell_type": "markdown",
   "id": "050d1b21",
   "metadata": {
    "papermill": {
     "duration": 0.018693,
     "end_time": "2023-04-16T18:21:50.704248",
     "exception": false,
     "start_time": "2023-04-16T18:21:50.685555",
     "status": "completed"
    },
    "tags": []
   },
   "source": [
    "### 5.1.2 Usage of sleep tracking function"
   ]
  },
  {
   "cell_type": "code",
   "execution_count": 21,
   "id": "dcf003f1",
   "metadata": {
    "execution": {
     "iopub.execute_input": "2023-04-16T18:21:50.744821Z",
     "iopub.status.busy": "2023-04-16T18:21:50.743532Z",
     "iopub.status.idle": "2023-04-16T18:21:50.776410Z",
     "shell.execute_reply": "2023-04-16T18:21:50.775031Z"
    },
    "papermill": {
     "duration": 0.055696,
     "end_time": "2023-04-16T18:21:50.778794",
     "exception": false,
     "start_time": "2023-04-16T18:21:50.723098",
     "status": "completed"
    },
    "tags": []
   },
   "outputs": [
    {
     "data": {
      "text/html": [
       "<table class=\"dataframe\">\n",
       "<caption>A data.frame: 24 × 2</caption>\n",
       "<thead>\n",
       "\t<tr><th scope=col>Id</th><th scope=col>sleepLogCount</th></tr>\n",
       "\t<tr><th scope=col>&lt;chr&gt;</th><th scope=col>&lt;int&gt;</th></tr>\n",
       "</thead>\n",
       "<tbody>\n",
       "\t<tr><td>1503960366</td><td>25</td></tr>\n",
       "\t<tr><td>1644430081</td><td> 4</td></tr>\n",
       "\t<tr><td>1844505072</td><td> 3</td></tr>\n",
       "\t<tr><td>1927972279</td><td> 5</td></tr>\n",
       "\t<tr><td>2026352035</td><td>28</td></tr>\n",
       "\t<tr><td>2320127002</td><td> 1</td></tr>\n",
       "\t<tr><td>2347167796</td><td>15</td></tr>\n",
       "\t<tr><td>3977333714</td><td>28</td></tr>\n",
       "\t<tr><td>4020332650</td><td> 8</td></tr>\n",
       "\t<tr><td>4319703577</td><td>26</td></tr>\n",
       "\t<tr><td>4388161847</td><td>23</td></tr>\n",
       "\t<tr><td>4445114986</td><td>28</td></tr>\n",
       "\t<tr><td>4558609924</td><td> 5</td></tr>\n",
       "\t<tr><td>4702921684</td><td>27</td></tr>\n",
       "\t<tr><td>5553957443</td><td>31</td></tr>\n",
       "\t<tr><td>5577150313</td><td>26</td></tr>\n",
       "\t<tr><td>6117666160</td><td>18</td></tr>\n",
       "\t<tr><td>6775888955</td><td> 3</td></tr>\n",
       "\t<tr><td>6962181067</td><td>31</td></tr>\n",
       "\t<tr><td>7007744171</td><td> 2</td></tr>\n",
       "\t<tr><td>7086361926</td><td>24</td></tr>\n",
       "\t<tr><td>8053475328</td><td> 3</td></tr>\n",
       "\t<tr><td>8378563200</td><td>31</td></tr>\n",
       "\t<tr><td>8792009665</td><td>15</td></tr>\n",
       "</tbody>\n",
       "</table>\n"
      ],
      "text/latex": [
       "A data.frame: 24 × 2\n",
       "\\begin{tabular}{ll}\n",
       " Id & sleepLogCount\\\\\n",
       " <chr> & <int>\\\\\n",
       "\\hline\n",
       "\t 1503960366 & 25\\\\\n",
       "\t 1644430081 &  4\\\\\n",
       "\t 1844505072 &  3\\\\\n",
       "\t 1927972279 &  5\\\\\n",
       "\t 2026352035 & 28\\\\\n",
       "\t 2320127002 &  1\\\\\n",
       "\t 2347167796 & 15\\\\\n",
       "\t 3977333714 & 28\\\\\n",
       "\t 4020332650 &  8\\\\\n",
       "\t 4319703577 & 26\\\\\n",
       "\t 4388161847 & 23\\\\\n",
       "\t 4445114986 & 28\\\\\n",
       "\t 4558609924 &  5\\\\\n",
       "\t 4702921684 & 27\\\\\n",
       "\t 5553957443 & 31\\\\\n",
       "\t 5577150313 & 26\\\\\n",
       "\t 6117666160 & 18\\\\\n",
       "\t 6775888955 &  3\\\\\n",
       "\t 6962181067 & 31\\\\\n",
       "\t 7007744171 &  2\\\\\n",
       "\t 7086361926 & 24\\\\\n",
       "\t 8053475328 &  3\\\\\n",
       "\t 8378563200 & 31\\\\\n",
       "\t 8792009665 & 15\\\\\n",
       "\\end{tabular}\n"
      ],
      "text/markdown": [
       "\n",
       "A data.frame: 24 × 2\n",
       "\n",
       "| Id &lt;chr&gt; | sleepLogCount &lt;int&gt; |\n",
       "|---|---|\n",
       "| 1503960366 | 25 |\n",
       "| 1644430081 |  4 |\n",
       "| 1844505072 |  3 |\n",
       "| 1927972279 |  5 |\n",
       "| 2026352035 | 28 |\n",
       "| 2320127002 |  1 |\n",
       "| 2347167796 | 15 |\n",
       "| 3977333714 | 28 |\n",
       "| 4020332650 |  8 |\n",
       "| 4319703577 | 26 |\n",
       "| 4388161847 | 23 |\n",
       "| 4445114986 | 28 |\n",
       "| 4558609924 |  5 |\n",
       "| 4702921684 | 27 |\n",
       "| 5553957443 | 31 |\n",
       "| 5577150313 | 26 |\n",
       "| 6117666160 | 18 |\n",
       "| 6775888955 |  3 |\n",
       "| 6962181067 | 31 |\n",
       "| 7007744171 |  2 |\n",
       "| 7086361926 | 24 |\n",
       "| 8053475328 |  3 |\n",
       "| 8378563200 | 31 |\n",
       "| 8792009665 | 15 |\n",
       "\n"
      ],
      "text/plain": [
       "   Id         sleepLogCount\n",
       "1  1503960366 25           \n",
       "2  1644430081  4           \n",
       "3  1844505072  3           \n",
       "4  1927972279  5           \n",
       "5  2026352035 28           \n",
       "6  2320127002  1           \n",
       "7  2347167796 15           \n",
       "8  3977333714 28           \n",
       "9  4020332650  8           \n",
       "10 4319703577 26           \n",
       "11 4388161847 23           \n",
       "12 4445114986 28           \n",
       "13 4558609924  5           \n",
       "14 4702921684 27           \n",
       "15 5553957443 31           \n",
       "16 5577150313 26           \n",
       "17 6117666160 18           \n",
       "18 6775888955  3           \n",
       "19 6962181067 31           \n",
       "20 7007744171  2           \n",
       "21 7086361926 24           \n",
       "22 8053475328  3           \n",
       "23 8378563200 31           \n",
       "24 8792009665 15           "
      ]
     },
     "metadata": {},
     "output_type": "display_data"
    }
   ],
   "source": [
    "sleepLogs <- aggregate(sleepDay$Id, by = list(sleepDay$Id), FUN = length)\n",
    "colnames(sleepLogs)[1] =\"Id\"\n",
    "colnames(sleepLogs)[2] =\"sleepLogCount\"\n",
    "\n",
    "sleepLogs"
   ]
  },
  {
   "cell_type": "code",
   "execution_count": 22,
   "id": "e9bccd29",
   "metadata": {
    "execution": {
     "iopub.execute_input": "2023-04-16T18:21:50.820320Z",
     "iopub.status.busy": "2023-04-16T18:21:50.818998Z",
     "iopub.status.idle": "2023-04-16T18:21:50.845655Z",
     "shell.execute_reply": "2023-04-16T18:21:50.844204Z"
    },
    "papermill": {
     "duration": 0.049923,
     "end_time": "2023-04-16T18:21:50.847628",
     "exception": false,
     "start_time": "2023-04-16T18:21:50.797705",
     "status": "completed"
    },
    "tags": []
   },
   "outputs": [
    {
     "data": {
      "text/html": [
       "<table class=\"dataframe\">\n",
       "<caption>A data.frame: 6 × 4</caption>\n",
       "<thead>\n",
       "\t<tr><th></th><th scope=col>Id</th><th scope=col>daysCount</th><th scope=col>wearFreq</th><th scope=col>sleepLogCount</th></tr>\n",
       "\t<tr><th></th><th scope=col>&lt;fct&gt;</th><th scope=col>&lt;int&gt;</th><th scope=col>&lt;chr&gt;</th><th scope=col>&lt;dbl&gt;</th></tr>\n",
       "</thead>\n",
       "<tbody>\n",
       "\t<tr><th scope=row>1</th><td>4057192912</td><td> 3</td><td>low frequency     </td><td> 0</td></tr>\n",
       "\t<tr><th scope=row>2</th><td>4020332650</td><td>16</td><td>moderate frequency</td><td> 8</td></tr>\n",
       "\t<tr><th scope=row>3</th><td>6775888955</td><td>16</td><td>moderate frequency</td><td> 3</td></tr>\n",
       "\t<tr><th scope=row>4</th><td>1927972279</td><td>17</td><td>moderate frequency</td><td> 5</td></tr>\n",
       "\t<tr><th scope=row>5</th><td>2347167796</td><td>18</td><td>moderate frequency</td><td>15</td></tr>\n",
       "\t<tr><th scope=row>6</th><td>8253242879</td><td>18</td><td>moderate frequency</td><td> 0</td></tr>\n",
       "</tbody>\n",
       "</table>\n"
      ],
      "text/latex": [
       "A data.frame: 6 × 4\n",
       "\\begin{tabular}{r|llll}\n",
       "  & Id & daysCount & wearFreq & sleepLogCount\\\\\n",
       "  & <fct> & <int> & <chr> & <dbl>\\\\\n",
       "\\hline\n",
       "\t1 & 4057192912 &  3 & low frequency      &  0\\\\\n",
       "\t2 & 4020332650 & 16 & moderate frequency &  8\\\\\n",
       "\t3 & 6775888955 & 16 & moderate frequency &  3\\\\\n",
       "\t4 & 1927972279 & 17 & moderate frequency &  5\\\\\n",
       "\t5 & 2347167796 & 18 & moderate frequency & 15\\\\\n",
       "\t6 & 8253242879 & 18 & moderate frequency &  0\\\\\n",
       "\\end{tabular}\n"
      ],
      "text/markdown": [
       "\n",
       "A data.frame: 6 × 4\n",
       "\n",
       "| <!--/--> | Id &lt;fct&gt; | daysCount &lt;int&gt; | wearFreq &lt;chr&gt; | sleepLogCount &lt;dbl&gt; |\n",
       "|---|---|---|---|---|\n",
       "| 1 | 4057192912 |  3 | low frequency      |  0 |\n",
       "| 2 | 4020332650 | 16 | moderate frequency |  8 |\n",
       "| 3 | 6775888955 | 16 | moderate frequency |  3 |\n",
       "| 4 | 1927972279 | 17 | moderate frequency |  5 |\n",
       "| 5 | 2347167796 | 18 | moderate frequency | 15 |\n",
       "| 6 | 8253242879 | 18 | moderate frequency |  0 |\n",
       "\n"
      ],
      "text/plain": [
       "  Id         daysCount wearFreq           sleepLogCount\n",
       "1 4057192912  3        low frequency       0           \n",
       "2 4020332650 16        moderate frequency  8           \n",
       "3 6775888955 16        moderate frequency  3           \n",
       "4 1927972279 17        moderate frequency  5           \n",
       "5 2347167796 18        moderate frequency 15           \n",
       "6 8253242879 18        moderate frequency  0           "
      ]
     },
     "metadata": {},
     "output_type": "display_data"
    }
   ],
   "source": [
    "wornAndSleep <- merge(x=daysWornFreq,y=sleepLogs, \n",
    "             by=\"Id\", all=TRUE)\n",
    "\n",
    "#We can assign 0 value to all NA in wornAndSleep, because it just means that user didn't log sleep at all\n",
    "\n",
    "wornAndSleep <- replace(wornAndSleep, is.na(wornAndSleep), 0)\n",
    "\n",
    "head(wornAndSleep)\n"
   ]
  },
  {
   "cell_type": "code",
   "execution_count": 23,
   "id": "55661863",
   "metadata": {
    "execution": {
     "iopub.execute_input": "2023-04-16T18:21:50.891599Z",
     "iopub.status.busy": "2023-04-16T18:21:50.890306Z",
     "iopub.status.idle": "2023-04-16T18:21:51.175883Z",
     "shell.execute_reply": "2023-04-16T18:21:51.173690Z"
    },
    "papermill": {
     "duration": 0.309548,
     "end_time": "2023-04-16T18:21:51.178309",
     "exception": false,
     "start_time": "2023-04-16T18:21:50.868761",
     "status": "completed"
    },
    "tags": []
   },
   "outputs": [
    {
     "data": {
      "image/png": "[encoded data removed]"
     },
     "metadata": {
      "image/png": {
       "height": 420,
       "width": 420
      }
     },
     "output_type": "display_data"
    }
   ],
   "source": [
    "wornAndSleep$Id <- factor(wornAndSleep$Id, levels = wornAndSleep$Id[order(wornAndSleep$sleepLogCount)])\n",
    "\n",
    "ggplot(wornAndSleep, aes(x=Id, y=sleepLogCount)) +\n",
    "  scale_y_continuous(breaks= pretty_breaks())+\n",
    "  geom_bar(fill = \"purple\", stat=\"identity\", alpha = 0.75) +\n",
    "  theme_bw()+\n",
    "  theme(panel.grid.major = element_blank(),\n",
    "    panel.grid.minor = element_blank(),\n",
    "       axis.text.x = element_blank())+\n",
    "  geom_text(aes(label = sleepLogCount), position = position_stack(vjust = 0.5)) +\n",
    "  labs(title = \"Days device was worn per user\", x = \"Users\", y = \" Days worn\")"
   ]
  },
  {
   "cell_type": "markdown",
   "id": "984eeb40",
   "metadata": {
    "papermill": {
     "duration": 0.019734,
     "end_time": "2023-04-16T18:21:51.217811",
     "exception": false,
     "start_time": "2023-04-16T18:21:51.198077",
     "status": "completed"
    },
    "tags": []
   },
   "source": [
    "At a glance, we can see that far fewer users used the sleep logging function as frequently, and half barely used the feature."
   ]
  },
  {
   "cell_type": "code",
   "execution_count": 24,
   "id": "98cf4da9",
   "metadata": {
    "execution": {
     "iopub.execute_input": "2023-04-16T18:21:51.259400Z",
     "iopub.status.busy": "2023-04-16T18:21:51.258160Z",
     "iopub.status.idle": "2023-04-16T18:21:51.283436Z",
     "shell.execute_reply": "2023-04-16T18:21:51.281488Z"
    },
    "papermill": {
     "duration": 0.048352,
     "end_time": "2023-04-16T18:21:51.285687",
     "exception": false,
     "start_time": "2023-04-16T18:21:51.237335",
     "status": "completed"
    },
    "tags": []
   },
   "outputs": [
    {
     "data": {
      "text/html": [
       "<table class=\"dataframe\">\n",
       "<caption>A data.frame: 6 × 5</caption>\n",
       "<thead>\n",
       "\t<tr><th></th><th scope=col>Id</th><th scope=col>daysCount</th><th scope=col>wearFreq</th><th scope=col>sleepLogCount</th><th scope=col>sleepUseFreq</th></tr>\n",
       "\t<tr><th></th><th scope=col>&lt;fct&gt;</th><th scope=col>&lt;int&gt;</th><th scope=col>&lt;chr&gt;</th><th scope=col>&lt;dbl&gt;</th><th scope=col>&lt;chr&gt;</th></tr>\n",
       "</thead>\n",
       "<tbody>\n",
       "\t<tr><th scope=row>1</th><td>4057192912</td><td> 3</td><td>low frequency     </td><td> 0</td><td>non-user          </td></tr>\n",
       "\t<tr><th scope=row>2</th><td>4020332650</td><td>16</td><td>moderate frequency</td><td> 8</td><td>low frequency     </td></tr>\n",
       "\t<tr><th scope=row>3</th><td>6775888955</td><td>16</td><td>moderate frequency</td><td> 3</td><td>low frequency     </td></tr>\n",
       "\t<tr><th scope=row>4</th><td>1927972279</td><td>17</td><td>moderate frequency</td><td> 5</td><td>low frequency     </td></tr>\n",
       "\t<tr><th scope=row>5</th><td>2347167796</td><td>18</td><td>moderate frequency</td><td>15</td><td>moderate frequency</td></tr>\n",
       "\t<tr><th scope=row>6</th><td>8253242879</td><td>18</td><td>moderate frequency</td><td> 0</td><td>non-user          </td></tr>\n",
       "</tbody>\n",
       "</table>\n"
      ],
      "text/latex": [
       "A data.frame: 6 × 5\n",
       "\\begin{tabular}{r|lllll}\n",
       "  & Id & daysCount & wearFreq & sleepLogCount & sleepUseFreq\\\\\n",
       "  & <fct> & <int> & <chr> & <dbl> & <chr>\\\\\n",
       "\\hline\n",
       "\t1 & 4057192912 &  3 & low frequency      &  0 & non-user          \\\\\n",
       "\t2 & 4020332650 & 16 & moderate frequency &  8 & low frequency     \\\\\n",
       "\t3 & 6775888955 & 16 & moderate frequency &  3 & low frequency     \\\\\n",
       "\t4 & 1927972279 & 17 & moderate frequency &  5 & low frequency     \\\\\n",
       "\t5 & 2347167796 & 18 & moderate frequency & 15 & moderate frequency\\\\\n",
       "\t6 & 8253242879 & 18 & moderate frequency &  0 & non-user          \\\\\n",
       "\\end{tabular}\n"
      ],
      "text/markdown": [
       "\n",
       "A data.frame: 6 × 5\n",
       "\n",
       "| <!--/--> | Id &lt;fct&gt; | daysCount &lt;int&gt; | wearFreq &lt;chr&gt; | sleepLogCount &lt;dbl&gt; | sleepUseFreq &lt;chr&gt; |\n",
       "|---|---|---|---|---|---|\n",
       "| 1 | 4057192912 |  3 | low frequency      |  0 | non-user           |\n",
       "| 2 | 4020332650 | 16 | moderate frequency |  8 | low frequency      |\n",
       "| 3 | 6775888955 | 16 | moderate frequency |  3 | low frequency      |\n",
       "| 4 | 1927972279 | 17 | moderate frequency |  5 | low frequency      |\n",
       "| 5 | 2347167796 | 18 | moderate frequency | 15 | moderate frequency |\n",
       "| 6 | 8253242879 | 18 | moderate frequency |  0 | non-user           |\n",
       "\n"
      ],
      "text/plain": [
       "  Id         daysCount wearFreq           sleepLogCount sleepUseFreq      \n",
       "1 4057192912  3        low frequency       0            non-user          \n",
       "2 4020332650 16        moderate frequency  8            low frequency     \n",
       "3 6775888955 16        moderate frequency  3            low frequency     \n",
       "4 1927972279 17        moderate frequency  5            low frequency     \n",
       "5 2347167796 18        moderate frequency 15            moderate frequency\n",
       "6 8253242879 18        moderate frequency  0            non-user          "
      ]
     },
     "metadata": {},
     "output_type": "display_data"
    }
   ],
   "source": [
    "wornAndSleep <- wornAndSleep %>%\n",
    "  mutate(sleepUseFreq = case_when(\n",
    "    sleepLogCount == 0 ~ \"non-user\",\n",
    "    sleepLogCount > 0 & sleepLogCount < 15 ~ \"low frequency\",\n",
    "    sleepLogCount >= 15 & sleepLogCount < 24 ~ \"moderate frequency\",\n",
    "    sleepLogCount >= 24 ~ \"high frequency\", \n",
    "  ))\n",
    "\n",
    "head(wornAndSleep)"
   ]
  },
  {
   "cell_type": "code",
   "execution_count": 25,
   "id": "7aa1b922",
   "metadata": {
    "execution": {
     "iopub.execute_input": "2023-04-16T18:21:51.327505Z",
     "iopub.status.busy": "2023-04-16T18:21:51.326321Z",
     "iopub.status.idle": "2023-04-16T18:21:51.350810Z",
     "shell.execute_reply": "2023-04-16T18:21:51.348943Z"
    },
    "papermill": {
     "duration": 0.047457,
     "end_time": "2023-04-16T18:21:51.352849",
     "exception": false,
     "start_time": "2023-04-16T18:21:51.305392",
     "status": "completed"
    },
    "tags": []
   },
   "outputs": [
    {
     "data": {
      "text/html": [
       "<table class=\"dataframe\">\n",
       "<caption>A tibble: 4 × 2</caption>\n",
       "<thead>\n",
       "\t<tr><th scope=col>sleepUseFreq</th><th scope=col>total_count</th></tr>\n",
       "\t<tr><th scope=col>&lt;chr&gt;</th><th scope=col>&lt;int&gt;</th></tr>\n",
       "</thead>\n",
       "<tbody>\n",
       "\t<tr><td>high frequency    </td><td>11</td></tr>\n",
       "\t<tr><td>low frequency     </td><td> 9</td></tr>\n",
       "\t<tr><td>moderate frequency</td><td> 4</td></tr>\n",
       "\t<tr><td>non-user          </td><td> 9</td></tr>\n",
       "</tbody>\n",
       "</table>\n"
      ],
      "text/latex": [
       "A tibble: 4 × 2\n",
       "\\begin{tabular}{ll}\n",
       " sleepUseFreq & total\\_count\\\\\n",
       " <chr> & <int>\\\\\n",
       "\\hline\n",
       "\t high frequency     & 11\\\\\n",
       "\t low frequency      &  9\\\\\n",
       "\t moderate frequency &  4\\\\\n",
       "\t non-user           &  9\\\\\n",
       "\\end{tabular}\n"
      ],
      "text/markdown": [
       "\n",
       "A tibble: 4 × 2\n",
       "\n",
       "| sleepUseFreq &lt;chr&gt; | total_count &lt;int&gt; |\n",
       "|---|---|\n",
       "| high frequency     | 11 |\n",
       "| low frequency      |  9 |\n",
       "| moderate frequency |  4 |\n",
       "| non-user           |  9 |\n",
       "\n"
      ],
      "text/plain": [
       "  sleepUseFreq       total_count\n",
       "1 high frequency     11         \n",
       "2 low frequency       9         \n",
       "3 moderate frequency  4         \n",
       "4 non-user            9         "
      ]
     },
     "metadata": {},
     "output_type": "display_data"
    }
   ],
   "source": [
    "aggwornAndSleep <- wornAndSleep %>% group_by(sleepUseFreq) %>% \n",
    "  summarise(total_count=n(),\n",
    "            .groups = 'drop')\n",
    "\n",
    "aggwornAndSleep"
   ]
  },
  {
   "cell_type": "code",
   "execution_count": 26,
   "id": "ce143f6f",
   "metadata": {
    "execution": {
     "iopub.execute_input": "2023-04-16T18:21:51.395220Z",
     "iopub.status.busy": "2023-04-16T18:21:51.393976Z",
     "iopub.status.idle": "2023-04-16T18:21:51.921616Z",
     "shell.execute_reply": "2023-04-16T18:21:51.919506Z"
    },
    "papermill": {
     "duration": 0.552531,
     "end_time": "2023-04-16T18:21:51.924984",
     "exception": false,
     "start_time": "2023-04-16T18:21:51.372453",
     "status": "completed"
    },
    "tags": []
   },
   "outputs": [
    {
     "data": {
      "image/png": "[encoded data removed]"
     },
     "metadata": {
      "image/png": {
       "height": 420,
       "width": 420
      }
     },
     "output_type": "display_data"
    },
    {
     "data": {
      "image/png": "[encoded data removed]"
     },
     "metadata": {
      "image/png": {
       "height": 420,
       "width": 420
      }
     },
     "output_type": "display_data"
    }
   ],
   "source": [
    "aggwornAndSleep$sleepUseFreq <- factor(aggwornAndSleep$sleepUseFreq, levels = c(\"high frequency\", \"moderate frequency\", \"low frequency\", \"non-user\"))\n",
    "\n",
    "ggplot(aggwornAndSleep, aes(x=\"\", y=total_count, fill=sleepUseFreq)) +\n",
    "  geom_bar(stat=\"identity\", width=1, alpha = 0.75) +\n",
    "  coord_polar(theta = \"y\") +\n",
    "  theme_void() +\n",
    " scale_fill_nejm(name = \"Usage Frequency\") +\n",
    "  geom_text(aes(label = total_count), position = position_stack(vjust = 0.5)) +\n",
    "  labs(title = \"Breakdown of users by sleep usage frequency\")\n",
    "\n",
    "ggplot(aggWornFreq, aes(x=\"\", y=total_count, fill=wearFreq)) +\n",
    "  geom_bar(stat=\"identity\", width=1, alpha = 0.75) +\n",
    "  coord_polar(theta = \"y\") +\n",
    "  theme_void() +\n",
    " scale_fill_nejm(name = \"Usage Frequency\") +\n",
    "  geom_text(aes(label = total_count), position = position_stack(vjust = 0.5)) +\n",
    "  labs(title = \"Breakdown of users by wear frequency\")"
   ]
  },
  {
   "cell_type": "markdown",
   "id": "5e1c63a9",
   "metadata": {
    "papermill": {
     "duration": 0.021112,
     "end_time": "2023-04-16T18:21:51.968278",
     "exception": false,
     "start_time": "2023-04-16T18:21:51.947166",
     "status": "completed"
    },
    "tags": []
   },
   "source": [
    "We can see that when comparing breakdown of sleep function usage to wearing the device, far fewer users used the sleep tracking function consistently, and quite a few did not use it at all.\n",
    "\n",
    "Only 15 participants, less than half of the 33 use the sleep tracker with regularity, while 18 users did not use it frequently, with 9 not using it at all.\n",
    "\n",
    "This finding **indicates that the sleep function is not highly valued by Fitbit users**, and finding out the reasons for this can be useful for product/marketing strategy.\n",
    "\n",
    "Potential reasons might be:\n",
    "1. User do not feel the need to track sleep (Sleep function not valued at all)\n",
    "2. Wearing the device while sleeping is uncomfortable\n",
    "3. Users feel that existing sleep tracking technology is inaccurate or not useful\n",
    "\n",
    "\n",
    "**Recommendation**: The best way to find out the true reasons is to survey users, and the following questions can be asked to narrow down whether or not sleep tracking function is valued/prioritised, and the reasons for that.\n",
    "\n",
    "Do you currently own a wearable device?\n",
    "If yes - Do you regularly track your sleep through a wearable device?\n",
    "If no - What are some reasons for choosing not to track your sleep with your device?\n",
    "How important is the sleep tracker for you in a wearable device?\n"
   ]
  },
  {
   "cell_type": "markdown",
   "id": "045b7fa3",
   "metadata": {
    "papermill": {
     "duration": 0.020631,
     "end_time": "2023-04-16T18:21:52.009835",
     "exception": false,
     "start_time": "2023-04-16T18:21:51.989204",
     "status": "completed"
    },
    "tags": []
   },
   "source": [
    "#### 5.1.2.1 Correlation between frequency of wear, and frequency of sleep tracking (k-means clustering)\n",
    "To attempt to narrow down why users do not track their sleep, we see if there is a correlation between how often users wear their device, and how often they track their sleep."
   ]
  },
  {
   "cell_type": "code",
   "execution_count": 27,
   "id": "8a69d3e1",
   "metadata": {
    "execution": {
     "iopub.execute_input": "2023-04-16T18:21:52.054316Z",
     "iopub.status.busy": "2023-04-16T18:21:52.052945Z",
     "iopub.status.idle": "2023-04-16T18:21:53.363210Z",
     "shell.execute_reply": "2023-04-16T18:21:53.361221Z"
    },
    "papermill": {
     "duration": 1.335453,
     "end_time": "2023-04-16T18:21:53.365732",
     "exception": false,
     "start_time": "2023-04-16T18:21:52.030279",
     "status": "completed"
    },
    "tags": []
   },
   "outputs": [
    {
     "name": "stderr",
     "output_type": "stream",
     "text": [
      "\u001b[1m\u001b[22m`geom_smooth()` using method = 'loess' and formula = 'y ~ x'\n",
      "Warning message:\n",
      "“\u001b[1m\u001b[22mRemoved 5 rows containing missing values (`geom_smooth()`).”\n"
     ]
    },
    {
     "data": {
      "image/png": "[encoded data removed]"
     },
     "metadata": {
      "image/png": {
       "height": 420,
       "width": 420
      }
     },
     "output_type": "display_data"
    }
   ],
   "source": [
    "#Filtering out the non-user before plotting to see relationship between how often users use activity tracking vs how often they use sleep tracking\n",
    "wornAndSleep %>% ggplot(aes(x=sleepLogCount, y=daysCount)) + geom_point() + geom_smooth()+\n",
    "geom_abline(slope = 1, intercept = 0, color = \"red\")+\n",
    "  theme_bw()+\n",
    "  ylim(0, max(wornAndSleep$daysCount))+\n",
    "  xlim(0, max(wornAndSleep$sleepLogCount))+\n",
    "  geom_point(alpha = 0.5)"
   ]
  },
  {
   "cell_type": "markdown",
   "id": "46376ce5",
   "metadata": {
    "papermill": {
     "duration": 0.022881,
     "end_time": "2023-04-16T18:21:53.411149",
     "exception": false,
     "start_time": "2023-04-16T18:21:53.388268",
     "status": "completed"
    },
    "tags": []
   },
   "source": [
    "Through this scatterplot, we can see that there is not a clear relationship between wearing the device, and tracking sleep. However, bearing in mind that by tracking their sleep, users automatically have a count towards wearing the device, **it simply means that not all users track their sleep every day that they wear their device**.\n",
    "\n",
    "We can see however, that clusters seems to appear within the scatterpoints, and so we can try K-means clustering to find further insights."
   ]
  },
  {
   "cell_type": "code",
   "execution_count": 28,
   "id": "3fdaad07",
   "metadata": {
    "execution": {
     "iopub.execute_input": "2023-04-16T18:21:53.457068Z",
     "iopub.status.busy": "2023-04-16T18:21:53.455921Z",
     "iopub.status.idle": "2023-04-16T18:21:53.634941Z",
     "shell.execute_reply": "2023-04-16T18:21:53.632870Z"
    },
    "papermill": {
     "duration": 0.20464,
     "end_time": "2023-04-16T18:21:53.637375",
     "exception": false,
     "start_time": "2023-04-16T18:21:53.432735",
     "status": "completed"
    },
    "tags": []
   },
   "outputs": [
    {
     "data": {
      "image/png": "[encoded data removed]"
     },
     "metadata": {
      "image/png": {
       "height": 420,
       "width": 420
      }
     },
     "output_type": "display_data"
    }
   ],
   "source": [
    "wornAndSleepKMeans <- select(wornAndSleep, -3, -5)\n",
    "wornAndSleepKMeans <- as.data.frame(lapply(wornAndSleepKMeans, as.double))\n",
    "\n",
    "wss <- c()\n",
    "for (i in 1:10) {\n",
    "  kmeans_fit <- kmeans(scale(filter(wornAndSleepKMeans,daysCount > 10)), centers = i, nstart = 25)\n",
    "  wss[i] <- kmeans_fit$tot.withinss\n",
    "}\n",
    "\n",
    "plot(1:10, wss, type = \"b\", xlab = \"Number of clusters\", ylab = \"WSS\")"
   ]
  },
  {
   "cell_type": "markdown",
   "id": "6ba578c6",
   "metadata": {
    "papermill": {
     "duration": 0.02288,
     "end_time": "2023-04-16T18:21:53.683862",
     "exception": false,
     "start_time": "2023-04-16T18:21:53.660982",
     "status": "completed"
    },
    "tags": []
   },
   "source": [
    "Elbow method shows 3 centres is optimal"
   ]
  },
  {
   "cell_type": "code",
   "execution_count": 29,
   "id": "297b76ff",
   "metadata": {
    "execution": {
     "iopub.execute_input": "2023-04-16T18:21:53.732308Z",
     "iopub.status.busy": "2023-04-16T18:21:53.731091Z",
     "iopub.status.idle": "2023-04-16T18:21:53.752315Z",
     "shell.execute_reply": "2023-04-16T18:21:53.750482Z"
    },
    "papermill": {
     "duration": 0.048255,
     "end_time": "2023-04-16T18:21:53.755193",
     "exception": false,
     "start_time": "2023-04-16T18:21:53.706938",
     "status": "completed"
    },
    "tags": []
   },
   "outputs": [
    {
     "data": {
      "text/html": [
       "<style>\n",
       ".list-inline {list-style: none; margin:0; padding: 0}\n",
       ".list-inline>li {display: inline-block}\n",
       ".list-inline>li:not(:last-child)::after {content: \"\\00b7\"; padding: 0 .5ex}\n",
       "</style>\n",
       "<ol class=list-inline><li>2</li><li>2</li><li>2</li><li>2</li><li>2</li><li>2</li><li>2</li><li>2</li><li>2</li><li>1</li><li>1</li><li>3</li><li>3</li><li>1</li><li>3</li><li>3</li><li>3</li><li>3</li><li>1</li><li>1</li><li>1</li><li>3</li><li>1</li><li>1</li><li>3</li><li>3</li><li>1</li><li>3</li><li>3</li><li>1</li><li>3</li><li>1</li></ol>\n"
      ],
      "text/latex": [
       "\\begin{enumerate*}\n",
       "\\item 2\n",
       "\\item 2\n",
       "\\item 2\n",
       "\\item 2\n",
       "\\item 2\n",
       "\\item 2\n",
       "\\item 2\n",
       "\\item 2\n",
       "\\item 2\n",
       "\\item 1\n",
       "\\item 1\n",
       "\\item 3\n",
       "\\item 3\n",
       "\\item 1\n",
       "\\item 3\n",
       "\\item 3\n",
       "\\item 3\n",
       "\\item 3\n",
       "\\item 1\n",
       "\\item 1\n",
       "\\item 1\n",
       "\\item 3\n",
       "\\item 1\n",
       "\\item 1\n",
       "\\item 3\n",
       "\\item 3\n",
       "\\item 1\n",
       "\\item 3\n",
       "\\item 3\n",
       "\\item 1\n",
       "\\item 3\n",
       "\\item 1\n",
       "\\end{enumerate*}\n"
      ],
      "text/markdown": [
       "1. 2\n",
       "2. 2\n",
       "3. 2\n",
       "4. 2\n",
       "5. 2\n",
       "6. 2\n",
       "7. 2\n",
       "8. 2\n",
       "9. 2\n",
       "10. 1\n",
       "11. 1\n",
       "12. 3\n",
       "13. 3\n",
       "14. 1\n",
       "15. 3\n",
       "16. 3\n",
       "17. 3\n",
       "18. 3\n",
       "19. 1\n",
       "20. 1\n",
       "21. 1\n",
       "22. 3\n",
       "23. 1\n",
       "24. 1\n",
       "25. 3\n",
       "26. 3\n",
       "27. 1\n",
       "28. 3\n",
       "29. 3\n",
       "30. 1\n",
       "31. 3\n",
       "32. 1\n",
       "\n",
       "\n"
      ],
      "text/plain": [
       " [1] 2 2 2 2 2 2 2 2 2 1 1 3 3 1 3 3 3 3 1 1 1 3 1 1 3 3 1 3 3 1 3 1"
      ]
     },
     "metadata": {},
     "output_type": "display_data"
    }
   ],
   "source": [
    "kmeans_fit <- kmeans((scale(filter(wornAndSleepKMeans,daysCount > 10))), centers = 3, nstart = 25)\n",
    "kmeans_fit$cluster"
   ]
  },
  {
   "cell_type": "code",
   "execution_count": 30,
   "id": "f40b7261",
   "metadata": {
    "execution": {
     "iopub.execute_input": "2023-04-16T18:21:53.802638Z",
     "iopub.status.busy": "2023-04-16T18:21:53.801521Z",
     "iopub.status.idle": "2023-04-16T18:21:54.086932Z",
     "shell.execute_reply": "2023-04-16T18:21:54.084881Z"
    },
    "papermill": {
     "duration": 0.31148,
     "end_time": "2023-04-16T18:21:54.089528",
     "exception": false,
     "start_time": "2023-04-16T18:21:53.778048",
     "status": "completed"
    },
    "tags": []
   },
   "outputs": [
    {
     "data": {
      "image/png": "[encoded data removed]"
     },
     "metadata": {
      "image/png": {
       "height": 420,
       "width": 420
      }
     },
     "output_type": "display_data"
    }
   ],
   "source": [
    "wornAndSleep2 <- filter(wornAndSleep, daysCount > 10)\n",
    "wornAndSleep2$cluster <- as.factor(kmeans_fit$cluster)\n",
    "\n",
    "ggplot(wornAndSleep2, aes(x = sleepLogCount, y = daysCount, color = cluster)) + geom_point()+\n",
    "    theme_bw()+\n",
    "    ylim(0, max(wornAndSleep$daysCount))+\n",
    "    xlim(0, max(wornAndSleep$sleepLogCount))+\n",
    "geom_abline(slope = 1, intercept = 0, color = \"red\")\n"
   ]
  },
  {
   "cell_type": "markdown",
   "id": "361a80bd",
   "metadata": {
    "papermill": {
     "duration": 0.022342,
     "end_time": "2023-04-16T18:21:54.135094",
     "exception": false,
     "start_time": "2023-04-16T18:21:54.112752",
     "status": "completed"
    },
    "tags": []
   },
   "source": [
    "Based on the k-means clusters above, we see that the users fit into 3 clusters. From these 3 clusters, we can profile users based on how often they wear their device, in relation to how often they track their sleep.\n",
    "    <br>\n",
    "    \n",
    "The 3 profiles are as follows:\n",
    "* Cluster 1: Users who regularly wear their device, but do not use the sleep tracking feature\n",
    "* Cluster 3: Users who regularly wear their device, AND use the sleep tracking feature regularly\n",
    "* Cluster 2: Users who inconsistently wear their device and inconsistently track their sleep \n",
    "\n",
    "That users who wear their device almost daily fall into clusters 1 and 2 into tightly packed clusers also raises a potential finding - that users either track their sleep every day, or they do not at all, rather than tracking intermitenttly, to have a sense of their sleep data every so often. **Users either \"like\" the feature, or they do not.**"
   ]
  },
  {
   "cell_type": "markdown",
   "id": "17dbfe46",
   "metadata": {
    "papermill": {
     "duration": 0.022082,
     "end_time": "2023-04-16T18:21:54.179494",
     "exception": false,
     "start_time": "2023-04-16T18:21:54.157412",
     "status": "completed"
    },
    "tags": []
   },
   "source": [
    "### 5.1.3 How often is weight functionality utilised\n",
    "We examine how well utilised the weight tracking functionality is."
   ]
  },
  {
   "cell_type": "code",
   "execution_count": 31,
   "id": "810aa371",
   "metadata": {
    "execution": {
     "iopub.execute_input": "2023-04-16T18:21:54.227113Z",
     "iopub.status.busy": "2023-04-16T18:21:54.225958Z",
     "iopub.status.idle": "2023-04-16T18:21:54.247539Z",
     "shell.execute_reply": "2023-04-16T18:21:54.246301Z"
    },
    "papermill": {
     "duration": 0.047416,
     "end_time": "2023-04-16T18:21:54.249250",
     "exception": false,
     "start_time": "2023-04-16T18:21:54.201834",
     "status": "completed"
    },
    "tags": []
   },
   "outputs": [
    {
     "data": {
      "text/html": [
       "<table class=\"dataframe\">\n",
       "<caption>A data.frame: 6 × 9</caption>\n",
       "<thead>\n",
       "\t<tr><th></th><th scope=col>Id</th><th scope=col>Date</th><th scope=col>WeightKg</th><th scope=col>WeightPounds</th><th scope=col>Fat</th><th scope=col>BMI</th><th scope=col>IsManualReport</th><th scope=col>LogId</th><th scope=col>date</th></tr>\n",
       "\t<tr><th></th><th scope=col>&lt;chr&gt;</th><th scope=col>&lt;dttm&gt;</th><th scope=col>&lt;dbl&gt;</th><th scope=col>&lt;dbl&gt;</th><th scope=col>&lt;int&gt;</th><th scope=col>&lt;dbl&gt;</th><th scope=col>&lt;chr&gt;</th><th scope=col>&lt;dbl&gt;</th><th scope=col>&lt;date&gt;</th></tr>\n",
       "</thead>\n",
       "<tbody>\n",
       "\t<tr><th scope=row>1</th><td>1503960366</td><td>2016-05-02 23:59:59</td><td> 52.6</td><td>115.9631</td><td>22</td><td>22.65</td><td>True </td><td>1.462234e+12</td><td>2016-05-02</td></tr>\n",
       "\t<tr><th scope=row>2</th><td>1503960366</td><td>2016-05-03 23:59:59</td><td> 52.6</td><td>115.9631</td><td>NA</td><td>22.65</td><td>True </td><td>1.462320e+12</td><td>2016-05-03</td></tr>\n",
       "\t<tr><th scope=row>3</th><td>1927972279</td><td>2016-04-13 01:08:52</td><td>133.5</td><td>294.3171</td><td>NA</td><td>47.54</td><td>False</td><td>1.460510e+12</td><td>2016-04-13</td></tr>\n",
       "\t<tr><th scope=row>4</th><td>2873212765</td><td>2016-04-21 23:59:59</td><td> 56.7</td><td>125.0021</td><td>NA</td><td>21.45</td><td>True </td><td>1.461283e+12</td><td>2016-04-21</td></tr>\n",
       "\t<tr><th scope=row>5</th><td>2873212765</td><td>2016-05-12 23:59:59</td><td> 57.3</td><td>126.3249</td><td>NA</td><td>21.69</td><td>True </td><td>1.463098e+12</td><td>2016-05-12</td></tr>\n",
       "\t<tr><th scope=row>6</th><td>4319703577</td><td>2016-04-17 23:59:59</td><td> 72.4</td><td>159.6147</td><td>25</td><td>27.45</td><td>True </td><td>1.460938e+12</td><td>2016-04-17</td></tr>\n",
       "</tbody>\n",
       "</table>\n"
      ],
      "text/latex": [
       "A data.frame: 6 × 9\n",
       "\\begin{tabular}{r|lllllllll}\n",
       "  & Id & Date & WeightKg & WeightPounds & Fat & BMI & IsManualReport & LogId & date\\\\\n",
       "  & <chr> & <dttm> & <dbl> & <dbl> & <int> & <dbl> & <chr> & <dbl> & <date>\\\\\n",
       "\\hline\n",
       "\t1 & 1503960366 & 2016-05-02 23:59:59 &  52.6 & 115.9631 & 22 & 22.65 & True  & 1.462234e+12 & 2016-05-02\\\\\n",
       "\t2 & 1503960366 & 2016-05-03 23:59:59 &  52.6 & 115.9631 & NA & 22.65 & True  & 1.462320e+12 & 2016-05-03\\\\\n",
       "\t3 & 1927972279 & 2016-04-13 01:08:52 & 133.5 & 294.3171 & NA & 47.54 & False & 1.460510e+12 & 2016-04-13\\\\\n",
       "\t4 & 2873212765 & 2016-04-21 23:59:59 &  56.7 & 125.0021 & NA & 21.45 & True  & 1.461283e+12 & 2016-04-21\\\\\n",
       "\t5 & 2873212765 & 2016-05-12 23:59:59 &  57.3 & 126.3249 & NA & 21.69 & True  & 1.463098e+12 & 2016-05-12\\\\\n",
       "\t6 & 4319703577 & 2016-04-17 23:59:59 &  72.4 & 159.6147 & 25 & 27.45 & True  & 1.460938e+12 & 2016-04-17\\\\\n",
       "\\end{tabular}\n"
      ],
      "text/markdown": [
       "\n",
       "A data.frame: 6 × 9\n",
       "\n",
       "| <!--/--> | Id &lt;chr&gt; | Date &lt;dttm&gt; | WeightKg &lt;dbl&gt; | WeightPounds &lt;dbl&gt; | Fat &lt;int&gt; | BMI &lt;dbl&gt; | IsManualReport &lt;chr&gt; | LogId &lt;dbl&gt; | date &lt;date&gt; |\n",
       "|---|---|---|---|---|---|---|---|---|---|\n",
       "| 1 | 1503960366 | 2016-05-02 23:59:59 |  52.6 | 115.9631 | 22 | 22.65 | True  | 1.462234e+12 | 2016-05-02 |\n",
       "| 2 | 1503960366 | 2016-05-03 23:59:59 |  52.6 | 115.9631 | NA | 22.65 | True  | 1.462320e+12 | 2016-05-03 |\n",
       "| 3 | 1927972279 | 2016-04-13 01:08:52 | 133.5 | 294.3171 | NA | 47.54 | False | 1.460510e+12 | 2016-04-13 |\n",
       "| 4 | 2873212765 | 2016-04-21 23:59:59 |  56.7 | 125.0021 | NA | 21.45 | True  | 1.461283e+12 | 2016-04-21 |\n",
       "| 5 | 2873212765 | 2016-05-12 23:59:59 |  57.3 | 126.3249 | NA | 21.69 | True  | 1.463098e+12 | 2016-05-12 |\n",
       "| 6 | 4319703577 | 2016-04-17 23:59:59 |  72.4 | 159.6147 | 25 | 27.45 | True  | 1.460938e+12 | 2016-04-17 |\n",
       "\n"
      ],
      "text/plain": [
       "  Id         Date                WeightKg WeightPounds Fat BMI   IsManualReport\n",
       "1 1503960366 2016-05-02 23:59:59  52.6    115.9631     22  22.65 True          \n",
       "2 1503960366 2016-05-03 23:59:59  52.6    115.9631     NA  22.65 True          \n",
       "3 1927972279 2016-04-13 01:08:52 133.5    294.3171     NA  47.54 False         \n",
       "4 2873212765 2016-04-21 23:59:59  56.7    125.0021     NA  21.45 True          \n",
       "5 2873212765 2016-05-12 23:59:59  57.3    126.3249     NA  21.69 True          \n",
       "6 4319703577 2016-04-17 23:59:59  72.4    159.6147     25  27.45 True          \n",
       "  LogId        date      \n",
       "1 1.462234e+12 2016-05-02\n",
       "2 1.462320e+12 2016-05-03\n",
       "3 1.460510e+12 2016-04-13\n",
       "4 1.461283e+12 2016-04-21\n",
       "5 1.463098e+12 2016-05-12\n",
       "6 1.460938e+12 2016-04-17"
      ]
     },
     "metadata": {},
     "output_type": "display_data"
    }
   ],
   "source": [
    "head(weight)"
   ]
  },
  {
   "cell_type": "code",
   "execution_count": 32,
   "id": "633bb598",
   "metadata": {
    "execution": {
     "iopub.execute_input": "2023-04-16T18:21:54.299218Z",
     "iopub.status.busy": "2023-04-16T18:21:54.297854Z",
     "iopub.status.idle": "2023-04-16T18:21:54.354289Z",
     "shell.execute_reply": "2023-04-16T18:21:54.352726Z"
    },
    "papermill": {
     "duration": 0.08398,
     "end_time": "2023-04-16T18:21:54.356832",
     "exception": false,
     "start_time": "2023-04-16T18:21:54.272852",
     "status": "completed"
    },
    "tags": []
   },
   "outputs": [
    {
     "name": "stderr",
     "output_type": "stream",
     "text": [
      "\u001b[1m\u001b[22m`summarise()` has grouped output by 'Id'. You can override using the `.groups`\n",
      "argument.\n"
     ]
    },
    {
     "data": {
      "text/html": [
       "<table class=\"dataframe\">\n",
       "<caption>A grouped_df: 8 × 3</caption>\n",
       "<thead>\n",
       "\t<tr><th scope=col>Id</th><th scope=col>IsManualReport</th><th scope=col>ManualCount</th></tr>\n",
       "\t<tr><th scope=col>&lt;chr&gt;</th><th scope=col>&lt;chr&gt;</th><th scope=col>&lt;int&gt;</th></tr>\n",
       "</thead>\n",
       "<tbody>\n",
       "\t<tr><td>1503960366</td><td>True </td><td> 2</td></tr>\n",
       "\t<tr><td>1927972279</td><td>False</td><td> 1</td></tr>\n",
       "\t<tr><td>2873212765</td><td>True </td><td> 2</td></tr>\n",
       "\t<tr><td>4319703577</td><td>True </td><td> 2</td></tr>\n",
       "\t<tr><td>4558609924</td><td>True </td><td> 5</td></tr>\n",
       "\t<tr><td>5577150313</td><td>False</td><td> 1</td></tr>\n",
       "\t<tr><td>6962181067</td><td>True </td><td>30</td></tr>\n",
       "\t<tr><td>8877689391</td><td>False</td><td>24</td></tr>\n",
       "</tbody>\n",
       "</table>\n"
      ],
      "text/latex": [
       "A grouped\\_df: 8 × 3\n",
       "\\begin{tabular}{lll}\n",
       " Id & IsManualReport & ManualCount\\\\\n",
       " <chr> & <chr> & <int>\\\\\n",
       "\\hline\n",
       "\t 1503960366 & True  &  2\\\\\n",
       "\t 1927972279 & False &  1\\\\\n",
       "\t 2873212765 & True  &  2\\\\\n",
       "\t 4319703577 & True  &  2\\\\\n",
       "\t 4558609924 & True  &  5\\\\\n",
       "\t 5577150313 & False &  1\\\\\n",
       "\t 6962181067 & True  & 30\\\\\n",
       "\t 8877689391 & False & 24\\\\\n",
       "\\end{tabular}\n"
      ],
      "text/markdown": [
       "\n",
       "A grouped_df: 8 × 3\n",
       "\n",
       "| Id &lt;chr&gt; | IsManualReport &lt;chr&gt; | ManualCount &lt;int&gt; |\n",
       "|---|---|---|\n",
       "| 1503960366 | True  |  2 |\n",
       "| 1927972279 | False |  1 |\n",
       "| 2873212765 | True  |  2 |\n",
       "| 4319703577 | True  |  2 |\n",
       "| 4558609924 | True  |  5 |\n",
       "| 5577150313 | False |  1 |\n",
       "| 6962181067 | True  | 30 |\n",
       "| 8877689391 | False | 24 |\n",
       "\n"
      ],
      "text/plain": [
       "  Id         IsManualReport ManualCount\n",
       "1 1503960366 True            2         \n",
       "2 1927972279 False           1         \n",
       "3 2873212765 True            2         \n",
       "4 4319703577 True            2         \n",
       "5 4558609924 True            5         \n",
       "6 5577150313 False           1         \n",
       "7 6962181067 True           30         \n",
       "8 8877689391 False          24         "
      ]
     },
     "metadata": {},
     "output_type": "display_data"
    },
    {
     "data": {
      "text/html": [
       "<table class=\"dataframe\">\n",
       "<caption>A tibble: 2 × 2</caption>\n",
       "<thead>\n",
       "\t<tr><th scope=col>IsManualReport</th><th scope=col>ManualCount</th></tr>\n",
       "\t<tr><th scope=col>&lt;chr&gt;</th><th scope=col>&lt;int&gt;</th></tr>\n",
       "</thead>\n",
       "<tbody>\n",
       "\t<tr><td>False</td><td>26</td></tr>\n",
       "\t<tr><td>True </td><td>41</td></tr>\n",
       "</tbody>\n",
       "</table>\n"
      ],
      "text/latex": [
       "A tibble: 2 × 2\n",
       "\\begin{tabular}{ll}\n",
       " IsManualReport & ManualCount\\\\\n",
       " <chr> & <int>\\\\\n",
       "\\hline\n",
       "\t False & 26\\\\\n",
       "\t True  & 41\\\\\n",
       "\\end{tabular}\n"
      ],
      "text/markdown": [
       "\n",
       "A tibble: 2 × 2\n",
       "\n",
       "| IsManualReport &lt;chr&gt; | ManualCount &lt;int&gt; |\n",
       "|---|---|\n",
       "| False | 26 |\n",
       "| True  | 41 |\n",
       "\n"
      ],
      "text/plain": [
       "  IsManualReport ManualCount\n",
       "1 False          26         \n",
       "2 True           41         "
      ]
     },
     "metadata": {},
     "output_type": "display_data"
    }
   ],
   "source": [
    "weightManualCount <- weight %>%\n",
    "group_by(Id,IsManualReport) %>%\n",
    "summarize(ManualCount = n())\n",
    "weightManualCount\n",
    "\n",
    "weightManualCount2 <- weight %>%\n",
    "group_by(IsManualReport) %>%\n",
    "summarize(ManualCount = n())\n",
    "weightManualCount2"
   ]
  },
  {
   "cell_type": "markdown",
   "id": "3c7e6351",
   "metadata": {
    "papermill": {
     "duration": 0.023841,
     "end_time": "2023-04-16T18:21:54.404512",
     "exception": false,
     "start_time": "2023-04-16T18:21:54.380671",
     "status": "completed"
    },
    "tags": []
   },
   "source": [
    "A quick look into usage of the weight measurement function shows that only 8 users logged their weights.\n",
    "\n",
    "\n",
    "Of the 8 users, we see that only 2 of them measured their weights consistently.\n",
    " \n",
    " \n",
    "Additionally, 3 of them have false for manual reporting, and 5 of them have true, which might refer to whether the weight measurement is logged automatically via a paired weighing scale or via Fitbit's own weighing scale offering (returning a false manual report value), or whether it was separately and manually keyed in by the user into their Fitbit device (returning a true manual report value).\n",
    " \n",
    " \n",
    "The data suggests that having a paired/proprietary weighing scale does not lead users to record their weights more frequently, as 2 out of 3 of them did not log frequently, and the user who logged most consistently overall did so manually, and the number of manual entries was more than 1.5x the number of automatic entries.\n",
    "\n",
    "**Recommendation**: Survey to find out it users value the weight tracking function, and reasons why or why not, if they would track their weight more frequently if their scale automatically syncs their information to the app."
   ]
  },
  {
   "cell_type": "markdown",
   "id": "02cf9c64",
   "metadata": {
    "papermill": {
     "duration": 0.024795,
     "end_time": "2023-04-16T18:21:54.452668",
     "exception": false,
     "start_time": "2023-04-16T18:21:54.427873",
     "status": "completed"
    },
    "tags": []
   },
   "source": [
    "## 5.2 Analysis of health metrics\n",
    "\n",
    "Through health metric analysis, we might also be able to find trends and patterns amongst the users which could inform new product features or implementations, as well as to guide the marketing strategy.\n"
   ]
  },
  {
   "cell_type": "markdown",
   "id": "dbbc9400",
   "metadata": {
    "papermill": {
     "duration": 0.024014,
     "end_time": "2023-04-16T18:21:54.500596",
     "exception": false,
     "start_time": "2023-04-16T18:21:54.476582",
     "status": "completed"
    },
    "tags": []
   },
   "source": [
    "### 5.2.1 Do users get enough moderate-intensity physical activity minutes each week\n",
    "\n",
    "The American CDC recommends that \"each week adults need 150 minutes of moderate-intensity physical activity\".\n",
    "\n",
    "In a medical research report by Rush University in 2019, it is highlighted that Fitbit \"Very Active Minutes\" and \"Fairly Active Minutes\" added up constitute moderate-intensity physical activity. Thus, in order to see if users are getting enough activity minutes per week, we will add up those 2 columns.\n",
    "\n",
    "Links: https://www.cdc.gov/physicalactivity/basics/adults/index.htm#:~:text=Each%20week%20adults%20need%20150,Physical%20Activity%20Guidelines%20for%20Americans.&text=We%20know%20150%20minutes%20of,do%20it%20all%20at%20once.\n",
    "\n",
    "https://onlinelibrary.wiley.com/doi/full/10.1002/acr2.11099"
   ]
  },
  {
   "cell_type": "code",
   "execution_count": 33,
   "id": "a070ea84",
   "metadata": {
    "execution": {
     "iopub.execute_input": "2023-04-16T18:21:54.550592Z",
     "iopub.status.busy": "2023-04-16T18:21:54.549272Z",
     "iopub.status.idle": "2023-04-16T18:21:54.580964Z",
     "shell.execute_reply": "2023-04-16T18:21:54.579633Z"
    },
    "papermill": {
     "duration": 0.059251,
     "end_time": "2023-04-16T18:21:54.583251",
     "exception": false,
     "start_time": "2023-04-16T18:21:54.524000",
     "status": "completed"
    },
    "tags": []
   },
   "outputs": [
    {
     "data": {
      "text/html": [
       "<table class=\"dataframe\">\n",
       "<caption>A tibble: 6 × 18</caption>\n",
       "<thead>\n",
       "\t<tr><th scope=col>Id</th><th scope=col>ActivityDate</th><th scope=col>TotalSteps</th><th scope=col>TotalDistance</th><th scope=col>TrackerDistance</th><th scope=col>LoggedActivitiesDistance</th><th scope=col>VeryActiveDistance</th><th scope=col>ModeratelyActiveDistance</th><th scope=col>LightActiveDistance</th><th scope=col>SedentaryActiveDistance</th><th scope=col>VeryActiveMinutes</th><th scope=col>FairlyActiveMinutes</th><th scope=col>LightlyActiveMinutes</th><th scope=col>SedentaryMinutes</th><th scope=col>Calories</th><th scope=col>usageLevel</th><th scope=col>TotalActiveMinutes</th><th scope=col>DayOfWeek</th></tr>\n",
       "\t<tr><th scope=col>&lt;chr&gt;</th><th scope=col>&lt;date&gt;</th><th scope=col>&lt;dbl&gt;</th><th scope=col>&lt;dbl&gt;</th><th scope=col>&lt;dbl&gt;</th><th scope=col>&lt;dbl&gt;</th><th scope=col>&lt;dbl&gt;</th><th scope=col>&lt;dbl&gt;</th><th scope=col>&lt;dbl&gt;</th><th scope=col>&lt;dbl&gt;</th><th scope=col>&lt;dbl&gt;</th><th scope=col>&lt;dbl&gt;</th><th scope=col>&lt;dbl&gt;</th><th scope=col>&lt;dbl&gt;</th><th scope=col>&lt;dbl&gt;</th><th scope=col>&lt;chr&gt;</th><th scope=col>&lt;dbl&gt;</th><th scope=col>&lt;chr&gt;</th></tr>\n",
       "</thead>\n",
       "<tbody>\n",
       "\t<tr><td>1503960366</td><td>2016-04-12</td><td>13162</td><td>8.50</td><td>8.50</td><td>0</td><td>1.88</td><td>0.55</td><td>6.06</td><td>0</td><td>25</td><td>13</td><td>328</td><td> 728</td><td>1985</td><td>worn</td><td>38</td><td>Tuesday  </td></tr>\n",
       "\t<tr><td>1503960366</td><td>2016-04-13</td><td>10735</td><td>6.97</td><td>6.97</td><td>0</td><td>1.57</td><td>0.69</td><td>4.71</td><td>0</td><td>21</td><td>19</td><td>217</td><td> 776</td><td>1797</td><td>worn</td><td>40</td><td>Wednesday</td></tr>\n",
       "\t<tr><td>1503960366</td><td>2016-04-14</td><td>10460</td><td>6.74</td><td>6.74</td><td>0</td><td>2.44</td><td>0.40</td><td>3.91</td><td>0</td><td>30</td><td>11</td><td>181</td><td>1218</td><td>1776</td><td>worn</td><td>41</td><td>Thursday </td></tr>\n",
       "\t<tr><td>1503960366</td><td>2016-04-15</td><td> 9762</td><td>6.28</td><td>6.28</td><td>0</td><td>2.14</td><td>1.26</td><td>2.83</td><td>0</td><td>29</td><td>34</td><td>209</td><td> 726</td><td>1745</td><td>worn</td><td>63</td><td>Friday   </td></tr>\n",
       "\t<tr><td>1503960366</td><td>2016-04-16</td><td>12669</td><td>8.16</td><td>8.16</td><td>0</td><td>2.71</td><td>0.41</td><td>5.04</td><td>0</td><td>36</td><td>10</td><td>221</td><td> 773</td><td>1863</td><td>worn</td><td>46</td><td>Saturday </td></tr>\n",
       "\t<tr><td>1503960366</td><td>2016-04-17</td><td> 9705</td><td>6.48</td><td>6.48</td><td>0</td><td>3.19</td><td>0.78</td><td>2.51</td><td>0</td><td>38</td><td>20</td><td>164</td><td> 539</td><td>1728</td><td>worn</td><td>58</td><td>Sunday   </td></tr>\n",
       "</tbody>\n",
       "</table>\n"
      ],
      "text/latex": [
       "A tibble: 6 × 18\n",
       "\\begin{tabular}{llllllllllllllllll}\n",
       " Id & ActivityDate & TotalSteps & TotalDistance & TrackerDistance & LoggedActivitiesDistance & VeryActiveDistance & ModeratelyActiveDistance & LightActiveDistance & SedentaryActiveDistance & VeryActiveMinutes & FairlyActiveMinutes & LightlyActiveMinutes & SedentaryMinutes & Calories & usageLevel & TotalActiveMinutes & DayOfWeek\\\\\n",
       " <chr> & <date> & <dbl> & <dbl> & <dbl> & <dbl> & <dbl> & <dbl> & <dbl> & <dbl> & <dbl> & <dbl> & <dbl> & <dbl> & <dbl> & <chr> & <dbl> & <chr>\\\\\n",
       "\\hline\n",
       "\t 1503960366 & 2016-04-12 & 13162 & 8.50 & 8.50 & 0 & 1.88 & 0.55 & 6.06 & 0 & 25 & 13 & 328 &  728 & 1985 & worn & 38 & Tuesday  \\\\\n",
       "\t 1503960366 & 2016-04-13 & 10735 & 6.97 & 6.97 & 0 & 1.57 & 0.69 & 4.71 & 0 & 21 & 19 & 217 &  776 & 1797 & worn & 40 & Wednesday\\\\\n",
       "\t 1503960366 & 2016-04-14 & 10460 & 6.74 & 6.74 & 0 & 2.44 & 0.40 & 3.91 & 0 & 30 & 11 & 181 & 1218 & 1776 & worn & 41 & Thursday \\\\\n",
       "\t 1503960366 & 2016-04-15 &  9762 & 6.28 & 6.28 & 0 & 2.14 & 1.26 & 2.83 & 0 & 29 & 34 & 209 &  726 & 1745 & worn & 63 & Friday   \\\\\n",
       "\t 1503960366 & 2016-04-16 & 12669 & 8.16 & 8.16 & 0 & 2.71 & 0.41 & 5.04 & 0 & 36 & 10 & 221 &  773 & 1863 & worn & 46 & Saturday \\\\\n",
       "\t 1503960366 & 2016-04-17 &  9705 & 6.48 & 6.48 & 0 & 3.19 & 0.78 & 2.51 & 0 & 38 & 20 & 164 &  539 & 1728 & worn & 58 & Sunday   \\\\\n",
       "\\end{tabular}\n"
      ],
      "text/markdown": [
       "\n",
       "A tibble: 6 × 18\n",
       "\n",
       "| Id &lt;chr&gt; | ActivityDate &lt;date&gt; | TotalSteps &lt;dbl&gt; | TotalDistance &lt;dbl&gt; | TrackerDistance &lt;dbl&gt; | LoggedActivitiesDistance &lt;dbl&gt; | VeryActiveDistance &lt;dbl&gt; | ModeratelyActiveDistance &lt;dbl&gt; | LightActiveDistance &lt;dbl&gt; | SedentaryActiveDistance &lt;dbl&gt; | VeryActiveMinutes &lt;dbl&gt; | FairlyActiveMinutes &lt;dbl&gt; | LightlyActiveMinutes &lt;dbl&gt; | SedentaryMinutes &lt;dbl&gt; | Calories &lt;dbl&gt; | usageLevel &lt;chr&gt; | TotalActiveMinutes &lt;dbl&gt; | DayOfWeek &lt;chr&gt; |\n",
       "|---|---|---|---|---|---|---|---|---|---|---|---|---|---|---|---|---|---|\n",
       "| 1503960366 | 2016-04-12 | 13162 | 8.50 | 8.50 | 0 | 1.88 | 0.55 | 6.06 | 0 | 25 | 13 | 328 |  728 | 1985 | worn | 38 | Tuesday   |\n",
       "| 1503960366 | 2016-04-13 | 10735 | 6.97 | 6.97 | 0 | 1.57 | 0.69 | 4.71 | 0 | 21 | 19 | 217 |  776 | 1797 | worn | 40 | Wednesday |\n",
       "| 1503960366 | 2016-04-14 | 10460 | 6.74 | 6.74 | 0 | 2.44 | 0.40 | 3.91 | 0 | 30 | 11 | 181 | 1218 | 1776 | worn | 41 | Thursday  |\n",
       "| 1503960366 | 2016-04-15 |  9762 | 6.28 | 6.28 | 0 | 2.14 | 1.26 | 2.83 | 0 | 29 | 34 | 209 |  726 | 1745 | worn | 63 | Friday    |\n",
       "| 1503960366 | 2016-04-16 | 12669 | 8.16 | 8.16 | 0 | 2.71 | 0.41 | 5.04 | 0 | 36 | 10 | 221 |  773 | 1863 | worn | 46 | Saturday  |\n",
       "| 1503960366 | 2016-04-17 |  9705 | 6.48 | 6.48 | 0 | 3.19 | 0.78 | 2.51 | 0 | 38 | 20 | 164 |  539 | 1728 | worn | 58 | Sunday    |\n",
       "\n"
      ],
      "text/plain": [
       "  Id         ActivityDate TotalSteps TotalDistance TrackerDistance\n",
       "1 1503960366 2016-04-12   13162      8.50          8.50           \n",
       "2 1503960366 2016-04-13   10735      6.97          6.97           \n",
       "3 1503960366 2016-04-14   10460      6.74          6.74           \n",
       "4 1503960366 2016-04-15    9762      6.28          6.28           \n",
       "5 1503960366 2016-04-16   12669      8.16          8.16           \n",
       "6 1503960366 2016-04-17    9705      6.48          6.48           \n",
       "  LoggedActivitiesDistance VeryActiveDistance ModeratelyActiveDistance\n",
       "1 0                        1.88               0.55                    \n",
       "2 0                        1.57               0.69                    \n",
       "3 0                        2.44               0.40                    \n",
       "4 0                        2.14               1.26                    \n",
       "5 0                        2.71               0.41                    \n",
       "6 0                        3.19               0.78                    \n",
       "  LightActiveDistance SedentaryActiveDistance VeryActiveMinutes\n",
       "1 6.06                0                       25               \n",
       "2 4.71                0                       21               \n",
       "3 3.91                0                       30               \n",
       "4 2.83                0                       29               \n",
       "5 5.04                0                       36               \n",
       "6 2.51                0                       38               \n",
       "  FairlyActiveMinutes LightlyActiveMinutes SedentaryMinutes Calories usageLevel\n",
       "1 13                  328                   728             1985     worn      \n",
       "2 19                  217                   776             1797     worn      \n",
       "3 11                  181                  1218             1776     worn      \n",
       "4 34                  209                   726             1745     worn      \n",
       "5 10                  221                   773             1863     worn      \n",
       "6 20                  164                   539             1728     worn      \n",
       "  TotalActiveMinutes DayOfWeek\n",
       "1 38                 Tuesday  \n",
       "2 40                 Wednesday\n",
       "3 41                 Thursday \n",
       "4 63                 Friday   \n",
       "5 46                 Saturday \n",
       "6 58                 Sunday   "
      ]
     },
     "metadata": {},
     "output_type": "display_data"
    }
   ],
   "source": [
    "#Adding sum of active minutes for each day AND days of the week\n",
    "daiAct$TotalActiveMinutes <- rowSums(daiAct[, 11:12])\n",
    "daiAct$DayOfWeek <- weekdays(daiAct$ActivityDate)\n",
    "\n",
    "head(daiAct)"
   ]
  },
  {
   "cell_type": "code",
   "execution_count": 34,
   "id": "270698dc",
   "metadata": {
    "execution": {
     "iopub.execute_input": "2023-04-16T18:21:54.634832Z",
     "iopub.status.busy": "2023-04-16T18:21:54.633533Z",
     "iopub.status.idle": "2023-04-16T18:21:54.669776Z",
     "shell.execute_reply": "2023-04-16T18:21:54.668430Z"
    },
    "papermill": {
     "duration": 0.064269,
     "end_time": "2023-04-16T18:21:54.671621",
     "exception": false,
     "start_time": "2023-04-16T18:21:54.607352",
     "status": "completed"
    },
    "tags": []
   },
   "outputs": [
    {
     "data": {
      "text/plain": [
       "Time difference of 30 days"
      ]
     },
     "metadata": {},
     "output_type": "display_data"
    },
    {
     "data": {
      "text/html": [
       "<table class=\"dataframe\">\n",
       "<caption>A tibble: 6 × 19</caption>\n",
       "<thead>\n",
       "\t<tr><th scope=col>Id</th><th scope=col>ActivityDate</th><th scope=col>TotalSteps</th><th scope=col>TotalDistance</th><th scope=col>TrackerDistance</th><th scope=col>LoggedActivitiesDistance</th><th scope=col>VeryActiveDistance</th><th scope=col>ModeratelyActiveDistance</th><th scope=col>LightActiveDistance</th><th scope=col>SedentaryActiveDistance</th><th scope=col>VeryActiveMinutes</th><th scope=col>FairlyActiveMinutes</th><th scope=col>LightlyActiveMinutes</th><th scope=col>SedentaryMinutes</th><th scope=col>Calories</th><th scope=col>usageLevel</th><th scope=col>TotalActiveMinutes</th><th scope=col>DayOfWeek</th><th scope=col>weekNumber</th></tr>\n",
       "\t<tr><th scope=col>&lt;chr&gt;</th><th scope=col>&lt;date&gt;</th><th scope=col>&lt;dbl&gt;</th><th scope=col>&lt;dbl&gt;</th><th scope=col>&lt;dbl&gt;</th><th scope=col>&lt;dbl&gt;</th><th scope=col>&lt;dbl&gt;</th><th scope=col>&lt;dbl&gt;</th><th scope=col>&lt;dbl&gt;</th><th scope=col>&lt;dbl&gt;</th><th scope=col>&lt;dbl&gt;</th><th scope=col>&lt;dbl&gt;</th><th scope=col>&lt;dbl&gt;</th><th scope=col>&lt;dbl&gt;</th><th scope=col>&lt;dbl&gt;</th><th scope=col>&lt;chr&gt;</th><th scope=col>&lt;dbl&gt;</th><th scope=col>&lt;chr&gt;</th><th scope=col>&lt;dbl&gt;</th></tr>\n",
       "</thead>\n",
       "<tbody>\n",
       "\t<tr><td>1503960366</td><td>2016-04-18</td><td>13019</td><td>8.59</td><td>8.59</td><td>0</td><td>3.25</td><td>0.64</td><td>4.71</td><td>0</td><td>42</td><td>16</td><td>233</td><td>1149</td><td>1921</td><td>worn</td><td>58</td><td>Monday   </td><td>16</td></tr>\n",
       "\t<tr><td>1503960366</td><td>2016-04-19</td><td>15506</td><td>9.88</td><td>9.88</td><td>0</td><td>3.53</td><td>1.32</td><td>5.03</td><td>0</td><td>50</td><td>31</td><td>264</td><td> 775</td><td>2035</td><td>worn</td><td>81</td><td>Tuesday  </td><td>16</td></tr>\n",
       "\t<tr><td>1503960366</td><td>2016-04-20</td><td>10544</td><td>6.68</td><td>6.68</td><td>0</td><td>1.96</td><td>0.48</td><td>4.24</td><td>0</td><td>28</td><td>12</td><td>205</td><td> 818</td><td>1786</td><td>worn</td><td>40</td><td>Wednesday</td><td>16</td></tr>\n",
       "\t<tr><td>1503960366</td><td>2016-04-21</td><td> 9819</td><td>6.34</td><td>6.34</td><td>0</td><td>1.34</td><td>0.35</td><td>4.65</td><td>0</td><td>19</td><td> 8</td><td>211</td><td> 838</td><td>1775</td><td>worn</td><td>27</td><td>Thursday </td><td>16</td></tr>\n",
       "\t<tr><td>1503960366</td><td>2016-04-22</td><td>12764</td><td>8.13</td><td>8.13</td><td>0</td><td>4.76</td><td>1.12</td><td>2.24</td><td>0</td><td>66</td><td>27</td><td>130</td><td>1217</td><td>1827</td><td>worn</td><td>93</td><td>Friday   </td><td>16</td></tr>\n",
       "\t<tr><td>1503960366</td><td>2016-04-23</td><td>14371</td><td>9.04</td><td>9.04</td><td>0</td><td>2.81</td><td>0.87</td><td>5.36</td><td>0</td><td>41</td><td>21</td><td>262</td><td> 732</td><td>1949</td><td>worn</td><td>62</td><td>Saturday </td><td>16</td></tr>\n",
       "</tbody>\n",
       "</table>\n"
      ],
      "text/latex": [
       "A tibble: 6 × 19\n",
       "\\begin{tabular}{lllllllllllllllllll}\n",
       " Id & ActivityDate & TotalSteps & TotalDistance & TrackerDistance & LoggedActivitiesDistance & VeryActiveDistance & ModeratelyActiveDistance & LightActiveDistance & SedentaryActiveDistance & VeryActiveMinutes & FairlyActiveMinutes & LightlyActiveMinutes & SedentaryMinutes & Calories & usageLevel & TotalActiveMinutes & DayOfWeek & weekNumber\\\\\n",
       " <chr> & <date> & <dbl> & <dbl> & <dbl> & <dbl> & <dbl> & <dbl> & <dbl> & <dbl> & <dbl> & <dbl> & <dbl> & <dbl> & <dbl> & <chr> & <dbl> & <chr> & <dbl>\\\\\n",
       "\\hline\n",
       "\t 1503960366 & 2016-04-18 & 13019 & 8.59 & 8.59 & 0 & 3.25 & 0.64 & 4.71 & 0 & 42 & 16 & 233 & 1149 & 1921 & worn & 58 & Monday    & 16\\\\\n",
       "\t 1503960366 & 2016-04-19 & 15506 & 9.88 & 9.88 & 0 & 3.53 & 1.32 & 5.03 & 0 & 50 & 31 & 264 &  775 & 2035 & worn & 81 & Tuesday   & 16\\\\\n",
       "\t 1503960366 & 2016-04-20 & 10544 & 6.68 & 6.68 & 0 & 1.96 & 0.48 & 4.24 & 0 & 28 & 12 & 205 &  818 & 1786 & worn & 40 & Wednesday & 16\\\\\n",
       "\t 1503960366 & 2016-04-21 &  9819 & 6.34 & 6.34 & 0 & 1.34 & 0.35 & 4.65 & 0 & 19 &  8 & 211 &  838 & 1775 & worn & 27 & Thursday  & 16\\\\\n",
       "\t 1503960366 & 2016-04-22 & 12764 & 8.13 & 8.13 & 0 & 4.76 & 1.12 & 2.24 & 0 & 66 & 27 & 130 & 1217 & 1827 & worn & 93 & Friday    & 16\\\\\n",
       "\t 1503960366 & 2016-04-23 & 14371 & 9.04 & 9.04 & 0 & 2.81 & 0.87 & 5.36 & 0 & 41 & 21 & 262 &  732 & 1949 & worn & 62 & Saturday  & 16\\\\\n",
       "\\end{tabular}\n"
      ],
      "text/markdown": [
       "\n",
       "A tibble: 6 × 19\n",
       "\n",
       "| Id &lt;chr&gt; | ActivityDate &lt;date&gt; | TotalSteps &lt;dbl&gt; | TotalDistance &lt;dbl&gt; | TrackerDistance &lt;dbl&gt; | LoggedActivitiesDistance &lt;dbl&gt; | VeryActiveDistance &lt;dbl&gt; | ModeratelyActiveDistance &lt;dbl&gt; | LightActiveDistance &lt;dbl&gt; | SedentaryActiveDistance &lt;dbl&gt; | VeryActiveMinutes &lt;dbl&gt; | FairlyActiveMinutes &lt;dbl&gt; | LightlyActiveMinutes &lt;dbl&gt; | SedentaryMinutes &lt;dbl&gt; | Calories &lt;dbl&gt; | usageLevel &lt;chr&gt; | TotalActiveMinutes &lt;dbl&gt; | DayOfWeek &lt;chr&gt; | weekNumber &lt;dbl&gt; |\n",
       "|---|---|---|---|---|---|---|---|---|---|---|---|---|---|---|---|---|---|---|\n",
       "| 1503960366 | 2016-04-18 | 13019 | 8.59 | 8.59 | 0 | 3.25 | 0.64 | 4.71 | 0 | 42 | 16 | 233 | 1149 | 1921 | worn | 58 | Monday    | 16 |\n",
       "| 1503960366 | 2016-04-19 | 15506 | 9.88 | 9.88 | 0 | 3.53 | 1.32 | 5.03 | 0 | 50 | 31 | 264 |  775 | 2035 | worn | 81 | Tuesday   | 16 |\n",
       "| 1503960366 | 2016-04-20 | 10544 | 6.68 | 6.68 | 0 | 1.96 | 0.48 | 4.24 | 0 | 28 | 12 | 205 |  818 | 1786 | worn | 40 | Wednesday | 16 |\n",
       "| 1503960366 | 2016-04-21 |  9819 | 6.34 | 6.34 | 0 | 1.34 | 0.35 | 4.65 | 0 | 19 |  8 | 211 |  838 | 1775 | worn | 27 | Thursday  | 16 |\n",
       "| 1503960366 | 2016-04-22 | 12764 | 8.13 | 8.13 | 0 | 4.76 | 1.12 | 2.24 | 0 | 66 | 27 | 130 | 1217 | 1827 | worn | 93 | Friday    | 16 |\n",
       "| 1503960366 | 2016-04-23 | 14371 | 9.04 | 9.04 | 0 | 2.81 | 0.87 | 5.36 | 0 | 41 | 21 | 262 |  732 | 1949 | worn | 62 | Saturday  | 16 |\n",
       "\n"
      ],
      "text/plain": [
       "  Id         ActivityDate TotalSteps TotalDistance TrackerDistance\n",
       "1 1503960366 2016-04-18   13019      8.59          8.59           \n",
       "2 1503960366 2016-04-19   15506      9.88          9.88           \n",
       "3 1503960366 2016-04-20   10544      6.68          6.68           \n",
       "4 1503960366 2016-04-21    9819      6.34          6.34           \n",
       "5 1503960366 2016-04-22   12764      8.13          8.13           \n",
       "6 1503960366 2016-04-23   14371      9.04          9.04           \n",
       "  LoggedActivitiesDistance VeryActiveDistance ModeratelyActiveDistance\n",
       "1 0                        3.25               0.64                    \n",
       "2 0                        3.53               1.32                    \n",
       "3 0                        1.96               0.48                    \n",
       "4 0                        1.34               0.35                    \n",
       "5 0                        4.76               1.12                    \n",
       "6 0                        2.81               0.87                    \n",
       "  LightActiveDistance SedentaryActiveDistance VeryActiveMinutes\n",
       "1 4.71                0                       42               \n",
       "2 5.03                0                       50               \n",
       "3 4.24                0                       28               \n",
       "4 4.65                0                       19               \n",
       "5 2.24                0                       66               \n",
       "6 5.36                0                       41               \n",
       "  FairlyActiveMinutes LightlyActiveMinutes SedentaryMinutes Calories usageLevel\n",
       "1 16                  233                  1149             1921     worn      \n",
       "2 31                  264                   775             2035     worn      \n",
       "3 12                  205                   818             1786     worn      \n",
       "4  8                  211                   838             1775     worn      \n",
       "5 27                  130                  1217             1827     worn      \n",
       "6 21                  262                   732             1949     worn      \n",
       "  TotalActiveMinutes DayOfWeek weekNumber\n",
       "1 58                 Monday    16        \n",
       "2 81                 Tuesday   16        \n",
       "3 40                 Wednesday 16        \n",
       "4 27                 Thursday  16        \n",
       "5 93                 Friday    16        \n",
       "6 62                 Saturday  16        "
      ]
     },
     "metadata": {},
     "output_type": "display_data"
    }
   ],
   "source": [
    "#To account for Fitbit employing gamification to encourage users to hit a minimum activity minutes amount per week on Monday-Sunday weeks,\n",
    "# we will modify the data to create a subset of 3 Monday to Sunday weeks within the data timeframe.hg\n",
    "max(daiAct$ActivityDate)-min(daiAct$ActivityDate)\n",
    "daiActWeeks <- daiAct[daiAct$ActivityDate >= as.Date(\"2016-04-18\") & daiAct$ActivityDate <= as.Date(\"2016-05-08\"), ]\n",
    "daiActWeeks$weekNumber <- as.numeric(format(daiActWeeks$ActivityDate, \"%V\"))\n",
    "\n",
    "head(daiActWeeks)"
   ]
  },
  {
   "cell_type": "markdown",
   "id": "3f8a7b17",
   "metadata": {
    "papermill": {
     "duration": 0.023744,
     "end_time": "2023-04-16T18:21:54.719669",
     "exception": false,
     "start_time": "2023-04-16T18:21:54.695925",
     "status": "completed"
    },
    "tags": []
   },
   "source": [
    "#### 5.2.1.1 Average moderate-intensity physical activity minutes"
   ]
  },
  {
   "cell_type": "code",
   "execution_count": 35,
   "id": "3ab5bab7",
   "metadata": {
    "_kg_hide-output": true,
    "execution": {
     "iopub.execute_input": "2023-04-16T18:21:54.770925Z",
     "iopub.status.busy": "2023-04-16T18:21:54.769638Z",
     "iopub.status.idle": "2023-04-16T18:21:55.062329Z",
     "shell.execute_reply": "2023-04-16T18:21:55.060861Z"
    },
    "papermill": {
     "duration": 0.320573,
     "end_time": "2023-04-16T18:21:55.064118",
     "exception": false,
     "start_time": "2023-04-16T18:21:54.743545",
     "status": "completed"
    },
    "tags": []
   },
   "outputs": [
    {
     "name": "stderr",
     "output_type": "stream",
     "text": [
      "\u001b[1m\u001b[22m`summarise()` has grouped output by 'Id'. You can override using the `.groups`\n",
      "argument.\n"
     ]
    },
    {
     "data": {
      "image/png": "[encoded data removed]"
     },
     "metadata": {
      "image/png": {
       "height": 420,
       "width": 420
      }
     },
     "output_type": "display_data"
    }
   ],
   "source": [
    "activeMinsPerWeek <- daiActWeeks %>%\n",
    "group_by(Id, weekNumber) %>%\n",
    "summarize(weekActiveMinutes = sum(TotalActiveMinutes))\n",
    "\n",
    "\n",
    "userAvgWeekMins <- activeMinsPerWeek %>%\n",
    "group_by(Id) %>%\n",
    "summarize(AvgMinsPerWeek = mean(weekActiveMinutes))\n",
    "\n",
    "userAvgWeekMins$Id <- factor(userAvgWeekMins$Id, levels = userAvgWeekMins$Id[order(userAvgWeekMins$AvgMinsPerWeek)])\n",
    "\n",
    "threshold <- 150\n",
    "\n",
    "ggplot(userAvgWeekMins, aes(x =\"\", y = AvgMinsPerWeek)) +\n",
    "  geom_boxplot(fill = \"blue\", color = \"black\", alpha = 0.7) +\n",
    "  geom_hline(yintercept = 150, linetype = \"dashed\", color = \"red\")+\n",
    "  stat_summary(fun = median, geom = \"text\", color = \"white\", \n",
    "               aes(label = paste(\"Median =\", median(AvgMinsPerWeek))), \n",
    "               vjust = -1.5)+\n",
    "    geom_text(aes(label = paste0(\"n = \", sum(AvgMinsPerWeek < 150)), x = 0.5, y = 75))+\n",
    "    geom_text(aes(label = paste0(\"n = \", sum(AvgMinsPerWeek > 150)), x = 0.5, y = 200))+\n",
    "  ggtitle(\"Average moderate-intensity minutes per week\")"
   ]
  },
  {
   "cell_type": "markdown",
   "id": "8c07cd70",
   "metadata": {
    "papermill": {
     "duration": 0.024762,
     "end_time": "2023-04-16T18:21:55.115011",
     "exception": false,
     "start_time": "2023-04-16T18:21:55.090249",
     "status": "completed"
    },
    "tags": []
   },
   "source": [
    "As seen from the boxplot, though the median is 182.5, 12 users (37.5%) do not get enough moderate-intensity activity minutes per week, while 20 users (62.5%) do."
   ]
  },
  {
   "cell_type": "markdown",
   "id": "67067e93",
   "metadata": {
    "papermill": {
     "duration": 0.024328,
     "end_time": "2023-04-16T18:21:55.163970",
     "exception": false,
     "start_time": "2023-04-16T18:21:55.139642",
     "status": "completed"
    },
    "tags": []
   },
   "source": [
    "#### 5.2.1.2 Insufficient activity minutes by week count\n",
    "We can then implement the week partitioning to see how many users have at least 1 week where they did not have enough moderate-intensity minutes, and further, how many are not getting enough exercise on multiple weeks."
   ]
  },
  {
   "cell_type": "code",
   "execution_count": 36,
   "id": "ec63d933",
   "metadata": {
    "execution": {
     "iopub.execute_input": "2023-04-16T18:21:55.217495Z",
     "iopub.status.busy": "2023-04-16T18:21:55.216126Z",
     "iopub.status.idle": "2023-04-16T18:21:55.524822Z",
     "shell.execute_reply": "2023-04-16T18:21:55.523546Z"
    },
    "papermill": {
     "duration": 0.337523,
     "end_time": "2023-04-16T18:21:55.526876",
     "exception": false,
     "start_time": "2023-04-16T18:21:55.189353",
     "status": "completed"
    },
    "tags": []
   },
   "outputs": [
    {
     "data": {
      "text/html": [
       "<table class=\"dataframe\">\n",
       "<caption>A tibble: 6 × 2</caption>\n",
       "<thead>\n",
       "\t<tr><th scope=col>Id</th><th scope=col>weeksInsufficient</th></tr>\n",
       "\t<tr><th scope=col>&lt;chr&gt;</th><th scope=col>&lt;int&gt;</th></tr>\n",
       "</thead>\n",
       "<tbody>\n",
       "\t<tr><td>1624580081</td><td>2</td></tr>\n",
       "\t<tr><td>1644430081</td><td>1</td></tr>\n",
       "\t<tr><td>1844505072</td><td>3</td></tr>\n",
       "\t<tr><td>1927972279</td><td>3</td></tr>\n",
       "\t<tr><td>2026352035</td><td>3</td></tr>\n",
       "\t<tr><td>2320127002</td><td>3</td></tr>\n",
       "</tbody>\n",
       "</table>\n"
      ],
      "text/latex": [
       "A tibble: 6 × 2\n",
       "\\begin{tabular}{ll}\n",
       " Id & weeksInsufficient\\\\\n",
       " <chr> & <int>\\\\\n",
       "\\hline\n",
       "\t 1624580081 & 2\\\\\n",
       "\t 1644430081 & 1\\\\\n",
       "\t 1844505072 & 3\\\\\n",
       "\t 1927972279 & 3\\\\\n",
       "\t 2026352035 & 3\\\\\n",
       "\t 2320127002 & 3\\\\\n",
       "\\end{tabular}\n"
      ],
      "text/markdown": [
       "\n",
       "A tibble: 6 × 2\n",
       "\n",
       "| Id &lt;chr&gt; | weeksInsufficient &lt;int&gt; |\n",
       "|---|---|\n",
       "| 1624580081 | 2 |\n",
       "| 1644430081 | 1 |\n",
       "| 1844505072 | 3 |\n",
       "| 1927972279 | 3 |\n",
       "| 2026352035 | 3 |\n",
       "| 2320127002 | 3 |\n",
       "\n"
      ],
      "text/plain": [
       "  Id         weeksInsufficient\n",
       "1 1624580081 2                \n",
       "2 1644430081 1                \n",
       "3 1844505072 3                \n",
       "4 1927972279 3                \n",
       "5 2026352035 3                \n",
       "6 2320127002 3                "
      ]
     },
     "metadata": {},
     "output_type": "display_data"
    },
    {
     "data": {
      "text/html": [
       "7"
      ],
      "text/latex": [
       "7"
      ],
      "text/markdown": [
       "7"
      ],
      "text/plain": [
       "[1] 7"
      ]
     },
     "metadata": {},
     "output_type": "display_data"
    },
    {
     "data": {
      "text/html": [
       "3"
      ],
      "text/latex": [
       "3"
      ],
      "text/markdown": [
       "3"
      ],
      "text/plain": [
       "[1] 3"
      ]
     },
     "metadata": {},
     "output_type": "display_data"
    },
    {
     "data": {
      "text/html": [
       "8"
      ],
      "text/latex": [
       "8"
      ],
      "text/markdown": [
       "8"
      ],
      "text/plain": [
       "[1] 8"
      ]
     },
     "metadata": {},
     "output_type": "display_data"
    },
    {
     "data": {
      "image/png": "[encoded data removed]"
     },
     "metadata": {
      "image/png": {
       "height": 420,
       "width": 420
      }
     },
     "output_type": "display_data"
    }
   ],
   "source": [
    "insufficientActivity <- filter(activeMinsPerWeek, weekActiveMinutes < 150)\n",
    "\n",
    "countInsuffWeeks <- insufficientActivity %>%\n",
    "group_by(Id) %>%\n",
    "summarize(weeksInsufficient = n())\n",
    "\n",
    "head(countInsuffWeeks)\n",
    "\n",
    "sum(countInsuffWeeks$weeksInsufficient == 1)\n",
    "sum(countInsuffWeeks$weeksInsufficient == 2)\n",
    "sum(countInsuffWeeks$weeksInsufficient == 3)\n",
    "\n",
    "insuffUsers <- data.frame(count = c(14,7,3,8), weeksInsufficient = c(\"0\",\"1\",\"2\",\"3\"))\n",
    "\n",
    "ggplot(insuffUsers, aes(x = weeksInsufficient, y=count, fill = weeksInsufficient)) +\n",
    "  scale_y_continuous(breaks= pretty_breaks())+\n",
    "  geom_bar(stat=\"identity\", alpha = 0.75) +\n",
    "scale_fill_nejm()+\n",
    "  theme_bw()+\n",
    "  theme(panel.grid.major = element_blank(),\n",
    "    panel.grid.minor = element_blank())+\n",
    "  labs(title = \"Number of weeks with insufficient exercise\", x = \"Weeks\")"
   ]
  },
  {
   "cell_type": "markdown",
   "id": "644d85aa",
   "metadata": {
    "papermill": {
     "duration": 0.026547,
     "end_time": "2023-04-16T18:21:55.578541",
     "exception": false,
     "start_time": "2023-04-16T18:21:55.551994",
     "status": "completed"
    },
    "tags": []
   },
   "source": [
    "Based on full week monday to sunday for 3 weeks;\n",
    "\n",
    "14 users had enough moderate-activity minutes for all 3 weeks, while 18 users did not have enough intensity minutes for at least 1 of the 3 weeks. \n",
    "\n",
    "Of the 18 users who did not, 11 of them did not hit for at least 2 of the 3 weeks. \n",
    "\n",
    "As such, we find that a sizeable number of users do not get enough moderate-intensity exercise - 37.5% by mean, and 56.25% by number of weeks.\n",
    "\n",
    "**Recommendation**: On top of the existing gamification elements used by Fitbit and other wearable device companies (which often prompts users to create streaks of weeks where they hit the 150 minutes), perhaps other reasons may exist for why the minutes are not hit, such as exercising without enough intensity. A feature that could be added is to detect when users are taking more steps than usual, but if the exercise is not vigorous enough (to be determined via heartrate measurement), then the device or app could ask if the user is currently exercising, and if so, that they should try to exercise slightly more vigorously for maximum benefits.\n"
   ]
  },
  {
   "cell_type": "markdown",
   "id": "c2070caf",
   "metadata": {
    "papermill": {
     "duration": 0.025781,
     "end_time": "2023-04-16T18:21:55.631810",
     "exception": false,
     "start_time": "2023-04-16T18:21:55.606029",
     "status": "completed"
    },
    "tags": []
   },
   "source": [
    "### 5.2.2 Do users get enough sleep"
   ]
  },
  {
   "cell_type": "code",
   "execution_count": 37,
   "id": "fb5573a8",
   "metadata": {
    "execution": {
     "iopub.execute_input": "2023-04-16T18:21:55.685700Z",
     "iopub.status.busy": "2023-04-16T18:21:55.684441Z",
     "iopub.status.idle": "2023-04-16T18:21:55.716992Z",
     "shell.execute_reply": "2023-04-16T18:21:55.715608Z"
    },
    "papermill": {
     "duration": 0.069817,
     "end_time": "2023-04-16T18:21:55.727066",
     "exception": false,
     "start_time": "2023-04-16T18:21:55.657249",
     "status": "completed"
    },
    "tags": []
   },
   "outputs": [
    {
     "data": {
      "text/html": [
       "<table class=\"dataframe\">\n",
       "<caption>A tibble: 6 × 4</caption>\n",
       "<thead>\n",
       "\t<tr><th scope=col>Id</th><th scope=col>avgSleepHours</th><th scope=col>avgHoursInBed</th><th scope=col>avgMinsToFallAsleep</th></tr>\n",
       "\t<tr><th scope=col>&lt;chr&gt;</th><th scope=col>&lt;dbl&gt;</th><th scope=col>&lt;dbl&gt;</th><th scope=col>&lt;dbl&gt;</th></tr>\n",
       "</thead>\n",
       "<tbody>\n",
       "\t<tr><td>1503960366</td><td> 6.000000</td><td> 6.383333</td><td> 23</td></tr>\n",
       "\t<tr><td>1644430081</td><td> 4.900000</td><td> 5.766667</td><td> 52</td></tr>\n",
       "\t<tr><td>1844505072</td><td>10.866667</td><td>16.016667</td><td>309</td></tr>\n",
       "\t<tr><td>1927972279</td><td> 6.950000</td><td> 7.300000</td><td> 21</td></tr>\n",
       "\t<tr><td>2026352035</td><td> 8.433333</td><td> 8.966667</td><td> 32</td></tr>\n",
       "\t<tr><td>2320127002</td><td> 1.016667</td><td> 1.150000</td><td>  8</td></tr>\n",
       "</tbody>\n",
       "</table>\n"
      ],
      "text/latex": [
       "A tibble: 6 × 4\n",
       "\\begin{tabular}{llll}\n",
       " Id & avgSleepHours & avgHoursInBed & avgMinsToFallAsleep\\\\\n",
       " <chr> & <dbl> & <dbl> & <dbl>\\\\\n",
       "\\hline\n",
       "\t 1503960366 &  6.000000 &  6.383333 &  23\\\\\n",
       "\t 1644430081 &  4.900000 &  5.766667 &  52\\\\\n",
       "\t 1844505072 & 10.866667 & 16.016667 & 309\\\\\n",
       "\t 1927972279 &  6.950000 &  7.300000 &  21\\\\\n",
       "\t 2026352035 &  8.433333 &  8.966667 &  32\\\\\n",
       "\t 2320127002 &  1.016667 &  1.150000 &   8\\\\\n",
       "\\end{tabular}\n"
      ],
      "text/markdown": [
       "\n",
       "A tibble: 6 × 4\n",
       "\n",
       "| Id &lt;chr&gt; | avgSleepHours &lt;dbl&gt; | avgHoursInBed &lt;dbl&gt; | avgMinsToFallAsleep &lt;dbl&gt; |\n",
       "|---|---|---|---|\n",
       "| 1503960366 |  6.000000 |  6.383333 |  23 |\n",
       "| 1644430081 |  4.900000 |  5.766667 |  52 |\n",
       "| 1844505072 | 10.866667 | 16.016667 | 309 |\n",
       "| 1927972279 |  6.950000 |  7.300000 |  21 |\n",
       "| 2026352035 |  8.433333 |  8.966667 |  32 |\n",
       "| 2320127002 |  1.016667 |  1.150000 |   8 |\n",
       "\n"
      ],
      "text/plain": [
       "  Id         avgSleepHours avgHoursInBed avgMinsToFallAsleep\n",
       "1 1503960366  6.000000      6.383333      23                \n",
       "2 1644430081  4.900000      5.766667      52                \n",
       "3 1844505072 10.866667     16.016667     309                \n",
       "4 1927972279  6.950000      7.300000      21                \n",
       "5 2026352035  8.433333      8.966667      32                \n",
       "6 2320127002  1.016667      1.150000       8                "
      ]
     },
     "metadata": {},
     "output_type": "display_data"
    }
   ],
   "source": [
    "#Calculating the average hours users are asleep, average hours in bed, and average minutes taken to fall asleep\n",
    "sleepMeans <- sleepDay %>%\n",
    "group_by(Id) %>%\n",
    "summarize(avgSleepHours = round(mean(TotalMinutesAsleep)), avgHoursInBed = round(mean(TotalTimeInBed)))%>%\n",
    "mutate(avgSleepHours = avgSleepHours/60, avgHoursInBed = avgHoursInBed/60, avgMinsToFallAsleep = (avgHoursInBed - avgSleepHours)*60)\n",
    "\n",
    "head(sleepMeans)"
   ]
  },
  {
   "cell_type": "code",
   "execution_count": 38,
   "id": "319c9c59",
   "metadata": {
    "execution": {
     "iopub.execute_input": "2023-04-16T18:21:55.781563Z",
     "iopub.status.busy": "2023-04-16T18:21:55.780406Z",
     "iopub.status.idle": "2023-04-16T18:21:55.809282Z",
     "shell.execute_reply": "2023-04-16T18:21:55.807872Z"
    },
    "papermill": {
     "duration": 0.058175,
     "end_time": "2023-04-16T18:21:55.811135",
     "exception": false,
     "start_time": "2023-04-16T18:21:55.752960",
     "status": "completed"
    },
    "tags": []
   },
   "outputs": [
    {
     "data": {
      "text/html": [
       "<table class=\"dataframe\">\n",
       "<caption>A data.frame: 6 × 5</caption>\n",
       "<thead>\n",
       "\t<tr><th></th><th scope=col>Id</th><th scope=col>avgSleepHours</th><th scope=col>avgHoursInBed</th><th scope=col>avgMinsToFallAsleep</th><th scope=col>sleepLogCount</th></tr>\n",
       "\t<tr><th></th><th scope=col>&lt;chr&gt;</th><th scope=col>&lt;dbl&gt;</th><th scope=col>&lt;dbl&gt;</th><th scope=col>&lt;dbl&gt;</th><th scope=col>&lt;int&gt;</th></tr>\n",
       "</thead>\n",
       "<tbody>\n",
       "\t<tr><th scope=row>1</th><td>1503960366</td><td>6.000000</td><td>6.383333</td><td> 23</td><td>25</td></tr>\n",
       "\t<tr><th scope=row>2</th><td>1927972279</td><td>6.950000</td><td>7.300000</td><td> 21</td><td> 5</td></tr>\n",
       "\t<tr><th scope=row>3</th><td>2026352035</td><td>8.433333</td><td>8.966667</td><td> 32</td><td>28</td></tr>\n",
       "\t<tr><th scope=row>4</th><td>2347167796</td><td>7.450000</td><td>8.183333</td><td> 44</td><td>15</td></tr>\n",
       "\t<tr><th scope=row>5</th><td>3977333714</td><td>4.900000</td><td>7.683333</td><td>167</td><td>28</td></tr>\n",
       "\t<tr><th scope=row>6</th><td>4020332650</td><td>5.816667</td><td>6.333333</td><td> 31</td><td> 8</td></tr>\n",
       "</tbody>\n",
       "</table>\n"
      ],
      "text/latex": [
       "A data.frame: 6 × 5\n",
       "\\begin{tabular}{r|lllll}\n",
       "  & Id & avgSleepHours & avgHoursInBed & avgMinsToFallAsleep & sleepLogCount\\\\\n",
       "  & <chr> & <dbl> & <dbl> & <dbl> & <int>\\\\\n",
       "\\hline\n",
       "\t1 & 1503960366 & 6.000000 & 6.383333 &  23 & 25\\\\\n",
       "\t2 & 1927972279 & 6.950000 & 7.300000 &  21 &  5\\\\\n",
       "\t3 & 2026352035 & 8.433333 & 8.966667 &  32 & 28\\\\\n",
       "\t4 & 2347167796 & 7.450000 & 8.183333 &  44 & 15\\\\\n",
       "\t5 & 3977333714 & 4.900000 & 7.683333 & 167 & 28\\\\\n",
       "\t6 & 4020332650 & 5.816667 & 6.333333 &  31 &  8\\\\\n",
       "\\end{tabular}\n"
      ],
      "text/markdown": [
       "\n",
       "A data.frame: 6 × 5\n",
       "\n",
       "| <!--/--> | Id &lt;chr&gt; | avgSleepHours &lt;dbl&gt; | avgHoursInBed &lt;dbl&gt; | avgMinsToFallAsleep &lt;dbl&gt; | sleepLogCount &lt;int&gt; |\n",
       "|---|---|---|---|---|---|\n",
       "| 1 | 1503960366 | 6.000000 | 6.383333 |  23 | 25 |\n",
       "| 2 | 1927972279 | 6.950000 | 7.300000 |  21 |  5 |\n",
       "| 3 | 2026352035 | 8.433333 | 8.966667 |  32 | 28 |\n",
       "| 4 | 2347167796 | 7.450000 | 8.183333 |  44 | 15 |\n",
       "| 5 | 3977333714 | 4.900000 | 7.683333 | 167 | 28 |\n",
       "| 6 | 4020332650 | 5.816667 | 6.333333 |  31 |  8 |\n",
       "\n"
      ],
      "text/plain": [
       "  Id         avgSleepHours avgHoursInBed avgMinsToFallAsleep sleepLogCount\n",
       "1 1503960366 6.000000      6.383333       23                 25           \n",
       "2 1927972279 6.950000      7.300000       21                  5           \n",
       "3 2026352035 8.433333      8.966667       32                 28           \n",
       "4 2347167796 7.450000      8.183333       44                 15           \n",
       "5 3977333714 4.900000      7.683333      167                 28           \n",
       "6 4020332650 5.816667      6.333333       31                  8           "
      ]
     },
     "metadata": {},
     "output_type": "display_data"
    }
   ],
   "source": [
    "#Filtering out users who did not log sleep at least 5 times, as they may skew results\n",
    "sleepCountAndAvg <- merge(sleepMeans, sleepLogs, by = \"Id\")\n",
    "sleepCountAndAvg <- filter(sleepCountAndAvg, sleepLogCount >= 5)\n",
    "head(sleepCountAndAvg)"
   ]
  },
  {
   "cell_type": "code",
   "execution_count": 39,
   "id": "a5f2aa59",
   "metadata": {
    "execution": {
     "iopub.execute_input": "2023-04-16T18:21:55.865440Z",
     "iopub.status.busy": "2023-04-16T18:21:55.864079Z",
     "iopub.status.idle": "2023-04-16T18:21:55.891350Z",
     "shell.execute_reply": "2023-04-16T18:21:55.890084Z"
    },
    "papermill": {
     "duration": 0.055964,
     "end_time": "2023-04-16T18:21:55.893528",
     "exception": false,
     "start_time": "2023-04-16T18:21:55.837564",
     "status": "completed"
    },
    "tags": []
   },
   "outputs": [
    {
     "data": {
      "text/html": [
       "<table class=\"dataframe\">\n",
       "<caption>A data.frame: 18 × 6</caption>\n",
       "<thead>\n",
       "\t<tr><th scope=col>Id</th><th scope=col>avgSleepHours</th><th scope=col>avgHoursInBed</th><th scope=col>avgMinsToFallAsleep</th><th scope=col>sleepLogCount</th><th scope=col>AvgMinsPerWeek</th></tr>\n",
       "\t<tr><th scope=col>&lt;chr&gt;</th><th scope=col>&lt;dbl&gt;</th><th scope=col>&lt;dbl&gt;</th><th scope=col>&lt;dbl&gt;</th><th scope=col>&lt;int&gt;</th><th scope=col>&lt;dbl&gt;</th></tr>\n",
       "</thead>\n",
       "<tbody>\n",
       "\t<tr><td>1503960366</td><td>6.000000</td><td>6.383333</td><td> 23</td><td>25</td><td>438.33333</td></tr>\n",
       "\t<tr><td>1927972279</td><td>6.950000</td><td>7.300000</td><td> 21</td><td> 5</td><td> 18.66667</td></tr>\n",
       "\t<tr><td>2026352035</td><td>8.433333</td><td>8.966667</td><td> 32</td><td>28</td><td>  0.00000</td></tr>\n",
       "\t<tr><td>2347167796</td><td>7.450000</td><td>8.183333</td><td> 44</td><td>15</td><td>150.50000</td></tr>\n",
       "\t<tr><td>3977333714</td><td>4.900000</td><td>7.683333</td><td>167</td><td>28</td><td>582.33333</td></tr>\n",
       "\t<tr><td>4020332650</td><td>5.816667</td><td>6.333333</td><td> 31</td><td> 8</td><td> 50.00000</td></tr>\n",
       "\t<tr><td>4319703577</td><td>7.950000</td><td>8.366667</td><td> 25</td><td>26</td><td>136.00000</td></tr>\n",
       "\t<tr><td>4388161847</td><td>6.666667</td><td>7.050000</td><td> 23</td><td>23</td><td>398.66667</td></tr>\n",
       "\t<tr><td>4445114986</td><td>6.416667</td><td>6.950000</td><td> 32</td><td>28</td><td> 67.66667</td></tr>\n",
       "\t<tr><td>4558609924</td><td>2.133333</td><td>2.333333</td><td> 12</td><td> 5</td><td>176.00000</td></tr>\n",
       "\t<tr><td>4702921684</td><td>6.950000</td><td>7.300000</td><td> 21</td><td>27</td><td>250.33333</td></tr>\n",
       "\t<tr><td>5553957443</td><td>7.716667</td><td>8.433333</td><td> 43</td><td>31</td><td>234.33333</td></tr>\n",
       "\t<tr><td>5577150313</td><td>7.200000</td><td>7.683333</td><td> 29</td><td>26</td><td>782.33333</td></tr>\n",
       "\t<tr><td>6117666160</td><td>7.983333</td><td>8.500000</td><td> 31</td><td>18</td><td> 24.33333</td></tr>\n",
       "\t<tr><td>6962181067</td><td>7.466667</td><td>7.766667</td><td> 18</td><td>31</td><td>305.00000</td></tr>\n",
       "\t<tr><td>7086361926</td><td>7.550000</td><td>7.766667</td><td> 13</td><td>24</td><td>516.00000</td></tr>\n",
       "\t<tr><td>8378563200</td><td>7.416667</td><td>8.100000</td><td> 41</td><td>31</td><td>453.00000</td></tr>\n",
       "\t<tr><td>8792009665</td><td>7.266667</td><td>7.566667</td><td> 18</td><td>15</td><td> 48.33333</td></tr>\n",
       "</tbody>\n",
       "</table>\n"
      ],
      "text/latex": [
       "A data.frame: 18 × 6\n",
       "\\begin{tabular}{llllll}\n",
       " Id & avgSleepHours & avgHoursInBed & avgMinsToFallAsleep & sleepLogCount & AvgMinsPerWeek\\\\\n",
       " <chr> & <dbl> & <dbl> & <dbl> & <int> & <dbl>\\\\\n",
       "\\hline\n",
       "\t 1503960366 & 6.000000 & 6.383333 &  23 & 25 & 438.33333\\\\\n",
       "\t 1927972279 & 6.950000 & 7.300000 &  21 &  5 &  18.66667\\\\\n",
       "\t 2026352035 & 8.433333 & 8.966667 &  32 & 28 &   0.00000\\\\\n",
       "\t 2347167796 & 7.450000 & 8.183333 &  44 & 15 & 150.50000\\\\\n",
       "\t 3977333714 & 4.900000 & 7.683333 & 167 & 28 & 582.33333\\\\\n",
       "\t 4020332650 & 5.816667 & 6.333333 &  31 &  8 &  50.00000\\\\\n",
       "\t 4319703577 & 7.950000 & 8.366667 &  25 & 26 & 136.00000\\\\\n",
       "\t 4388161847 & 6.666667 & 7.050000 &  23 & 23 & 398.66667\\\\\n",
       "\t 4445114986 & 6.416667 & 6.950000 &  32 & 28 &  67.66667\\\\\n",
       "\t 4558609924 & 2.133333 & 2.333333 &  12 &  5 & 176.00000\\\\\n",
       "\t 4702921684 & 6.950000 & 7.300000 &  21 & 27 & 250.33333\\\\\n",
       "\t 5553957443 & 7.716667 & 8.433333 &  43 & 31 & 234.33333\\\\\n",
       "\t 5577150313 & 7.200000 & 7.683333 &  29 & 26 & 782.33333\\\\\n",
       "\t 6117666160 & 7.983333 & 8.500000 &  31 & 18 &  24.33333\\\\\n",
       "\t 6962181067 & 7.466667 & 7.766667 &  18 & 31 & 305.00000\\\\\n",
       "\t 7086361926 & 7.550000 & 7.766667 &  13 & 24 & 516.00000\\\\\n",
       "\t 8378563200 & 7.416667 & 8.100000 &  41 & 31 & 453.00000\\\\\n",
       "\t 8792009665 & 7.266667 & 7.566667 &  18 & 15 &  48.33333\\\\\n",
       "\\end{tabular}\n"
      ],
      "text/markdown": [
       "\n",
       "A data.frame: 18 × 6\n",
       "\n",
       "| Id &lt;chr&gt; | avgSleepHours &lt;dbl&gt; | avgHoursInBed &lt;dbl&gt; | avgMinsToFallAsleep &lt;dbl&gt; | sleepLogCount &lt;int&gt; | AvgMinsPerWeek &lt;dbl&gt; |\n",
       "|---|---|---|---|---|---|\n",
       "| 1503960366 | 6.000000 | 6.383333 |  23 | 25 | 438.33333 |\n",
       "| 1927972279 | 6.950000 | 7.300000 |  21 |  5 |  18.66667 |\n",
       "| 2026352035 | 8.433333 | 8.966667 |  32 | 28 |   0.00000 |\n",
       "| 2347167796 | 7.450000 | 8.183333 |  44 | 15 | 150.50000 |\n",
       "| 3977333714 | 4.900000 | 7.683333 | 167 | 28 | 582.33333 |\n",
       "| 4020332650 | 5.816667 | 6.333333 |  31 |  8 |  50.00000 |\n",
       "| 4319703577 | 7.950000 | 8.366667 |  25 | 26 | 136.00000 |\n",
       "| 4388161847 | 6.666667 | 7.050000 |  23 | 23 | 398.66667 |\n",
       "| 4445114986 | 6.416667 | 6.950000 |  32 | 28 |  67.66667 |\n",
       "| 4558609924 | 2.133333 | 2.333333 |  12 |  5 | 176.00000 |\n",
       "| 4702921684 | 6.950000 | 7.300000 |  21 | 27 | 250.33333 |\n",
       "| 5553957443 | 7.716667 | 8.433333 |  43 | 31 | 234.33333 |\n",
       "| 5577150313 | 7.200000 | 7.683333 |  29 | 26 | 782.33333 |\n",
       "| 6117666160 | 7.983333 | 8.500000 |  31 | 18 |  24.33333 |\n",
       "| 6962181067 | 7.466667 | 7.766667 |  18 | 31 | 305.00000 |\n",
       "| 7086361926 | 7.550000 | 7.766667 |  13 | 24 | 516.00000 |\n",
       "| 8378563200 | 7.416667 | 8.100000 |  41 | 31 | 453.00000 |\n",
       "| 8792009665 | 7.266667 | 7.566667 |  18 | 15 |  48.33333 |\n",
       "\n"
      ],
      "text/plain": [
       "   Id         avgSleepHours avgHoursInBed avgMinsToFallAsleep sleepLogCount\n",
       "1  1503960366 6.000000      6.383333       23                 25           \n",
       "2  1927972279 6.950000      7.300000       21                  5           \n",
       "3  2026352035 8.433333      8.966667       32                 28           \n",
       "4  2347167796 7.450000      8.183333       44                 15           \n",
       "5  3977333714 4.900000      7.683333      167                 28           \n",
       "6  4020332650 5.816667      6.333333       31                  8           \n",
       "7  4319703577 7.950000      8.366667       25                 26           \n",
       "8  4388161847 6.666667      7.050000       23                 23           \n",
       "9  4445114986 6.416667      6.950000       32                 28           \n",
       "10 4558609924 2.133333      2.333333       12                  5           \n",
       "11 4702921684 6.950000      7.300000       21                 27           \n",
       "12 5553957443 7.716667      8.433333       43                 31           \n",
       "13 5577150313 7.200000      7.683333       29                 26           \n",
       "14 6117666160 7.983333      8.500000       31                 18           \n",
       "15 6962181067 7.466667      7.766667       18                 31           \n",
       "16 7086361926 7.550000      7.766667       13                 24           \n",
       "17 8378563200 7.416667      8.100000       41                 31           \n",
       "18 8792009665 7.266667      7.566667       18                 15           \n",
       "   AvgMinsPerWeek\n",
       "1  438.33333     \n",
       "2   18.66667     \n",
       "3    0.00000     \n",
       "4  150.50000     \n",
       "5  582.33333     \n",
       "6   50.00000     \n",
       "7  136.00000     \n",
       "8  398.66667     \n",
       "9   67.66667     \n",
       "10 176.00000     \n",
       "11 250.33333     \n",
       "12 234.33333     \n",
       "13 782.33333     \n",
       "14  24.33333     \n",
       "15 305.00000     \n",
       "16 516.00000     \n",
       "17 453.00000     \n",
       "18  48.33333     "
      ]
     },
     "metadata": {},
     "output_type": "display_data"
    }
   ],
   "source": [
    "#Merging the sleep data with the activity data for further analysis\n",
    "activityAndSleep <- merge(sleepCountAndAvg, userAvgWeekMins, by = \"Id\")\n",
    "activityAndSleep"
   ]
  },
  {
   "cell_type": "code",
   "execution_count": 40,
   "id": "4a5578ac",
   "metadata": {
    "execution": {
     "iopub.execute_input": "2023-04-16T18:21:55.947571Z",
     "iopub.status.busy": "2023-04-16T18:21:55.946320Z",
     "iopub.status.idle": "2023-04-16T18:21:56.132061Z",
     "shell.execute_reply": "2023-04-16T18:21:56.130678Z"
    },
    "papermill": {
     "duration": 0.214503,
     "end_time": "2023-04-16T18:21:56.133845",
     "exception": false,
     "start_time": "2023-04-16T18:21:55.919342",
     "status": "completed"
    },
    "tags": []
   },
   "outputs": [
    {
     "data": {
      "image/png": "[encoded data removed]"
     },
     "metadata": {
      "image/png": {
       "height": 420,
       "width": 420
      }
     },
     "output_type": "display_data"
    }
   ],
   "source": [
    "#Now let's plot how much users get on a box plot\n",
    "ggplot(activityAndSleep, aes(y = avgSleepHours)) +\n",
    "  geom_boxplot(fill = \"blue\", color = \"black\", alpha = 0.7) +\n",
    "  ggtitle(\"Average amount of sleep users get\")"
   ]
  },
  {
   "cell_type": "markdown",
   "id": "184f302a",
   "metadata": {
    "papermill": {
     "duration": 0.028656,
     "end_time": "2023-04-16T18:21:56.188839",
     "exception": false,
     "start_time": "2023-04-16T18:21:56.160183",
     "status": "completed"
    },
    "tags": []
   },
   "source": [
    "We can see through the boxplot that users get good sleep in general, with almost all users getting between 6 to 8 hours of sleep. This result may be slightly skewed as the users who chose to use the sleep tracking function might be more attentive to their sleep health, and so have healthier sleep habits."
   ]
  },
  {
   "cell_type": "markdown",
   "id": "60be510b",
   "metadata": {
    "papermill": {
     "duration": 0.026532,
     "end_time": "2023-04-16T18:21:56.242362",
     "exception": false,
     "start_time": "2023-04-16T18:21:56.215830",
     "status": "completed"
    },
    "tags": []
   },
   "source": [
    "### 5.2.3 Are users taking too long to fall asleep"
   ]
  },
  {
   "cell_type": "code",
   "execution_count": 41,
   "id": "c1f91ab5",
   "metadata": {
    "execution": {
     "iopub.execute_input": "2023-04-16T18:21:56.298063Z",
     "iopub.status.busy": "2023-04-16T18:21:56.296887Z",
     "iopub.status.idle": "2023-04-16T18:21:56.527073Z",
     "shell.execute_reply": "2023-04-16T18:21:56.524955Z"
    },
    "papermill": {
     "duration": 0.260848,
     "end_time": "2023-04-16T18:21:56.529590",
     "exception": false,
     "start_time": "2023-04-16T18:21:56.268742",
     "status": "completed"
    },
    "tags": []
   },
   "outputs": [
    {
     "data": {
      "text/html": [
       "13"
      ],
      "text/latex": [
       "13"
      ],
      "text/markdown": [
       "13"
      ],
      "text/plain": [
       "[1] 13"
      ]
     },
     "metadata": {},
     "output_type": "display_data"
    },
    {
     "data": {
      "image/png": "[encoded data removed]"
     },
     "metadata": {
      "image/png": {
       "height": 420,
       "width": 420
      }
     },
     "output_type": "display_data"
    }
   ],
   "source": [
    "#Filtering out any potential outliers who take more than 1.5 hours to fall asleep\n",
    "activityAndSleep <- filter(activityAndSleep, avgMinsToFallAsleep < 90)\n",
    "\n",
    "activityAndSleep$Id <- factor(activityAndSleep$Id, levels = activityAndSleep$Id[order(activityAndSleep$avgMinsToFallAsleep)])\n",
    "\n",
    "ggplot(activityAndSleep, aes(x = Id, y=avgMinsToFallAsleep, fill = Id)) +\n",
    "  scale_y_continuous(breaks= pretty_breaks())+\n",
    "  geom_bar(stat=\"identity\", fill = \"blue\", alpha = 0.75) +\n",
    "  geom_hline(yintercept = 20, color = \"red\", linetype = \"dashed\")+\n",
    "  theme_bw()+\n",
    "  theme(panel.grid.major = element_blank(),\n",
    "    panel.grid.minor = element_blank(),\n",
    "        axis.text.x = element_blank())+\n",
    "  labs(title = \"Time taken for each user to fall asleep\", x = \"Users\")\n",
    "\n",
    "sum(activityAndSleep$avgMinsToFallAsleep > 20)\n"
   ]
  },
  {
   "cell_type": "markdown",
   "id": "aecbf068",
   "metadata": {
    "papermill": {
     "duration": 0.027036,
     "end_time": "2023-04-16T18:21:56.584769",
     "exception": false,
     "start_time": "2023-04-16T18:21:56.557733",
     "status": "completed"
    },
    "tags": []
   },
   "source": [
    "11/14 users take longer than 20 mins to fall asleep (12/15 if you count the outlier).\n",
    "\n",
    "\n",
    "Medical research suggests that people should fall asleep within 20 minutes, and anything more than that could be a symptom of insomnia.\n",
    "\n",
    "\n",
    "Medical research also suggests that taking longer than 20 minutes to fall asleep follows a trend where an increasing number of people are suffering from insomnia in the modern age.\n",
    "This could be due to a multitude of reasons including: \n",
    "* The use of smart devices which exposes users to blue light\n",
    "* Lack of excercise (however, we know from our earlier chart that our users are getting enough exercise)\n",
    "* Increased stress from work and modern life\n",
    "* City lifestyle with bright lights and noises\n",
    "\n",
    "\n",
    "Knowing this, Bellabeat could implement features on the app such as giving a notification 1 hour before bed time, a reminder to turn on night light features on the phone, or perhaps even offer content through their app, such as meditation instructional videos, or articles with tips on how to fall asleep faster.\n",
    "\n",
    "\n",
    "Additionally, Bellabeat could add a new tracking feature that calculates the time it takes users to fall asleep, in a similar process to the analysis done above, which would let users know if they are having trouble falling asleep.\n",
    "\n",
    "\n",
    "Link:\n",
    "https://www.mountsinai.org/health-library/diseases-conditions/insomnia-overview#:~:text=Poor%20sleeping%20environment%2C%20such%20as,Not%20getting%20enough%20exercise\n",
    "\n"
   ]
  },
  {
   "cell_type": "markdown",
   "id": "02c49e76",
   "metadata": {
    "papermill": {
     "duration": 0.026941,
     "end_time": "2023-04-16T18:21:56.638607",
     "exception": false,
     "start_time": "2023-04-16T18:21:56.611666",
     "status": "completed"
    },
    "tags": []
   },
   "source": [
    "### 5.2.3.1 Is there a correlation between activity minutes and time take to fall asleep\n",
    "Research suggests that physical activity has a positive effect on sleep. We can look at the data to see if this correlation is true for the users in the dataset."
   ]
  },
  {
   "cell_type": "code",
   "execution_count": 42,
   "id": "48567665",
   "metadata": {
    "execution": {
     "iopub.execute_input": "2023-04-16T18:21:56.695009Z",
     "iopub.status.busy": "2023-04-16T18:21:56.693864Z",
     "iopub.status.idle": "2023-04-16T18:21:56.722908Z",
     "shell.execute_reply": "2023-04-16T18:21:56.720865Z"
    },
    "papermill": {
     "duration": 0.059633,
     "end_time": "2023-04-16T18:21:56.725216",
     "exception": false,
     "start_time": "2023-04-16T18:21:56.665583",
     "status": "completed"
    },
    "tags": []
   },
   "outputs": [
    {
     "data": {
      "text/html": [
       "<table class=\"dataframe\">\n",
       "<caption>A data.frame: 18 × 6</caption>\n",
       "<thead>\n",
       "\t<tr><th scope=col>Id</th><th scope=col>avgSleepHours</th><th scope=col>avgHoursInBed</th><th scope=col>avgMinsToFallAsleep</th><th scope=col>sleepLogCount</th><th scope=col>AvgMinsPerWeek</th></tr>\n",
       "\t<tr><th scope=col>&lt;chr&gt;</th><th scope=col>&lt;dbl&gt;</th><th scope=col>&lt;dbl&gt;</th><th scope=col>&lt;dbl&gt;</th><th scope=col>&lt;int&gt;</th><th scope=col>&lt;dbl&gt;</th></tr>\n",
       "</thead>\n",
       "<tbody>\n",
       "\t<tr><td>1503960366</td><td>6.000000</td><td>6.383333</td><td> 23</td><td>25</td><td>438.33333</td></tr>\n",
       "\t<tr><td>1927972279</td><td>6.950000</td><td>7.300000</td><td> 21</td><td> 5</td><td> 18.66667</td></tr>\n",
       "\t<tr><td>2026352035</td><td>8.433333</td><td>8.966667</td><td> 32</td><td>28</td><td>  0.00000</td></tr>\n",
       "\t<tr><td>2347167796</td><td>7.450000</td><td>8.183333</td><td> 44</td><td>15</td><td>150.50000</td></tr>\n",
       "\t<tr><td>3977333714</td><td>4.900000</td><td>7.683333</td><td>167</td><td>28</td><td>582.33333</td></tr>\n",
       "\t<tr><td>4020332650</td><td>5.816667</td><td>6.333333</td><td> 31</td><td> 8</td><td> 50.00000</td></tr>\n",
       "\t<tr><td>4319703577</td><td>7.950000</td><td>8.366667</td><td> 25</td><td>26</td><td>136.00000</td></tr>\n",
       "\t<tr><td>4388161847</td><td>6.666667</td><td>7.050000</td><td> 23</td><td>23</td><td>398.66667</td></tr>\n",
       "\t<tr><td>4445114986</td><td>6.416667</td><td>6.950000</td><td> 32</td><td>28</td><td> 67.66667</td></tr>\n",
       "\t<tr><td>4558609924</td><td>2.133333</td><td>2.333333</td><td> 12</td><td> 5</td><td>176.00000</td></tr>\n",
       "\t<tr><td>4702921684</td><td>6.950000</td><td>7.300000</td><td> 21</td><td>27</td><td>250.33333</td></tr>\n",
       "\t<tr><td>5553957443</td><td>7.716667</td><td>8.433333</td><td> 43</td><td>31</td><td>234.33333</td></tr>\n",
       "\t<tr><td>5577150313</td><td>7.200000</td><td>7.683333</td><td> 29</td><td>26</td><td>782.33333</td></tr>\n",
       "\t<tr><td>6117666160</td><td>7.983333</td><td>8.500000</td><td> 31</td><td>18</td><td> 24.33333</td></tr>\n",
       "\t<tr><td>6962181067</td><td>7.466667</td><td>7.766667</td><td> 18</td><td>31</td><td>305.00000</td></tr>\n",
       "\t<tr><td>7086361926</td><td>7.550000</td><td>7.766667</td><td> 13</td><td>24</td><td>516.00000</td></tr>\n",
       "\t<tr><td>8378563200</td><td>7.416667</td><td>8.100000</td><td> 41</td><td>31</td><td>453.00000</td></tr>\n",
       "\t<tr><td>8792009665</td><td>7.266667</td><td>7.566667</td><td> 18</td><td>15</td><td> 48.33333</td></tr>\n",
       "</tbody>\n",
       "</table>\n"
      ],
      "text/latex": [
       "A data.frame: 18 × 6\n",
       "\\begin{tabular}{llllll}\n",
       " Id & avgSleepHours & avgHoursInBed & avgMinsToFallAsleep & sleepLogCount & AvgMinsPerWeek\\\\\n",
       " <chr> & <dbl> & <dbl> & <dbl> & <int> & <dbl>\\\\\n",
       "\\hline\n",
       "\t 1503960366 & 6.000000 & 6.383333 &  23 & 25 & 438.33333\\\\\n",
       "\t 1927972279 & 6.950000 & 7.300000 &  21 &  5 &  18.66667\\\\\n",
       "\t 2026352035 & 8.433333 & 8.966667 &  32 & 28 &   0.00000\\\\\n",
       "\t 2347167796 & 7.450000 & 8.183333 &  44 & 15 & 150.50000\\\\\n",
       "\t 3977333714 & 4.900000 & 7.683333 & 167 & 28 & 582.33333\\\\\n",
       "\t 4020332650 & 5.816667 & 6.333333 &  31 &  8 &  50.00000\\\\\n",
       "\t 4319703577 & 7.950000 & 8.366667 &  25 & 26 & 136.00000\\\\\n",
       "\t 4388161847 & 6.666667 & 7.050000 &  23 & 23 & 398.66667\\\\\n",
       "\t 4445114986 & 6.416667 & 6.950000 &  32 & 28 &  67.66667\\\\\n",
       "\t 4558609924 & 2.133333 & 2.333333 &  12 &  5 & 176.00000\\\\\n",
       "\t 4702921684 & 6.950000 & 7.300000 &  21 & 27 & 250.33333\\\\\n",
       "\t 5553957443 & 7.716667 & 8.433333 &  43 & 31 & 234.33333\\\\\n",
       "\t 5577150313 & 7.200000 & 7.683333 &  29 & 26 & 782.33333\\\\\n",
       "\t 6117666160 & 7.983333 & 8.500000 &  31 & 18 &  24.33333\\\\\n",
       "\t 6962181067 & 7.466667 & 7.766667 &  18 & 31 & 305.00000\\\\\n",
       "\t 7086361926 & 7.550000 & 7.766667 &  13 & 24 & 516.00000\\\\\n",
       "\t 8378563200 & 7.416667 & 8.100000 &  41 & 31 & 453.00000\\\\\n",
       "\t 8792009665 & 7.266667 & 7.566667 &  18 & 15 &  48.33333\\\\\n",
       "\\end{tabular}\n"
      ],
      "text/markdown": [
       "\n",
       "A data.frame: 18 × 6\n",
       "\n",
       "| Id &lt;chr&gt; | avgSleepHours &lt;dbl&gt; | avgHoursInBed &lt;dbl&gt; | avgMinsToFallAsleep &lt;dbl&gt; | sleepLogCount &lt;int&gt; | AvgMinsPerWeek &lt;dbl&gt; |\n",
       "|---|---|---|---|---|---|\n",
       "| 1503960366 | 6.000000 | 6.383333 |  23 | 25 | 438.33333 |\n",
       "| 1927972279 | 6.950000 | 7.300000 |  21 |  5 |  18.66667 |\n",
       "| 2026352035 | 8.433333 | 8.966667 |  32 | 28 |   0.00000 |\n",
       "| 2347167796 | 7.450000 | 8.183333 |  44 | 15 | 150.50000 |\n",
       "| 3977333714 | 4.900000 | 7.683333 | 167 | 28 | 582.33333 |\n",
       "| 4020332650 | 5.816667 | 6.333333 |  31 |  8 |  50.00000 |\n",
       "| 4319703577 | 7.950000 | 8.366667 |  25 | 26 | 136.00000 |\n",
       "| 4388161847 | 6.666667 | 7.050000 |  23 | 23 | 398.66667 |\n",
       "| 4445114986 | 6.416667 | 6.950000 |  32 | 28 |  67.66667 |\n",
       "| 4558609924 | 2.133333 | 2.333333 |  12 |  5 | 176.00000 |\n",
       "| 4702921684 | 6.950000 | 7.300000 |  21 | 27 | 250.33333 |\n",
       "| 5553957443 | 7.716667 | 8.433333 |  43 | 31 | 234.33333 |\n",
       "| 5577150313 | 7.200000 | 7.683333 |  29 | 26 | 782.33333 |\n",
       "| 6117666160 | 7.983333 | 8.500000 |  31 | 18 |  24.33333 |\n",
       "| 6962181067 | 7.466667 | 7.766667 |  18 | 31 | 305.00000 |\n",
       "| 7086361926 | 7.550000 | 7.766667 |  13 | 24 | 516.00000 |\n",
       "| 8378563200 | 7.416667 | 8.100000 |  41 | 31 | 453.00000 |\n",
       "| 8792009665 | 7.266667 | 7.566667 |  18 | 15 |  48.33333 |\n",
       "\n"
      ],
      "text/plain": [
       "   Id         avgSleepHours avgHoursInBed avgMinsToFallAsleep sleepLogCount\n",
       "1  1503960366 6.000000      6.383333       23                 25           \n",
       "2  1927972279 6.950000      7.300000       21                  5           \n",
       "3  2026352035 8.433333      8.966667       32                 28           \n",
       "4  2347167796 7.450000      8.183333       44                 15           \n",
       "5  3977333714 4.900000      7.683333      167                 28           \n",
       "6  4020332650 5.816667      6.333333       31                  8           \n",
       "7  4319703577 7.950000      8.366667       25                 26           \n",
       "8  4388161847 6.666667      7.050000       23                 23           \n",
       "9  4445114986 6.416667      6.950000       32                 28           \n",
       "10 4558609924 2.133333      2.333333       12                  5           \n",
       "11 4702921684 6.950000      7.300000       21                 27           \n",
       "12 5553957443 7.716667      8.433333       43                 31           \n",
       "13 5577150313 7.200000      7.683333       29                 26           \n",
       "14 6117666160 7.983333      8.500000       31                 18           \n",
       "15 6962181067 7.466667      7.766667       18                 31           \n",
       "16 7086361926 7.550000      7.766667       13                 24           \n",
       "17 8378563200 7.416667      8.100000       41                 31           \n",
       "18 8792009665 7.266667      7.566667       18                 15           \n",
       "   AvgMinsPerWeek\n",
       "1  438.33333     \n",
       "2   18.66667     \n",
       "3    0.00000     \n",
       "4  150.50000     \n",
       "5  582.33333     \n",
       "6   50.00000     \n",
       "7  136.00000     \n",
       "8  398.66667     \n",
       "9   67.66667     \n",
       "10 176.00000     \n",
       "11 250.33333     \n",
       "12 234.33333     \n",
       "13 782.33333     \n",
       "14  24.33333     \n",
       "15 305.00000     \n",
       "16 516.00000     \n",
       "17 453.00000     \n",
       "18  48.33333     "
      ]
     },
     "metadata": {},
     "output_type": "display_data"
    }
   ],
   "source": [
    "#Seeing if avg activity minutes has a correlation with amount of time take to fall asleep, and amount of time asleep\n",
    "activityAndSleep <- merge(sleepCountAndAvg, userAvgWeekMins, by = \"Id\")\n",
    "activityAndSleep"
   ]
  },
  {
   "cell_type": "code",
   "execution_count": 43,
   "id": "d15995ed",
   "metadata": {
    "execution": {
     "iopub.execute_input": "2023-04-16T18:21:56.783330Z",
     "iopub.status.busy": "2023-04-16T18:21:56.782106Z",
     "iopub.status.idle": "2023-04-16T18:21:57.074132Z",
     "shell.execute_reply": "2023-04-16T18:21:57.072895Z"
    },
    "papermill": {
     "duration": 0.323422,
     "end_time": "2023-04-16T18:21:57.076506",
     "exception": false,
     "start_time": "2023-04-16T18:21:56.753084",
     "status": "completed"
    },
    "tags": []
   },
   "outputs": [
    {
     "name": "stderr",
     "output_type": "stream",
     "text": [
      "\u001b[1m\u001b[22m`geom_smooth()` using method = 'loess' and formula = 'y ~ x'\n"
     ]
    },
    {
     "data": {
      "image/png": "[encoded data removed]"
     },
     "metadata": {
      "image/png": {
       "height": 420,
       "width": 420
      }
     },
     "output_type": "display_data"
    }
   ],
   "source": [
    "filter(activityAndSleep, avgMinsToFallAsleep < 120) %>% ggplot(aes(x=avgMinsToFallAsleep, y=AvgMinsPerWeek)) + geom_point() + geom_smooth()+\n",
    "geom_vline(xintercept = 20, linetype = \"dashed\", color = \"red\")+\n",
    "  geom_point(alpha = 0.5, color = \"blue\")"
   ]
  },
  {
   "cell_type": "markdown",
   "id": "6bd9d810",
   "metadata": {
    "papermill": {
     "duration": 0.02813,
     "end_time": "2023-04-16T18:21:57.133636",
     "exception": false,
     "start_time": "2023-04-16T18:21:57.105506",
     "status": "completed"
    },
    "tags": []
   },
   "source": [
    "In the data, we see that there is no correlation between physical activity and time take to fall asleep."
   ]
  },
  {
   "cell_type": "markdown",
   "id": "cd94de91",
   "metadata": {
    "papermill": {
     "duration": 0.027565,
     "end_time": "2023-04-16T18:21:57.188528",
     "exception": false,
     "start_time": "2023-04-16T18:21:57.160963",
     "status": "completed"
    },
    "tags": []
   },
   "source": [
    "## 6. Conclusion to analysis (Act)\n",
    "Here, the key findings of the analysis will be summarised, and in addition, potential actions in reaction to these findings.\n",
    "\n",
    "**Usage behaviour:**\n",
    "1. Most users wear their device consistently\n",
    " * However, users tend to wear their devices less on weekdays, and more on weekends, particularly Friday\n",
    " * Potential reasons are that users tend to do more exercise on weekends, or more pertinently, that Fitbit devices do not fit the formal setting of the office, or that users deem it unfashionable\n",
    " * Recommendation:\n",
    " 1. Market Bellabeat wearables as fashionable devices, that do not look out of place, but still give you the data you need\n",
    "\n",
    " \n",
    "2. Significant number of users do not use the sleep tracking function\n",
    " * Through K-means clustering, we identify that users largely fall into 2 types - they either use the function regularly, or they do not use it at all\n",
    " * Potential reasons are that users might not value the function, find the wearing the device at night intrusive, or do not think it is accurate\n",
    " * Recommendations:\n",
    " 1. Ascertain why users do not use the sleep tracking often, and derive recommendations from there\n",
    " \n",
    " \n",
    "3. Significant number of users do not use the weight tracking function\n",
    " * Could be due to users finding it a hassle to link their device, or do not wish to buy a proprietary scale\n",
    "\n",
    "\n",
    "**Health metrics:**\n",
    "1. Significant number of users do not get enough moderate-intensity activity minutes each week\n",
    " * Could be due to not exercising vigorously enough\n",
    " * Recommendation:\n",
    "   1. Implement a feature that detects activity, and gives a heads-up notification if it is not vigorous enough\n",
    "\n",
    "\n",
    "2. Most users get enough sleep each night\n",
    "\n",
    "\n",
    "3. Significant number of users take too long to fall asleep each night\n",
    " * Could be due to modern lifestyles\n",
    " * No correlation between exercise and time taken to fall asleep\n",
    " * Recommendations:\n",
    "  1. Allow users to set a bed time, and give a reminder 1-2 hours in advance to allow users to prepare for sleep\n",
    "  2. Introduce a feature that tracks time taken to fall asleep, and notifies users if there is a pattern of taking too long to sleep\n",
    "  3. Provide in-app content such as meditation videos, or articles with tips on how to fall asleep faster"
   ]
  },
  {
   "cell_type": "markdown",
   "id": "ed0730ea",
   "metadata": {
    "papermill": {
     "duration": 0.02941,
     "end_time": "2023-04-16T18:21:57.245863",
     "exception": false,
     "start_time": "2023-04-16T18:21:57.216453",
     "status": "completed"
    },
    "tags": []
   },
   "source": [
    "### 6.1 Survey\n",
    "\n",
    "Above all else, the first thing Bellabeat should do is to attempt to verify and to add onto this analysis, through a survey, that would:\n",
    "\n",
    "1. Verify the findings above through an additional survey, either to existing Bellabeat users, or general wearable device wearing population, sampled in a manner that is representative of Bellabeat's target demographics.\n",
    "2. Also through the survey, add on to verifying the findings by finding causes for certain observed trends (e.g. why sleep tracking is not used often)\n",
    "3. Through those causes, an additional round of actionable recommendations for product/marketing strategy can be made"
   ]
  },
  {
   "cell_type": "markdown",
   "id": "01552af2",
   "metadata": {
    "papermill": {
     "duration": 0.028678,
     "end_time": "2023-04-16T18:21:57.303659",
     "exception": false,
     "start_time": "2023-04-16T18:21:57.274981",
     "status": "completed"
    },
    "tags": []
   },
   "source": [
    "### 6.2 Key findings\n",
    "\n",
    "**Usage behaviour:**\n",
    "1. Most users wear their device consistently\n",
    " * However, users tend to wear their devices less on weekdays, and more on weekends, particularly Friday\n",
    " * Potential reasons are that users tend to do more exercise on weekends, or more pertinently, that Fitbit devices do not fit the formal setting of the office, or that users deem it unfashionable\n",
    " * Recommendation:\n",
    " 1. Market Bellabeat wearables as fashionable devices, that do not look out of place, but still give you the data you need\n",
    "\n",
    " \n",
    "2. Significant number of users do not use the sleep tracking function\n",
    " * Through K-means clustering, we identify that users largely fall into 2 types - they either use the function regularly, or they do not use it at all\n",
    " * Potential reasons are that users might not value the function, find the wearing the device at night intrusive, or do not think it is accurate\n",
    " * Recommendations:\n",
    " 1. Ascertain why users do not use the sleep tracking often, and derive recommendations from there\n",
    " \n",
    " \n",
    "3. Significant number of users do not use the weight tracking function\n",
    " * Could be due to users finding it a hassle to link their device, or do not wish to buy a proprietary scale\n",
    "\n",
    "\n",
    "**Health metrics:**\n",
    "1. Significant number of users do not get enough moderate-intensity activity minutes each week\n",
    " * Could be due to not exercising vigorously enough\n",
    " * Recommendation:\n",
    "   1. Implement a feature that detects activity, and gives a heads-up notification if it is not vigorous enough\n",
    "\n",
    "\n",
    "2. Most users get enough sleep each night\n",
    "\n",
    "\n",
    "3. Significant number of users take too long to fall asleep each night\n",
    " * Could be due to modern lifestyles\n",
    " * No correlation between exercise and time taken to fall asleep\n",
    " * Recommendations:\n",
    "  1. Allow users to set a bed time, and give a reminder 1-2 hours in advance to allow users to prepare for sleep\n",
    "  2. Introduce a feature that tracks time taken to fall asleep, and notifies users if there is a pattern of taking too long to sleep\n",
    "  3. Provide in-app content such as meditation videos, or articles with tips on how to fall asleep faster"
   ]
  }
 ],
 "metadata": {
  "kernelspec": {
   "display_name": "R",
   "language": "R",
   "name": "ir"
  },
  "language_info": {
   "codemirror_mode": "r",
   "file_extension": ".r",
   "mimetype": "text/x-r-source",
   "name": "R",
   "pygments_lexer": "r",
   "version": "4.0.5"
  },
  "papermill": {
   "default_parameters": {},
   "duration": 14.66841,
   "end_time": "2023-04-16T18:21:57.452060",
   "environment_variables": {},
   "exception": null,
   "input_path": "__notebook__.ipynb",
   "output_path": "__notebook__.ipynb",
   "parameters": {},
   "start_time": "2023-04-16T18:21:42.783650",
   "version": "2.4.0"
  }
 },
 "nbformat": 4,
 "nbformat_minor": 5
}
